{
 "cells": [
  {
   "cell_type": "markdown",
   "id": "790ecb3c-fb64-4171-82a3-04a91c7929d2",
   "metadata": {},
   "source": [
    "### Library Import"
   ]
  },
  {
   "cell_type": "code",
   "execution_count": 160,
   "id": "7235ca6f-e0e2-449e-8a66-f7a4f5ee4250",
   "metadata": {},
   "outputs": [],
   "source": [
    "import pandas as pd\n",
    "import numpy as np\n",
    "import os\n",
    "\n",
    "from models.utility import load_input, scale_with_minmax, get_dates_from_config, handle_outliers, \\\n",
    "    get_params_from_config, dailydf_to_ts, inverse_transform_minmax, transform_dayofyear, write_DWH\n",
    "from models.lstm import simpleLSTM\n",
    "from models.deeplearner import DeepLearner\n",
    "\n",
    "from solutil import evaluations"
   ]
  },
  {
   "cell_type": "markdown",
   "id": "db011e61-c70c-4b10-b17b-5bcf8c9e65cf",
   "metadata": {},
   "source": [
    "### Input Preparation"
   ]
  },
  {
   "cell_type": "code",
   "execution_count": 161,
   "id": "f65c22cf-2bb2-4ec8-ac85-0407ffbddabd",
   "metadata": {},
   "outputs": [],
   "source": [
    "# Define global variables\n",
    "str_model = 'inlet3_lstm'"
   ]
  },
  {
   "cell_type": "code",
   "execution_count": 162,
   "id": "d4020f11-4d01-4da0-b2cd-b929983bdeed",
   "metadata": {},
   "outputs": [
    {
     "name": "stdout",
     "output_type": "stream",
     "text": [
      "base\n",
      "base_1d\n",
      "useday_1d\n",
      "temp_1h\n",
      "glob_1h\n",
      "rain_1h\n",
      "bf15_1h\n",
      "schmelz_1h\n"
     ]
    }
   ],
   "source": [
    "# Load Input Parameters\n",
    "dates = get_dates_from_config(str_model)\n",
    "df_variables = load_input(str_model=str_model, **dates)"
   ]
  },
  {
   "cell_type": "code",
   "execution_count": 163,
   "id": "0528c90e-34ab-4a88-b784-6d5d7201c56e",
   "metadata": {},
   "outputs": [
    {
     "data": {
      "text/html": [
       "<div>\n",
       "<style scoped>\n",
       "    .dataframe tbody tr th:only-of-type {\n",
       "        vertical-align: middle;\n",
       "    }\n",
       "\n",
       "    .dataframe tbody tr th {\n",
       "        vertical-align: top;\n",
       "    }\n",
       "\n",
       "    .dataframe thead th {\n",
       "        text-align: right;\n",
       "    }\n",
       "</style>\n",
       "<table border=\"1\" class=\"dataframe\">\n",
       "  <thead>\n",
       "    <tr style=\"text-align: right;\">\n",
       "      <th></th>\n",
       "      <th>base_lag0</th>\n",
       "      <th>base_1d_lag0</th>\n",
       "      <th>temp_1h_lag0</th>\n",
       "      <th>temp_1h_lag1</th>\n",
       "      <th>glob_1h_lag1</th>\n",
       "      <th>glob_1h_lag2</th>\n",
       "      <th>glob_1h_lag3</th>\n",
       "      <th>rain_1h_lag0</th>\n",
       "      <th>rain_1h_lag1</th>\n",
       "      <th>bf15_1h_lag0</th>\n",
       "      <th>schmelz_1h_lag0</th>\n",
       "      <th>schmelz_1h_lag1</th>\n",
       "    </tr>\n",
       "  </thead>\n",
       "  <tbody>\n",
       "    <tr>\n",
       "      <th>2021-08-01 00:00:00+01:00</th>\n",
       "      <td>2.340147</td>\n",
       "      <td>2.470193</td>\n",
       "      <td>8.922500</td>\n",
       "      <td>9.867500</td>\n",
       "      <td>0.000000</td>\n",
       "      <td>66.439583</td>\n",
       "      <td>117.885417</td>\n",
       "      <td>3.735000</td>\n",
       "      <td>2.34750</td>\n",
       "      <td>1.458325</td>\n",
       "      <td>0.000000</td>\n",
       "      <td>0.000000</td>\n",
       "    </tr>\n",
       "    <tr>\n",
       "      <th>2021-08-01 04:00:00+01:00</th>\n",
       "      <td>2.661687</td>\n",
       "      <td>2.470193</td>\n",
       "      <td>7.712500</td>\n",
       "      <td>8.922500</td>\n",
       "      <td>0.000000</td>\n",
       "      <td>0.000000</td>\n",
       "      <td>66.439583</td>\n",
       "      <td>2.816250</td>\n",
       "      <td>3.73500</td>\n",
       "      <td>1.464125</td>\n",
       "      <td>0.000000</td>\n",
       "      <td>0.000000</td>\n",
       "    </tr>\n",
       "    <tr>\n",
       "      <th>2021-08-01 08:00:00+01:00</th>\n",
       "      <td>2.533353</td>\n",
       "      <td>2.470193</td>\n",
       "      <td>7.567500</td>\n",
       "      <td>7.712500</td>\n",
       "      <td>17.493750</td>\n",
       "      <td>0.000000</td>\n",
       "      <td>0.000000</td>\n",
       "      <td>0.442500</td>\n",
       "      <td>2.81625</td>\n",
       "      <td>1.455575</td>\n",
       "      <td>0.000000</td>\n",
       "      <td>0.000000</td>\n",
       "    </tr>\n",
       "    <tr>\n",
       "      <th>2021-08-01 12:00:00+01:00</th>\n",
       "      <td>2.445644</td>\n",
       "      <td>2.470193</td>\n",
       "      <td>8.265000</td>\n",
       "      <td>7.567500</td>\n",
       "      <td>170.097917</td>\n",
       "      <td>17.493750</td>\n",
       "      <td>0.000000</td>\n",
       "      <td>1.152500</td>\n",
       "      <td>0.44250</td>\n",
       "      <td>1.454975</td>\n",
       "      <td>0.000000</td>\n",
       "      <td>0.000000</td>\n",
       "    </tr>\n",
       "    <tr>\n",
       "      <th>2021-08-01 16:00:00+01:00</th>\n",
       "      <td>2.495640</td>\n",
       "      <td>2.470193</td>\n",
       "      <td>7.762500</td>\n",
       "      <td>8.265000</td>\n",
       "      <td>214.900000</td>\n",
       "      <td>170.097917</td>\n",
       "      <td>17.493750</td>\n",
       "      <td>0.730833</td>\n",
       "      <td>1.15250</td>\n",
       "      <td>1.447275</td>\n",
       "      <td>0.000000</td>\n",
       "      <td>0.000000</td>\n",
       "    </tr>\n",
       "    <tr>\n",
       "      <th>...</th>\n",
       "      <td>...</td>\n",
       "      <td>...</td>\n",
       "      <td>...</td>\n",
       "      <td>...</td>\n",
       "      <td>...</td>\n",
       "      <td>...</td>\n",
       "      <td>...</td>\n",
       "      <td>...</td>\n",
       "      <td>...</td>\n",
       "      <td>...</td>\n",
       "      <td>...</td>\n",
       "      <td>...</td>\n",
       "    </tr>\n",
       "    <tr>\n",
       "      <th>2024-07-08 08:00:00+01:00</th>\n",
       "      <td>2.302622</td>\n",
       "      <td>2.281618</td>\n",
       "      <td>13.412500</td>\n",
       "      <td>9.864583</td>\n",
       "      <td>114.825000</td>\n",
       "      <td>0.803125</td>\n",
       "      <td>0.313542</td>\n",
       "      <td>0.000000</td>\n",
       "      <td>0.00000</td>\n",
       "      <td>1.237396</td>\n",
       "      <td>0.453333</td>\n",
       "      <td>0.245833</td>\n",
       "    </tr>\n",
       "    <tr>\n",
       "      <th>2024-07-08 12:00:00+01:00</th>\n",
       "      <td>1.845461</td>\n",
       "      <td>2.281618</td>\n",
       "      <td>16.933333</td>\n",
       "      <td>13.412500</td>\n",
       "      <td>719.688542</td>\n",
       "      <td>114.825000</td>\n",
       "      <td>0.803125</td>\n",
       "      <td>0.000000</td>\n",
       "      <td>0.00000</td>\n",
       "      <td>1.224521</td>\n",
       "      <td>0.471250</td>\n",
       "      <td>0.453333</td>\n",
       "    </tr>\n",
       "    <tr>\n",
       "      <th>2024-07-08 16:00:00+01:00</th>\n",
       "      <td>2.793377</td>\n",
       "      <td>2.281618</td>\n",
       "      <td>16.300000</td>\n",
       "      <td>16.933333</td>\n",
       "      <td>727.798958</td>\n",
       "      <td>719.688542</td>\n",
       "      <td>114.825000</td>\n",
       "      <td>0.000000</td>\n",
       "      <td>0.00000</td>\n",
       "      <td>1.215958</td>\n",
       "      <td>0.317917</td>\n",
       "      <td>0.471250</td>\n",
       "    </tr>\n",
       "    <tr>\n",
       "      <th>2024-07-08 20:00:00+01:00</th>\n",
       "      <td>2.437834</td>\n",
       "      <td>2.281618</td>\n",
       "      <td>13.145833</td>\n",
       "      <td>16.300000</td>\n",
       "      <td>184.682292</td>\n",
       "      <td>727.798958</td>\n",
       "      <td>719.688542</td>\n",
       "      <td>0.000000</td>\n",
       "      <td>0.00000</td>\n",
       "      <td>1.211354</td>\n",
       "      <td>0.207083</td>\n",
       "      <td>0.317917</td>\n",
       "    </tr>\n",
       "    <tr>\n",
       "      <th>2024-07-09 00:00:00+01:00</th>\n",
       "      <td>2.425741</td>\n",
       "      <td>2.322978</td>\n",
       "      <td>12.012500</td>\n",
       "      <td>13.145833</td>\n",
       "      <td>0.389583</td>\n",
       "      <td>184.682292</td>\n",
       "      <td>727.798958</td>\n",
       "      <td>0.000000</td>\n",
       "      <td>0.00000</td>\n",
       "      <td>1.208000</td>\n",
       "      <td>0.187083</td>\n",
       "      <td>0.207083</td>\n",
       "    </tr>\n",
       "  </tbody>\n",
       "</table>\n",
       "<p>6391 rows × 12 columns</p>\n",
       "</div>"
      ],
      "text/plain": [
       "                           base_lag0  base_1d_lag0  temp_1h_lag0  \\\n",
       "2021-08-01 00:00:00+01:00   2.340147      2.470193      8.922500   \n",
       "2021-08-01 04:00:00+01:00   2.661687      2.470193      7.712500   \n",
       "2021-08-01 08:00:00+01:00   2.533353      2.470193      7.567500   \n",
       "2021-08-01 12:00:00+01:00   2.445644      2.470193      8.265000   \n",
       "2021-08-01 16:00:00+01:00   2.495640      2.470193      7.762500   \n",
       "...                              ...           ...           ...   \n",
       "2024-07-08 08:00:00+01:00   2.302622      2.281618     13.412500   \n",
       "2024-07-08 12:00:00+01:00   1.845461      2.281618     16.933333   \n",
       "2024-07-08 16:00:00+01:00   2.793377      2.281618     16.300000   \n",
       "2024-07-08 20:00:00+01:00   2.437834      2.281618     13.145833   \n",
       "2024-07-09 00:00:00+01:00   2.425741      2.322978     12.012500   \n",
       "\n",
       "                           temp_1h_lag1  glob_1h_lag1  glob_1h_lag2  \\\n",
       "2021-08-01 00:00:00+01:00      9.867500      0.000000     66.439583   \n",
       "2021-08-01 04:00:00+01:00      8.922500      0.000000      0.000000   \n",
       "2021-08-01 08:00:00+01:00      7.712500     17.493750      0.000000   \n",
       "2021-08-01 12:00:00+01:00      7.567500    170.097917     17.493750   \n",
       "2021-08-01 16:00:00+01:00      8.265000    214.900000    170.097917   \n",
       "...                                 ...           ...           ...   \n",
       "2024-07-08 08:00:00+01:00      9.864583    114.825000      0.803125   \n",
       "2024-07-08 12:00:00+01:00     13.412500    719.688542    114.825000   \n",
       "2024-07-08 16:00:00+01:00     16.933333    727.798958    719.688542   \n",
       "2024-07-08 20:00:00+01:00     16.300000    184.682292    727.798958   \n",
       "2024-07-09 00:00:00+01:00     13.145833      0.389583    184.682292   \n",
       "\n",
       "                           glob_1h_lag3  rain_1h_lag0  rain_1h_lag1  \\\n",
       "2021-08-01 00:00:00+01:00    117.885417      3.735000       2.34750   \n",
       "2021-08-01 04:00:00+01:00     66.439583      2.816250       3.73500   \n",
       "2021-08-01 08:00:00+01:00      0.000000      0.442500       2.81625   \n",
       "2021-08-01 12:00:00+01:00      0.000000      1.152500       0.44250   \n",
       "2021-08-01 16:00:00+01:00     17.493750      0.730833       1.15250   \n",
       "...                                 ...           ...           ...   \n",
       "2024-07-08 08:00:00+01:00      0.313542      0.000000       0.00000   \n",
       "2024-07-08 12:00:00+01:00      0.803125      0.000000       0.00000   \n",
       "2024-07-08 16:00:00+01:00    114.825000      0.000000       0.00000   \n",
       "2024-07-08 20:00:00+01:00    719.688542      0.000000       0.00000   \n",
       "2024-07-09 00:00:00+01:00    727.798958      0.000000       0.00000   \n",
       "\n",
       "                           bf15_1h_lag0  schmelz_1h_lag0  schmelz_1h_lag1  \n",
       "2021-08-01 00:00:00+01:00      1.458325         0.000000         0.000000  \n",
       "2021-08-01 04:00:00+01:00      1.464125         0.000000         0.000000  \n",
       "2021-08-01 08:00:00+01:00      1.455575         0.000000         0.000000  \n",
       "2021-08-01 12:00:00+01:00      1.454975         0.000000         0.000000  \n",
       "2021-08-01 16:00:00+01:00      1.447275         0.000000         0.000000  \n",
       "...                                 ...              ...              ...  \n",
       "2024-07-08 08:00:00+01:00      1.237396         0.453333         0.245833  \n",
       "2024-07-08 12:00:00+01:00      1.224521         0.471250         0.453333  \n",
       "2024-07-08 16:00:00+01:00      1.215958         0.317917         0.471250  \n",
       "2024-07-08 20:00:00+01:00      1.211354         0.207083         0.317917  \n",
       "2024-07-09 00:00:00+01:00      1.208000         0.187083         0.207083  \n",
       "\n",
       "[6391 rows x 12 columns]"
      ]
     },
     "execution_count": 163,
     "metadata": {},
     "output_type": "execute_result"
    }
   ],
   "source": [
    "df_variables"
   ]
  },
  {
   "cell_type": "code",
   "execution_count": 164,
   "id": "1c74da4f-6f0a-4fef-92b5-61761c42c9b9",
   "metadata": {},
   "outputs": [],
   "source": [
    "df_doy = transform_dayofyear(df_variables)"
   ]
  },
  {
   "cell_type": "markdown",
   "id": "5eb87ae0-a7f6-44d3-9470-3f3b2295e371",
   "metadata": {},
   "source": [
    "There are some outliers in the data, as can be seen from the following plot."
   ]
  },
  {
   "cell_type": "code",
   "execution_count": 165,
   "id": "609bfd19-68ab-4758-bf39-db7859dd3e04",
   "metadata": {},
   "outputs": [
    {
     "data": {
      "image/png": "[encoded data removed]",
      "text/plain": [
       "<Figure size 640x480 with 1 Axes>"
      ]
     },
     "metadata": {},
     "output_type": "display_data"
    }
   ],
   "source": [
    "import seaborn as sns\n",
    "\n",
    "fig = sns.lineplot(x=df_variables.index, y=df_doy['glob_1h_lag1'])"
   ]
  },
  {
   "cell_type": "code",
   "execution_count": 166,
   "id": "047af6bf-f71b-468e-bfe3-fe33d57b6bc0",
   "metadata": {},
   "outputs": [
    {
     "data": {
      "image/png": "[encoded data removed]",
      "text/plain": [
       "<Figure size 640x480 with 1 Axes>"
      ]
     },
     "metadata": {},
     "output_type": "display_data"
    }
   ],
   "source": [
    "fig = sns.lineplot(x=df_variables.index, y=df_variables['rain_1h_lag1'])"
   ]
  },
  {
   "cell_type": "code",
   "execution_count": 167,
   "id": "b83b1bfb-f703-4996-ac20-19eab9cd5809",
   "metadata": {},
   "outputs": [
    {
     "data": {
      "image/png": "[encoded data removed]",
      "text/plain": [
       "<Figure size 640x480 with 1 Axes>"
      ]
     },
     "metadata": {},
     "output_type": "display_data"
    }
   ],
   "source": [
    "fig = sns.lineplot(x=df_variables.index, y=df_variables['schmelz_1h_lag1'])"
   ]
  },
  {
   "cell_type": "code",
   "execution_count": 168,
   "id": "2db4224d-1c42-42f9-a026-d2e7b1acd3e3",
   "metadata": {},
   "outputs": [
    {
     "name": "stdout",
     "output_type": "stream",
     "text": [
      "Variable base_lag0\n",
      "Variable base_1d_lag0\n",
      "Variable temp_1h_lag0\n",
      "Variable temp_1h_lag1\n",
      "Variable glob_1h_lag1\n",
      "Variable glob_1h_lag2\n",
      "Variable glob_1h_lag3\n",
      "Variable rain_1h_lag0\n",
      "Variable rain_1h_lag1\n",
      "Variable bf15_1h_lag0\n",
      "Variable schmelz_1h_lag0\n",
      "Variable schmelz_1h_lag1\n",
      "Variable yearday_sin\n",
      "Variable yearday_cos\n"
     ]
    }
   ],
   "source": [
    "# Handle outliers\n",
    "df_handled = handle_outliers(df_doy)"
   ]
  },
  {
   "cell_type": "code",
   "execution_count": 169,
   "id": "d34ba79a-997a-4842-89c5-793e80b81ae1",
   "metadata": {},
   "outputs": [
    {
     "data": {
      "image/png": "[encoded data removed]",
      "text/plain": [
       "<Figure size 640x480 with 1 Axes>"
      ]
     },
     "metadata": {},
     "output_type": "display_data"
    }
   ],
   "source": [
    "fig = sns.lineplot(x=df_handled.index, y=df_handled['glob_1h_lag1'])"
   ]
  },
  {
   "cell_type": "code",
   "execution_count": 170,
   "id": "41b4c767-ef0c-4179-bbcb-9f5c131fbfaa",
   "metadata": {},
   "outputs": [],
   "source": [
    "# Scale inputs\n",
    "df_scaled = scale_with_minmax(df_handled, str_model, verbose=0)"
   ]
  },
  {
   "cell_type": "code",
   "execution_count": 171,
   "id": "95d419c7-58e9-44e2-94ef-ffd314f03cca",
   "metadata": {},
   "outputs": [],
   "source": [
    "# Initialize lstm class\n",
    "lstm = simpleLSTM()\n",
    "deepl = DeepLearner()"
   ]
  },
  {
   "cell_type": "code",
   "execution_count": 172,
   "id": "4690fc7c-0703-4357-a1aa-5f0b1d7c2c37",
   "metadata": {},
   "outputs": [
    {
     "name": "stdout",
     "output_type": "stream",
     "text": [
      "Length df_x: 6391 - length df_y: 6391\n"
     ]
    }
   ],
   "source": [
    "# Generate sequences\n",
    "n_lookback = 20\n",
    "n_ahead = 6\n",
    "n_offset = 0\n",
    "target_var = 'base_lag0'\n",
    "\n",
    "df_seq = lstm.generate_sequences(df_scaled, target_var, n_lookback, n_ahead, n_offset, continuous=False)"
   ]
  },
  {
   "cell_type": "code",
   "execution_count": 173,
   "id": "4c9edc83-8e90-4ba3-914a-2c5d205adfee",
   "metadata": {},
   "outputs": [
    {
     "data": {
      "text/plain": [
       "Timestamp('2023-08-24 08:00:00+0100', tz='Etc/GMT-1')"
      ]
     },
     "execution_count": 173,
     "metadata": {},
     "output_type": "execute_result"
    }
   ],
   "source": [
    "lstm.ytest_startdate"
   ]
  },
  {
   "cell_type": "code",
   "execution_count": 174,
   "id": "50560d9b-0fe1-40cf-9ca5-98514aa73b75",
   "metadata": {},
   "outputs": [],
   "source": [
    "# Save variables\n",
    "x_train = df_seq[0]\n",
    "x_test = df_seq[1]\n",
    "y_train = df_seq[2]\n",
    "y_test = df_seq[3]"
   ]
  },
  {
   "cell_type": "code",
   "execution_count": 175,
   "id": "0958de35-be2a-4f8d-a941-ef50d70be794",
   "metadata": {},
   "outputs": [
    {
     "data": {
      "text/plain": [
       "(742, 20, 13)"
      ]
     },
     "execution_count": 175,
     "metadata": {},
     "output_type": "execute_result"
    }
   ],
   "source": [
    "x_train.shape"
   ]
  },
  {
   "cell_type": "markdown",
   "id": "09c9f29f-86ed-488a-9bbf-79e85090edcc",
   "metadata": {},
   "source": [
    "### Model Initiation & Training"
   ]
  },
  {
   "cell_type": "markdown",
   "id": "eb2df891-cff0-47c0-ab2e-fae20c1cad5a",
   "metadata": {},
   "source": [
    "#### Grid Search"
   ]
  },
  {
   "cell_type": "code",
   "execution_count": 176,
   "id": "9f55be5e-31ca-4f03-a4b5-c29569c0f33c",
   "metadata": {},
   "outputs": [
    {
     "name": "stdout",
     "output_type": "stream",
     "text": [
      "Length df_x: 6391 - length df_y: 6391\n"
     ]
    }
   ],
   "source": [
    "# Grid Search hyperparameters\n",
    "hyperparams = {\n",
    "    'units_l1': [500, 750, 1000],\n",
    "    'units_l2': [500, 750, 100],\n",
    "    'dropout_l1': [0.1, 0.2],\n",
    "    'dropout_l2': [0.1, 0.2],\n",
    "    'activation_l1': [\"tanh\"],\n",
    "    'activation_l2': ['tanh']\n",
    "}\n",
    "\n",
    "lookback_periods = [20]\n",
    "\n",
    "lookback_dict = deepl.get_grid_train_dict(lookback_periods, df_scaled, target_var) # kwargs possible"
   ]
  },
  {
   "cell_type": "code",
   "execution_count": null,
   "id": "94a8fcf5-e108-4d70-961b-22a41d3e9073",
   "metadata": {},
   "outputs": [
    {
     "name": "stderr",
     "output_type": "stream",
     "text": [
      "35it [1:32:43, 198.62s/it]"
     ]
    }
   ],
   "source": [
    "results, best_model = deepl.grid_search_lstm(lookback_dict, hyperparams)\n",
    "print(f\"best model: {best_model}\")"
   ]
  },
  {
   "cell_type": "code",
   "execution_count": null,
   "id": "db7f94fe-e24f-4ca8-be44-2f4ac043d701",
   "metadata": {},
   "outputs": [],
   "source": [
    "results.to_csv('experiments/inlet3_lstm_gridsearch_fine.csv')"
   ]
  },
  {
   "cell_type": "markdown",
   "id": "01814a44-23f5-4010-9ae1-83b806beb3ed",
   "metadata": {},
   "source": [
    "The optimum model is configured with the option 55, representing the following specifics: \n",
    "\n",
    "{'units_l2': 200,\n",
    " 'units_l1': 200,\n",
    " 'dropout_l2': 0.2,\n",
    " 'dropout_l1': 0.1,\n",
    " 'activation_l2': 'tanh',\n",
    " 'activation_l1': 'tanh'}\n",
    "\n",
    " However, the old configuration of the inlet1_lstm model is kept to simplify the model overview since the performance difference between the optimal configuration (55) and the inlet1 configuration (53) is negligible in terms of MSE, while the inlet1 config even performs better during validation. "
   ]
  },
  {
   "cell_type": "code",
   "execution_count": null,
   "id": "3633da32-ee45-4a09-b577-68a80f77e4f7",
   "metadata": {},
   "outputs": [],
   "source": [
    "# Retrieve optimal model parameters\n",
    "from sklearn.model_selection import ParameterGrid\n",
    "option_grid = ParameterGrid(hyperparams)\n",
    "opt_config = option_grid[53]"
   ]
  },
  {
   "cell_type": "code",
   "execution_count": null,
   "id": "6852ce94-f776-40cd-999c-923980d734af",
   "metadata": {},
   "outputs": [],
   "source": [
    "lstm_2l = lstm.build_2layer_lstm(x_train, y_train, **opt_config) # lstm.build_2layer_bidirectional_lstm(x_train, y_train, **opt_config)"
   ]
  },
  {
   "cell_type": "markdown",
   "id": "c40910de-f17d-48c7-9d67-014fa1d736d9",
   "metadata": {},
   "source": [
    "#### Train Final Model"
   ]
  },
  {
   "cell_type": "code",
   "execution_count": null,
   "id": "a73ce308-69f8-4cad-bbb7-8dd7bf69bc4e",
   "metadata": {},
   "outputs": [],
   "source": [
    "# Get training parameters\n",
    "train_params = get_params_from_config(function='model_train', str_model=str_model)"
   ]
  },
  {
   "cell_type": "code",
   "execution_count": null,
   "id": "c57e87f0-f383-43ca-b820-6ee39f25b3e9",
   "metadata": {},
   "outputs": [],
   "source": [
    "# Train Model\n",
    "trained_lstm, lstm_hist = deepl.train_model(x_train, y_train, lstm_2l, **train_params, verbose_int=1)"
   ]
  },
  {
   "cell_type": "code",
   "execution_count": null,
   "id": "55a97a8b-deed-4f35-919c-eab890c75479",
   "metadata": {},
   "outputs": [],
   "source": [
    "y_pred = trained_lstm.predict(x_test)"
   ]
  },
  {
   "cell_type": "markdown",
   "id": "07f6609d-8c4a-42c4-a8d7-2e5b504f9b10",
   "metadata": {},
   "source": [
    "### Model Evaluation"
   ]
  },
  {
   "cell_type": "code",
   "execution_count": null,
   "id": "2969f71d-8534-48f6-b46d-40062312ac23",
   "metadata": {},
   "outputs": [],
   "source": [
    "# Rescale predictions\n",
    "print(str_model)\n",
    "y_pred = inverse_transform_minmax(y_pred, str_model, ['base_lag0'])\n",
    "y_test = inverse_transform_minmax(y_test, str_model, ['base_lag0']) "
   ]
  },
  {
   "cell_type": "code",
   "execution_count": null,
   "id": "39ca4817-3056-4607-8420-77f7f7a4d105",
   "metadata": {},
   "outputs": [],
   "source": [
    "# Convert prediction to df\n",
    "start_date = None #'01.01.2024 00:00:00'\n",
    "n_timestep = None # 1\n",
    "\n",
    "df_ypred = lstm.convert_seq_to_df(y_pred, n_timestep=n_timestep, start_date=start_date)"
   ]
  },
  {
   "cell_type": "code",
   "execution_count": null,
   "id": "8adec925-88be-46f5-9d0e-f6ba435db9bc",
   "metadata": {},
   "outputs": [],
   "source": [
    "# Convert test seq to df\n",
    "df_ytest = lstm.convert_seq_to_df(y_test, start_date=start_date, n_timestep=n_timestep)"
   ]
  },
  {
   "cell_type": "code",
   "execution_count": null,
   "id": "adf59acb-fcb0-42bc-902d-aad5d6da178b",
   "metadata": {},
   "outputs": [],
   "source": [
    "# Convert df to time series\n",
    "ts_ypred = dailydf_to_ts(df_ypred)\n",
    "ts_ytest = dailydf_to_ts(df_ytest)"
   ]
  },
  {
   "cell_type": "code",
   "execution_count": null,
   "id": "1c63ca30-4a8b-47cf-b993-ab125126628d",
   "metadata": {},
   "outputs": [],
   "source": [
    "ts_ytest"
   ]
  },
  {
   "cell_type": "code",
   "execution_count": null,
   "id": "fdfe8cfa-e7d5-4ff2-a30f-e0945baac998",
   "metadata": {},
   "outputs": [],
   "source": [
    "# Calculate metrics\n",
    "evaluations.get_eval_metrics(ts_ytest, ts_ypred)"
   ]
  },
  {
   "cell_type": "code",
   "execution_count": null,
   "id": "05a01887-52be-458b-ab91-5f3863bd3027",
   "metadata": {},
   "outputs": [],
   "source": [
    "evaluations.get_act_vs_pred_plot(ts_ytest, ts_ypred)"
   ]
  },
  {
   "cell_type": "markdown",
   "id": "110b46f2-57e8-40d4-8f91-92e55a010ebf",
   "metadata": {},
   "source": [
    "### Save Model Output for Ensemble"
   ]
  },
  {
   "cell_type": "code",
   "execution_count": null,
   "id": "b0d52c7f-18e3-4a72-9deb-db0b3134b6e9",
   "metadata": {},
   "outputs": [],
   "source": [
    "\n",
    "data_dict = {'ypred_lstm': ts_ypred,\n",
    "            'ytest': ts_ytest}\n",
    "\n",
    "df_data = pd.DataFrame(data_dict)\n",
    "\n",
    "#df_data.to_csv('experiments/stacking_data/ypred_lstm.csv')\n"
   ]
  },
  {
   "cell_type": "code",
   "execution_count": null,
   "id": "729682a0-e734-4158-9864-c87ce963a14f",
   "metadata": {},
   "outputs": [],
   "source": [
    "#df_variables.to_csv('experiments/stacking_data/features_lstm.csv')"
   ]
  },
  {
   "cell_type": "markdown",
   "id": "c323221c-4c63-4f1c-8d09-18ff7403155e",
   "metadata": {},
   "source": [
    "### Save Model Output for Ensemble"
   ]
  },
  {
   "cell_type": "code",
   "execution_count": null,
   "id": "ae1e594e-aa38-4e88-a4e7-58de1bb6fcba",
   "metadata": {},
   "outputs": [],
   "source": [
    "# Interpolate to 1h frequency\n",
    "ts_ypred_1h = ts_ypred.resample('1h').interpolate()\n",
    "df_ypred_1h = ts_ypred_1h.to_frame()"
   ]
  },
  {
   "cell_type": "code",
   "execution_count": null,
   "id": "42737cd9-28fe-4028-9683-a8c7c0e1c315",
   "metadata": {},
   "outputs": [],
   "source": [
    "# Create ts name string\n",
    "inlet_n = str_model.split('_')[0].capitalize()\n",
    "str_algo = str_model.split('_')[1].upper()\n",
    "str_pred = 'Prediction'\n",
    "ts_name = '_'.join([inlet_n, str_pred, str_algo])"
   ]
  },
  {
   "cell_type": "code",
   "execution_count": null,
   "id": "bdfeb31f-2a21-41c3-a488-8153a3a0c1cc",
   "metadata": {},
   "outputs": [],
   "source": [
    "ts_name"
   ]
  },
  {
   "cell_type": "code",
   "execution_count": null,
   "id": "73a5d88a-3417-40ef-996b-37508364784b",
   "metadata": {},
   "outputs": [],
   "source": [
    "# Save as csv\n",
    "'''\n",
    "write_DWH(str_path=os.path.join(r'\\\\srvedm11', 'Import', 'Messdaten', 'EPAG_Energie', 'DWH_EX_60'),\n",
    "          str_tsname=ts_name,\n",
    "          str_property=\"Python\",\n",
    "          str_unit='m/3',\n",
    "          df_timeseries = df_ypred_1h\n",
    "          )\n",
    "'''"
   ]
  },
  {
   "cell_type": "code",
   "execution_count": null,
   "id": "5ddef86e-e24c-4d29-94f0-2d47557c2529",
   "metadata": {},
   "outputs": [],
   "source": [
    "ts_ypred"
   ]
  },
  {
   "cell_type": "code",
   "execution_count": null,
   "id": "89022ce7-5161-45ec-991c-3cafb2f0901d",
   "metadata": {},
   "outputs": [],
   "source": [
    "results['rank'] = (results['mse'].rank() + results['val_loss'].rank()).rank()\n",
    "opt_index = results.sort_values(by='rank').head(10).index"
   ]
  },
  {
   "cell_type": "code",
   "execution_count": null,
   "id": "9a9b3cef-2b14-4e60-8b9f-cd584e8c1f95",
   "metadata": {},
   "outputs": [],
   "source": [
    "opt_index"
   ]
  },
  {
   "cell_type": "code",
   "execution_count": null,
   "id": "9b866e60-9324-4e5a-bfe2-a0073647d228",
   "metadata": {},
   "outputs": [],
   "source": [
    "for option in opt_index:\n",
    "    option = option - 144 if option > 144 else option\n",
    "    print(f\"{option}: {option_grid[option]}\")"
   ]
  }
 ],
 "metadata": {
  "kernelspec": {
   "display_name": "Python 3 (ipykernel)",
   "language": "python",
   "name": "python3"
  },
  "language_info": {
   "codemirror_mode": {
    "name": "ipython",
    "version": 3
   },
   "file_extension": ".py",
   "mimetype": "text/x-python",
   "name": "python",
   "nbconvert_exporter": "python",
   "pygments_lexer": "ipython3",
   "version": "3.11.9"
  }
 },
 "nbformat": 4,
 "nbformat_minor": 5
}
