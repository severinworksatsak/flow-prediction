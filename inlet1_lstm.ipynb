{
 "cells": [
  {
   "cell_type": "markdown",
   "id": "790ecb3c-fb64-4171-82a3-04a91c7929d2",
   "metadata": {},
   "source": [
    "### Library Import"
   ]
  },
  {
   "cell_type": "code",
   "execution_count": 161,
   "id": "7235ca6f-e0e2-449e-8a66-f7a4f5ee4250",
   "metadata": {},
   "outputs": [],
   "source": [
    "import pandas as pd\n",
    "import numpy as np\n",
    "import os\n",
    "\n",
    "from models.utility import load_input, scale_with_minmax, get_dates_from_config, handle_outliers, \\\n",
    "    get_params_from_config, dailydf_to_ts, inverse_transform_minmax, transform_dayofyear, write_DWH\n",
    "from models.lstm import simpleLSTM\n",
    "from models.deeplearner import DeepLearner\n",
    "\n",
    "from solutil import evaluations"
   ]
  },
  {
   "cell_type": "markdown",
   "id": "db011e61-c70c-4b10-b17b-5bcf8c9e65cf",
   "metadata": {},
   "source": [
    "### Input Preparation"
   ]
  },
  {
   "cell_type": "code",
   "execution_count": 162,
   "id": "f65c22cf-2bb2-4ec8-ac85-0407ffbddabd",
   "metadata": {},
   "outputs": [],
   "source": [
    "# Define global variables\n",
    "str_model = 'inlet1_lstm'"
   ]
  },
  {
   "cell_type": "code",
   "execution_count": 163,
   "id": "d4020f11-4d01-4da0-b2cd-b929983bdeed",
   "metadata": {},
   "outputs": [
    {
     "name": "stdout",
     "output_type": "stream",
     "text": [
      "base\n",
      "base_1d\n",
      "useday_1d\n",
      "temp_1h\n",
      "glob_1h\n",
      "rain_1h\n",
      "bf15_1h\n",
      "schmelz_1h\n",
      "rain_1h_prog\n",
      "glob_1h_prog\n",
      "temp_1h_prog\n"
     ]
    }
   ],
   "source": [
    "# Load Input Parameters\n",
    "dates = get_dates_from_config(str_model)\n",
    "df_variables = load_input(str_model=str_model, **dates)"
   ]
  },
  {
   "cell_type": "code",
   "execution_count": 164,
   "id": "0528c90e-34ab-4a88-b784-6d5d7201c56e",
   "metadata": {},
   "outputs": [
    {
     "data": {
      "text/html": [
       "<div>\n",
       "<style scoped>\n",
       "    .dataframe tbody tr th:only-of-type {\n",
       "        vertical-align: middle;\n",
       "    }\n",
       "\n",
       "    .dataframe tbody tr th {\n",
       "        vertical-align: top;\n",
       "    }\n",
       "\n",
       "    .dataframe thead th {\n",
       "        text-align: right;\n",
       "    }\n",
       "</style>\n",
       "<table border=\"1\" class=\"dataframe\">\n",
       "  <thead>\n",
       "    <tr style=\"text-align: right;\">\n",
       "      <th></th>\n",
       "      <th>base_lag0</th>\n",
       "      <th>base_1d_lag0</th>\n",
       "      <th>temp_1h_lag0</th>\n",
       "      <th>temp_1h_lag1</th>\n",
       "      <th>glob_1h_lag1</th>\n",
       "      <th>glob_1h_lag2</th>\n",
       "      <th>glob_1h_lag3</th>\n",
       "      <th>rain_1h_lag0</th>\n",
       "      <th>rain_1h_lag1</th>\n",
       "      <th>bf15_1h_lag0</th>\n",
       "      <th>schmelz_1h_lag0</th>\n",
       "      <th>schmelz_1h_lag1</th>\n",
       "      <th>rain_1h_prog_lag-6</th>\n",
       "      <th>glob_1h_prog_lag-6</th>\n",
       "      <th>temp_1h_prog_lag-6</th>\n",
       "    </tr>\n",
       "  </thead>\n",
       "  <tbody>\n",
       "    <tr>\n",
       "      <th>2021-03-02 00:00:00+01:00</th>\n",
       "      <td>1.575118</td>\n",
       "      <td>1.616138</td>\n",
       "      <td>3.485418</td>\n",
       "      <td>3.056250</td>\n",
       "      <td>0.000000</td>\n",
       "      <td>67.564583</td>\n",
       "      <td>471.766667</td>\n",
       "      <td>0.0</td>\n",
       "      <td>0.0</td>\n",
       "      <td>1.126800</td>\n",
       "      <td>0.056250</td>\n",
       "      <td>0.054175</td>\n",
       "      <td>0.0</td>\n",
       "      <td>0.00000</td>\n",
       "      <td>11.4300</td>\n",
       "    </tr>\n",
       "    <tr>\n",
       "      <th>2021-03-02 04:00:00+01:00</th>\n",
       "      <td>1.425177</td>\n",
       "      <td>1.616138</td>\n",
       "      <td>3.687498</td>\n",
       "      <td>3.485418</td>\n",
       "      <td>0.000000</td>\n",
       "      <td>0.000000</td>\n",
       "      <td>67.564583</td>\n",
       "      <td>0.0</td>\n",
       "      <td>0.0</td>\n",
       "      <td>1.123125</td>\n",
       "      <td>0.068350</td>\n",
       "      <td>0.056250</td>\n",
       "      <td>0.0</td>\n",
       "      <td>0.00000</td>\n",
       "      <td>11.4300</td>\n",
       "    </tr>\n",
       "    <tr>\n",
       "      <th>2021-03-02 08:00:00+01:00</th>\n",
       "      <td>1.275315</td>\n",
       "      <td>1.616138</td>\n",
       "      <td>6.229167</td>\n",
       "      <td>3.687498</td>\n",
       "      <td>7.622917</td>\n",
       "      <td>0.000000</td>\n",
       "      <td>0.000000</td>\n",
       "      <td>0.0</td>\n",
       "      <td>0.0</td>\n",
       "      <td>1.124425</td>\n",
       "      <td>0.086225</td>\n",
       "      <td>0.068350</td>\n",
       "      <td>0.0</td>\n",
       "      <td>0.00000</td>\n",
       "      <td>11.4300</td>\n",
       "    </tr>\n",
       "    <tr>\n",
       "      <th>2021-03-02 12:00:00+01:00</th>\n",
       "      <td>1.767134</td>\n",
       "      <td>1.616138</td>\n",
       "      <td>10.293768</td>\n",
       "      <td>6.229167</td>\n",
       "      <td>372.379167</td>\n",
       "      <td>7.622917</td>\n",
       "      <td>0.000000</td>\n",
       "      <td>0.0</td>\n",
       "      <td>0.0</td>\n",
       "      <td>1.112425</td>\n",
       "      <td>0.097900</td>\n",
       "      <td>0.086225</td>\n",
       "      <td>0.0</td>\n",
       "      <td>0.00000</td>\n",
       "      <td>11.4300</td>\n",
       "    </tr>\n",
       "    <tr>\n",
       "      <th>2021-03-02 16:00:00+01:00</th>\n",
       "      <td>1.832819</td>\n",
       "      <td>1.616138</td>\n",
       "      <td>7.958333</td>\n",
       "      <td>10.293768</td>\n",
       "      <td>492.562500</td>\n",
       "      <td>372.379167</td>\n",
       "      <td>7.622917</td>\n",
       "      <td>0.0</td>\n",
       "      <td>0.0</td>\n",
       "      <td>1.103950</td>\n",
       "      <td>0.080825</td>\n",
       "      <td>0.097900</td>\n",
       "      <td>0.0</td>\n",
       "      <td>0.00000</td>\n",
       "      <td>11.4300</td>\n",
       "    </tr>\n",
       "    <tr>\n",
       "      <th>...</th>\n",
       "      <td>...</td>\n",
       "      <td>...</td>\n",
       "      <td>...</td>\n",
       "      <td>...</td>\n",
       "      <td>...</td>\n",
       "      <td>...</td>\n",
       "      <td>...</td>\n",
       "      <td>...</td>\n",
       "      <td>...</td>\n",
       "      <td>...</td>\n",
       "      <td>...</td>\n",
       "      <td>...</td>\n",
       "      <td>...</td>\n",
       "      <td>...</td>\n",
       "      <td>...</td>\n",
       "    </tr>\n",
       "    <tr>\n",
       "      <th>2024-07-08 08:00:00+01:00</th>\n",
       "      <td>4.200000</td>\n",
       "      <td>4.200000</td>\n",
       "      <td>16.881250</td>\n",
       "      <td>12.287500</td>\n",
       "      <td>217.811458</td>\n",
       "      <td>0.911458</td>\n",
       "      <td>0.423958</td>\n",
       "      <td>0.0</td>\n",
       "      <td>0.0</td>\n",
       "      <td>1.079917</td>\n",
       "      <td>0.000000</td>\n",
       "      <td>0.000000</td>\n",
       "      <td>0.0</td>\n",
       "      <td>695.66250</td>\n",
       "      <td>23.2975</td>\n",
       "    </tr>\n",
       "    <tr>\n",
       "      <th>2024-07-08 12:00:00+01:00</th>\n",
       "      <td>4.200000</td>\n",
       "      <td>4.200000</td>\n",
       "      <td>20.300000</td>\n",
       "      <td>16.881250</td>\n",
       "      <td>722.439583</td>\n",
       "      <td>217.811458</td>\n",
       "      <td>0.911458</td>\n",
       "      <td>0.0</td>\n",
       "      <td>0.0</td>\n",
       "      <td>1.061583</td>\n",
       "      <td>0.000000</td>\n",
       "      <td>0.000000</td>\n",
       "      <td>0.0</td>\n",
       "      <td>670.93125</td>\n",
       "      <td>25.5875</td>\n",
       "    </tr>\n",
       "    <tr>\n",
       "      <th>2024-07-08 16:00:00+01:00</th>\n",
       "      <td>4.200000</td>\n",
       "      <td>4.200000</td>\n",
       "      <td>20.408333</td>\n",
       "      <td>20.300000</td>\n",
       "      <td>784.575000</td>\n",
       "      <td>722.439583</td>\n",
       "      <td>217.811458</td>\n",
       "      <td>0.0</td>\n",
       "      <td>0.0</td>\n",
       "      <td>1.046750</td>\n",
       "      <td>0.000000</td>\n",
       "      <td>0.000000</td>\n",
       "      <td>0.0</td>\n",
       "      <td>200.38125</td>\n",
       "      <td>24.8775</td>\n",
       "    </tr>\n",
       "    <tr>\n",
       "      <th>2024-07-08 20:00:00+01:00</th>\n",
       "      <td>4.200000</td>\n",
       "      <td>4.200000</td>\n",
       "      <td>16.845833</td>\n",
       "      <td>20.408333</td>\n",
       "      <td>241.168750</td>\n",
       "      <td>784.575000</td>\n",
       "      <td>722.439583</td>\n",
       "      <td>0.0</td>\n",
       "      <td>0.0</td>\n",
       "      <td>1.045292</td>\n",
       "      <td>0.000000</td>\n",
       "      <td>0.000000</td>\n",
       "      <td>0.0</td>\n",
       "      <td>0.76250</td>\n",
       "      <td>21.0825</td>\n",
       "    </tr>\n",
       "    <tr>\n",
       "      <th>2024-07-09 00:00:00+01:00</th>\n",
       "      <td>4.200000</td>\n",
       "      <td>3.947550</td>\n",
       "      <td>16.545833</td>\n",
       "      <td>16.845833</td>\n",
       "      <td>0.868750</td>\n",
       "      <td>241.168750</td>\n",
       "      <td>784.575000</td>\n",
       "      <td>0.0</td>\n",
       "      <td>0.0</td>\n",
       "      <td>1.046250</td>\n",
       "      <td>0.000000</td>\n",
       "      <td>0.000000</td>\n",
       "      <td>0.0</td>\n",
       "      <td>0.76250</td>\n",
       "      <td>21.0825</td>\n",
       "    </tr>\n",
       "  </tbody>\n",
       "</table>\n",
       "<p>7207 rows × 15 columns</p>\n",
       "</div>"
      ],
      "text/plain": [
       "                           base_lag0  base_1d_lag0  temp_1h_lag0  \\\n",
       "2021-03-02 00:00:00+01:00   1.575118      1.616138      3.485418   \n",
       "2021-03-02 04:00:00+01:00   1.425177      1.616138      3.687498   \n",
       "2021-03-02 08:00:00+01:00   1.275315      1.616138      6.229167   \n",
       "2021-03-02 12:00:00+01:00   1.767134      1.616138     10.293768   \n",
       "2021-03-02 16:00:00+01:00   1.832819      1.616138      7.958333   \n",
       "...                              ...           ...           ...   \n",
       "2024-07-08 08:00:00+01:00   4.200000      4.200000     16.881250   \n",
       "2024-07-08 12:00:00+01:00   4.200000      4.200000     20.300000   \n",
       "2024-07-08 16:00:00+01:00   4.200000      4.200000     20.408333   \n",
       "2024-07-08 20:00:00+01:00   4.200000      4.200000     16.845833   \n",
       "2024-07-09 00:00:00+01:00   4.200000      3.947550     16.545833   \n",
       "\n",
       "                           temp_1h_lag1  glob_1h_lag1  glob_1h_lag2  \\\n",
       "2021-03-02 00:00:00+01:00      3.056250      0.000000     67.564583   \n",
       "2021-03-02 04:00:00+01:00      3.485418      0.000000      0.000000   \n",
       "2021-03-02 08:00:00+01:00      3.687498      7.622917      0.000000   \n",
       "2021-03-02 12:00:00+01:00      6.229167    372.379167      7.622917   \n",
       "2021-03-02 16:00:00+01:00     10.293768    492.562500    372.379167   \n",
       "...                                 ...           ...           ...   \n",
       "2024-07-08 08:00:00+01:00     12.287500    217.811458      0.911458   \n",
       "2024-07-08 12:00:00+01:00     16.881250    722.439583    217.811458   \n",
       "2024-07-08 16:00:00+01:00     20.300000    784.575000    722.439583   \n",
       "2024-07-08 20:00:00+01:00     20.408333    241.168750    784.575000   \n",
       "2024-07-09 00:00:00+01:00     16.845833      0.868750    241.168750   \n",
       "\n",
       "                           glob_1h_lag3  rain_1h_lag0  rain_1h_lag1  \\\n",
       "2021-03-02 00:00:00+01:00    471.766667           0.0           0.0   \n",
       "2021-03-02 04:00:00+01:00     67.564583           0.0           0.0   \n",
       "2021-03-02 08:00:00+01:00      0.000000           0.0           0.0   \n",
       "2021-03-02 12:00:00+01:00      0.000000           0.0           0.0   \n",
       "2021-03-02 16:00:00+01:00      7.622917           0.0           0.0   \n",
       "...                                 ...           ...           ...   \n",
       "2024-07-08 08:00:00+01:00      0.423958           0.0           0.0   \n",
       "2024-07-08 12:00:00+01:00      0.911458           0.0           0.0   \n",
       "2024-07-08 16:00:00+01:00    217.811458           0.0           0.0   \n",
       "2024-07-08 20:00:00+01:00    722.439583           0.0           0.0   \n",
       "2024-07-09 00:00:00+01:00    784.575000           0.0           0.0   \n",
       "\n",
       "                           bf15_1h_lag0  schmelz_1h_lag0  schmelz_1h_lag1  \\\n",
       "2021-03-02 00:00:00+01:00      1.126800         0.056250         0.054175   \n",
       "2021-03-02 04:00:00+01:00      1.123125         0.068350         0.056250   \n",
       "2021-03-02 08:00:00+01:00      1.124425         0.086225         0.068350   \n",
       "2021-03-02 12:00:00+01:00      1.112425         0.097900         0.086225   \n",
       "2021-03-02 16:00:00+01:00      1.103950         0.080825         0.097900   \n",
       "...                                 ...              ...              ...   \n",
       "2024-07-08 08:00:00+01:00      1.079917         0.000000         0.000000   \n",
       "2024-07-08 12:00:00+01:00      1.061583         0.000000         0.000000   \n",
       "2024-07-08 16:00:00+01:00      1.046750         0.000000         0.000000   \n",
       "2024-07-08 20:00:00+01:00      1.045292         0.000000         0.000000   \n",
       "2024-07-09 00:00:00+01:00      1.046250         0.000000         0.000000   \n",
       "\n",
       "                           rain_1h_prog_lag-6  glob_1h_prog_lag-6  \\\n",
       "2021-03-02 00:00:00+01:00                 0.0             0.00000   \n",
       "2021-03-02 04:00:00+01:00                 0.0             0.00000   \n",
       "2021-03-02 08:00:00+01:00                 0.0             0.00000   \n",
       "2021-03-02 12:00:00+01:00                 0.0             0.00000   \n",
       "2021-03-02 16:00:00+01:00                 0.0             0.00000   \n",
       "...                                       ...                 ...   \n",
       "2024-07-08 08:00:00+01:00                 0.0           695.66250   \n",
       "2024-07-08 12:00:00+01:00                 0.0           670.93125   \n",
       "2024-07-08 16:00:00+01:00                 0.0           200.38125   \n",
       "2024-07-08 20:00:00+01:00                 0.0             0.76250   \n",
       "2024-07-09 00:00:00+01:00                 0.0             0.76250   \n",
       "\n",
       "                           temp_1h_prog_lag-6  \n",
       "2021-03-02 00:00:00+01:00             11.4300  \n",
       "2021-03-02 04:00:00+01:00             11.4300  \n",
       "2021-03-02 08:00:00+01:00             11.4300  \n",
       "2021-03-02 12:00:00+01:00             11.4300  \n",
       "2021-03-02 16:00:00+01:00             11.4300  \n",
       "...                                       ...  \n",
       "2024-07-08 08:00:00+01:00             23.2975  \n",
       "2024-07-08 12:00:00+01:00             25.5875  \n",
       "2024-07-08 16:00:00+01:00             24.8775  \n",
       "2024-07-08 20:00:00+01:00             21.0825  \n",
       "2024-07-09 00:00:00+01:00             21.0825  \n",
       "\n",
       "[7207 rows x 15 columns]"
      ]
     },
     "execution_count": 164,
     "metadata": {},
     "output_type": "execute_result"
    }
   ],
   "source": [
    "df_variables"
   ]
  },
  {
   "cell_type": "code",
   "execution_count": 165,
   "id": "1c74da4f-6f0a-4fef-92b5-61761c42c9b9",
   "metadata": {},
   "outputs": [],
   "source": [
    "df_doy = transform_dayofyear(df_variables)"
   ]
  },
  {
   "cell_type": "markdown",
   "id": "5eb87ae0-a7f6-44d3-9470-3f3b2295e371",
   "metadata": {},
   "source": [
    "There are some outliers in the data, as can be seen from the following plot."
   ]
  },
  {
   "cell_type": "code",
   "execution_count": 166,
   "id": "609bfd19-68ab-4758-bf39-db7859dd3e04",
   "metadata": {},
   "outputs": [
    {
     "data": {
      "image/png": "[encoded data removed]",
      "text/plain": [
       "<Figure size 640x480 with 1 Axes>"
      ]
     },
     "metadata": {},
     "output_type": "display_data"
    }
   ],
   "source": [
    "import seaborn as sns\n",
    "\n",
    "fig = sns.lineplot(x=df_variables.index, y=df_doy['glob_1h_lag1'])"
   ]
  },
  {
   "cell_type": "code",
   "execution_count": 167,
   "id": "047af6bf-f71b-468e-bfe3-fe33d57b6bc0",
   "metadata": {},
   "outputs": [
    {
     "data": {
      "image/png": "[encoded data removed]",
      "text/plain": [
       "<Figure size 640x480 with 1 Axes>"
      ]
     },
     "metadata": {},
     "output_type": "display_data"
    }
   ],
   "source": [
    "fig = sns.lineplot(x=df_variables.index, y=df_variables['rain_1h_lag1'])"
   ]
  },
  {
   "cell_type": "code",
   "execution_count": 168,
   "id": "b83b1bfb-f703-4996-ac20-19eab9cd5809",
   "metadata": {},
   "outputs": [
    {
     "data": {
      "image/png": "[encoded data removed]",
      "text/plain": [
       "<Figure size 640x480 with 1 Axes>"
      ]
     },
     "metadata": {},
     "output_type": "display_data"
    }
   ],
   "source": [
    "fig = sns.lineplot(x=df_variables.index, y=df_variables['schmelz_1h_lag1'])"
   ]
  },
  {
   "cell_type": "code",
   "execution_count": 169,
   "id": "2db4224d-1c42-42f9-a026-d2e7b1acd3e3",
   "metadata": {},
   "outputs": [
    {
     "name": "stdout",
     "output_type": "stream",
     "text": [
      "Variable base_lag0\n",
      "Variable base_1d_lag0\n",
      "Variable temp_1h_lag0\n",
      "Variable temp_1h_lag1\n",
      "Variable glob_1h_lag1\n",
      "Variable glob_1h_lag2\n",
      "Variable glob_1h_lag3\n",
      "Variable rain_1h_lag0\n",
      "Variable rain_1h_lag1\n",
      "Variable bf15_1h_lag0\n",
      "Variable schmelz_1h_lag0\n",
      "Variable schmelz_1h_lag1\n",
      "Variable rain_1h_prog_lag-6\n",
      "Variable glob_1h_prog_lag-6\n",
      "Variable temp_1h_prog_lag-6\n",
      "Variable yearday_sin\n",
      "Variable yearday_cos\n"
     ]
    }
   ],
   "source": [
    "# Handle outliers\n",
    "df_handled = handle_outliers(df_doy)"
   ]
  },
  {
   "cell_type": "code",
   "execution_count": 170,
   "id": "d34ba79a-997a-4842-89c5-793e80b81ae1",
   "metadata": {},
   "outputs": [
    {
     "data": {
      "image/png": "[encoded data removed]",
      "text/plain": [
       "<Figure size 640x480 with 1 Axes>"
      ]
     },
     "metadata": {},
     "output_type": "display_data"
    }
   ],
   "source": [
    "fig = sns.lineplot(x=df_handled.index, y=df_handled['glob_1h_lag1'])"
   ]
  },
  {
   "cell_type": "code",
   "execution_count": 171,
   "id": "41b4c767-ef0c-4179-bbcb-9f5c131fbfaa",
   "metadata": {},
   "outputs": [],
   "source": [
    "# Scale inputs\n",
    "df_scaled = scale_with_minmax(df_handled, str_model, verbose=0)"
   ]
  },
  {
   "cell_type": "code",
   "execution_count": 172,
   "id": "95d419c7-58e9-44e2-94ef-ffd314f03cca",
   "metadata": {},
   "outputs": [],
   "source": [
    "# Initialize lstm class\n",
    "lstm = simpleLSTM()\n",
    "deepl = DeepLearner()"
   ]
  },
  {
   "cell_type": "code",
   "execution_count": 173,
   "id": "4690fc7c-0703-4357-a1aa-5f0b1d7c2c37",
   "metadata": {},
   "outputs": [
    {
     "name": "stdout",
     "output_type": "stream",
     "text": [
      "Length df_x: 7207 - length df_y: 7207\n"
     ]
    }
   ],
   "source": [
    "# Generate sequences\n",
    "n_lookback = 20\n",
    "n_ahead = 6\n",
    "n_offset = 0\n",
    "target_var = 'base_lag0'\n",
    "\n",
    "df_seq = lstm.generate_sequences(df_scaled, target_var, n_lookback, n_ahead, n_offset, continuous=False)"
   ]
  },
  {
   "cell_type": "code",
   "execution_count": 174,
   "id": "4c9edc83-8e90-4ba3-914a-2c5d205adfee",
   "metadata": {},
   "outputs": [
    {
     "data": {
      "text/plain": [
       "Timestamp('2023-07-14 08:00:00+0100', tz='Etc/GMT-1')"
      ]
     },
     "execution_count": 174,
     "metadata": {},
     "output_type": "execute_result"
    }
   ],
   "source": [
    "lstm.ytest_startdate"
   ]
  },
  {
   "cell_type": "code",
   "execution_count": 175,
   "id": "50560d9b-0fe1-40cf-9ca5-98514aa73b75",
   "metadata": {},
   "outputs": [],
   "source": [
    "# Save variables\n",
    "x_train = df_seq[0]\n",
    "x_test = df_seq[1]\n",
    "y_train = df_seq[2]\n",
    "y_test = df_seq[3]"
   ]
  },
  {
   "cell_type": "code",
   "execution_count": 176,
   "id": "0958de35-be2a-4f8d-a941-ef50d70be794",
   "metadata": {},
   "outputs": [
    {
     "data": {
      "text/plain": [
       "(837, 20, 16)"
      ]
     },
     "execution_count": 176,
     "metadata": {},
     "output_type": "execute_result"
    }
   ],
   "source": [
    "x_train.shape"
   ]
  },
  {
   "cell_type": "markdown",
   "id": "09c9f29f-86ed-488a-9bbf-79e85090edcc",
   "metadata": {},
   "source": [
    "### Model Initiation & Training"
   ]
  },
  {
   "cell_type": "markdown",
   "id": "eb2df891-cff0-47c0-ab2e-fae20c1cad5a",
   "metadata": {},
   "source": [
    "#### Grid Search"
   ]
  },
  {
   "cell_type": "code",
   "execution_count": 177,
   "id": "9f55be5e-31ca-4f03-a4b5-c29569c0f33c",
   "metadata": {},
   "outputs": [
    {
     "name": "stdout",
     "output_type": "stream",
     "text": [
      "Length df_x: 7207 - length df_y: 7207\n",
      "Length df_x: 7207 - length df_y: 7207\n"
     ]
    }
   ],
   "source": [
    "# Grid Search hyperparameters\n",
    "hyperparams = {\n",
    "    'units_l1': [100, 200],\n",
    "    'units_l2': [100, 200],\n",
    "    'dropout_l1': [0.1, 0.2],\n",
    "    'dropout_l2': [0.1, 0.2],\n",
    "    'activation_l1': [\"sigmoid\", \"tanh\"],\n",
    "    'activation_l2': ['sigmoid', 'tanh']\n",
    "}\n",
    "\n",
    "lookback_periods = [84, 112]\n",
    "\n",
    "lookback_dict = deepl.get_grid_train_dict(lookback_periods, df_scaled, target_var) # kwargs possible"
   ]
  },
  {
   "cell_type": "code",
   "execution_count": 178,
   "id": "94a8fcf5-e108-4d70-961b-22a41d3e9073",
   "metadata": {},
   "outputs": [],
   "source": [
    "#results, best_model, best_loss = deepl.grid_search_lstm(lookback_dict, hyperparams)"
   ]
  },
  {
   "cell_type": "markdown",
   "id": "01814a44-23f5-4010-9ae1-83b806beb3ed",
   "metadata": {},
   "source": [
    "The optimum model is configured with the option 58, representing the following specifics: \n",
    "\n",
    "{'units_l2': 100,\n",
    " 'units_l1': 200,\n",
    " 'dropout_l2': 0.1,\n",
    " 'dropout_l1': 0.2,\n",
    " 'activation_l2': 'tanh',\n",
    " 'activation_l1': 'tanh'}"
   ]
  },
  {
   "cell_type": "code",
   "execution_count": 179,
   "id": "3633da32-ee45-4a09-b577-68a80f77e4f7",
   "metadata": {},
   "outputs": [],
   "source": [
    "# Retrieve optimal model parameters\n",
    "from sklearn.model_selection import ParameterGrid\n",
    "option_grid = ParameterGrid(hyperparams)\n",
    "opt_config = option_grid[58]"
   ]
  },
  {
   "cell_type": "code",
   "execution_count": 180,
   "id": "6852ce94-f776-40cd-999c-923980d734af",
   "metadata": {},
   "outputs": [
    {
     "data": {
      "text/html": [
       "<pre style=\"white-space:pre;overflow-x:auto;line-height:normal;font-family:Menlo,'DejaVu Sans Mono',consolas,'Courier New',monospace\"><span style=\"font-weight: bold\">Model: \"sequential_4\"</span>\n",
       "</pre>\n"
      ],
      "text/plain": [
       "\u001b[1mModel: \"sequential_4\"\u001b[0m\n"
      ]
     },
     "metadata": {},
     "output_type": "display_data"
    },
    {
     "data": {
      "text/html": [
       "<pre style=\"white-space:pre;overflow-x:auto;line-height:normal;font-family:Menlo,'DejaVu Sans Mono',consolas,'Courier New',monospace\">┏━━━━━━━━━━━━━━━━━━━━━━━━━━━━━━━━━━━━━━┳━━━━━━━━━━━━━━━━━━━━━━━━━━━━━┳━━━━━━━━━━━━━━━━━┓\n",
       "┃<span style=\"font-weight: bold\"> Layer (type)                         </span>┃<span style=\"font-weight: bold\"> Output Shape                </span>┃<span style=\"font-weight: bold\">         Param # </span>┃\n",
       "┡━━━━━━━━━━━━━━━━━━━━━━━━━━━━━━━━━━━━━━╇━━━━━━━━━━━━━━━━━━━━━━━━━━━━━╇━━━━━━━━━━━━━━━━━┩\n",
       "│ lstm_8 (<span style=\"color: #0087ff; text-decoration-color: #0087ff\">LSTM</span>)                        │ (<span style=\"color: #00d7ff; text-decoration-color: #00d7ff\">None</span>, <span style=\"color: #00af00; text-decoration-color: #00af00\">20</span>, <span style=\"color: #00af00; text-decoration-color: #00af00\">200</span>)             │         <span style=\"color: #00af00; text-decoration-color: #00af00\">173,600</span> │\n",
       "├──────────────────────────────────────┼─────────────────────────────┼─────────────────┤\n",
       "│ dropout_8 (<span style=\"color: #0087ff; text-decoration-color: #0087ff\">Dropout</span>)                  │ (<span style=\"color: #00d7ff; text-decoration-color: #00d7ff\">None</span>, <span style=\"color: #00af00; text-decoration-color: #00af00\">20</span>, <span style=\"color: #00af00; text-decoration-color: #00af00\">200</span>)             │               <span style=\"color: #00af00; text-decoration-color: #00af00\">0</span> │\n",
       "├──────────────────────────────────────┼─────────────────────────────┼─────────────────┤\n",
       "│ lstm_9 (<span style=\"color: #0087ff; text-decoration-color: #0087ff\">LSTM</span>)                        │ (<span style=\"color: #00d7ff; text-decoration-color: #00d7ff\">None</span>, <span style=\"color: #00af00; text-decoration-color: #00af00\">100</span>)                 │         <span style=\"color: #00af00; text-decoration-color: #00af00\">120,400</span> │\n",
       "├──────────────────────────────────────┼─────────────────────────────┼─────────────────┤\n",
       "│ dropout_9 (<span style=\"color: #0087ff; text-decoration-color: #0087ff\">Dropout</span>)                  │ (<span style=\"color: #00d7ff; text-decoration-color: #00d7ff\">None</span>, <span style=\"color: #00af00; text-decoration-color: #00af00\">100</span>)                 │               <span style=\"color: #00af00; text-decoration-color: #00af00\">0</span> │\n",
       "├──────────────────────────────────────┼─────────────────────────────┼─────────────────┤\n",
       "│ dense_4 (<span style=\"color: #0087ff; text-decoration-color: #0087ff\">Dense</span>)                      │ (<span style=\"color: #00d7ff; text-decoration-color: #00d7ff\">None</span>, <span style=\"color: #00af00; text-decoration-color: #00af00\">6</span>)                   │             <span style=\"color: #00af00; text-decoration-color: #00af00\">606</span> │\n",
       "└──────────────────────────────────────┴─────────────────────────────┴─────────────────┘\n",
       "</pre>\n"
      ],
      "text/plain": [
       "┏━━━━━━━━━━━━━━━━━━━━━━━━━━━━━━━━━━━━━━┳━━━━━━━━━━━━━━━━━━━━━━━━━━━━━┳━━━━━━━━━━━━━━━━━┓\n",
       "┃\u001b[1m \u001b[0m\u001b[1mLayer (type)                        \u001b[0m\u001b[1m \u001b[0m┃\u001b[1m \u001b[0m\u001b[1mOutput Shape               \u001b[0m\u001b[1m \u001b[0m┃\u001b[1m \u001b[0m\u001b[1m        Param #\u001b[0m\u001b[1m \u001b[0m┃\n",
       "┡━━━━━━━━━━━━━━━━━━━━━━━━━━━━━━━━━━━━━━╇━━━━━━━━━━━━━━━━━━━━━━━━━━━━━╇━━━━━━━━━━━━━━━━━┩\n",
       "│ lstm_8 (\u001b[38;5;33mLSTM\u001b[0m)                        │ (\u001b[38;5;45mNone\u001b[0m, \u001b[38;5;34m20\u001b[0m, \u001b[38;5;34m200\u001b[0m)             │         \u001b[38;5;34m173,600\u001b[0m │\n",
       "├──────────────────────────────────────┼─────────────────────────────┼─────────────────┤\n",
       "│ dropout_8 (\u001b[38;5;33mDropout\u001b[0m)                  │ (\u001b[38;5;45mNone\u001b[0m, \u001b[38;5;34m20\u001b[0m, \u001b[38;5;34m200\u001b[0m)             │               \u001b[38;5;34m0\u001b[0m │\n",
       "├──────────────────────────────────────┼─────────────────────────────┼─────────────────┤\n",
       "│ lstm_9 (\u001b[38;5;33mLSTM\u001b[0m)                        │ (\u001b[38;5;45mNone\u001b[0m, \u001b[38;5;34m100\u001b[0m)                 │         \u001b[38;5;34m120,400\u001b[0m │\n",
       "├──────────────────────────────────────┼─────────────────────────────┼─────────────────┤\n",
       "│ dropout_9 (\u001b[38;5;33mDropout\u001b[0m)                  │ (\u001b[38;5;45mNone\u001b[0m, \u001b[38;5;34m100\u001b[0m)                 │               \u001b[38;5;34m0\u001b[0m │\n",
       "├──────────────────────────────────────┼─────────────────────────────┼─────────────────┤\n",
       "│ dense_4 (\u001b[38;5;33mDense\u001b[0m)                      │ (\u001b[38;5;45mNone\u001b[0m, \u001b[38;5;34m6\u001b[0m)                   │             \u001b[38;5;34m606\u001b[0m │\n",
       "└──────────────────────────────────────┴─────────────────────────────┴─────────────────┘\n"
      ]
     },
     "metadata": {},
     "output_type": "display_data"
    },
    {
     "data": {
      "text/html": [
       "<pre style=\"white-space:pre;overflow-x:auto;line-height:normal;font-family:Menlo,'DejaVu Sans Mono',consolas,'Courier New',monospace\"><span style=\"font-weight: bold\"> Total params: </span><span style=\"color: #00af00; text-decoration-color: #00af00\">294,606</span> (1.12 MB)\n",
       "</pre>\n"
      ],
      "text/plain": [
       "\u001b[1m Total params: \u001b[0m\u001b[38;5;34m294,606\u001b[0m (1.12 MB)\n"
      ]
     },
     "metadata": {},
     "output_type": "display_data"
    },
    {
     "data": {
      "text/html": [
       "<pre style=\"white-space:pre;overflow-x:auto;line-height:normal;font-family:Menlo,'DejaVu Sans Mono',consolas,'Courier New',monospace\"><span style=\"font-weight: bold\"> Trainable params: </span><span style=\"color: #00af00; text-decoration-color: #00af00\">294,606</span> (1.12 MB)\n",
       "</pre>\n"
      ],
      "text/plain": [
       "\u001b[1m Trainable params: \u001b[0m\u001b[38;5;34m294,606\u001b[0m (1.12 MB)\n"
      ]
     },
     "metadata": {},
     "output_type": "display_data"
    },
    {
     "data": {
      "text/html": [
       "<pre style=\"white-space:pre;overflow-x:auto;line-height:normal;font-family:Menlo,'DejaVu Sans Mono',consolas,'Courier New',monospace\"><span style=\"font-weight: bold\"> Non-trainable params: </span><span style=\"color: #00af00; text-decoration-color: #00af00\">0</span> (0.00 B)\n",
       "</pre>\n"
      ],
      "text/plain": [
       "\u001b[1m Non-trainable params: \u001b[0m\u001b[38;5;34m0\u001b[0m (0.00 B)\n"
      ]
     },
     "metadata": {},
     "output_type": "display_data"
    },
    {
     "name": "stdout",
     "output_type": "stream",
     "text": [
      "None\n"
     ]
    }
   ],
   "source": [
    "lstm_2l = lstm.build_2layer_lstm(x_train, y_train, **opt_config) # lstm.build_2layer_bidirectional_lstm(x_train, y_train, **opt_config)"
   ]
  },
  {
   "cell_type": "markdown",
   "id": "c40910de-f17d-48c7-9d67-014fa1d736d9",
   "metadata": {},
   "source": [
    "#### Train Final Model"
   ]
  },
  {
   "cell_type": "code",
   "execution_count": 181,
   "id": "a73ce308-69f8-4cad-bbb7-8dd7bf69bc4e",
   "metadata": {},
   "outputs": [],
   "source": [
    "# Get training parameters\n",
    "train_params = get_params_from_config(function='model_train', str_model='inlet1_lstm')"
   ]
  },
  {
   "cell_type": "code",
   "execution_count": 182,
   "id": "c57e87f0-f383-43ca-b820-6ee39f25b3e9",
   "metadata": {},
   "outputs": [
    {
     "name": "stdout",
     "output_type": "stream",
     "text": [
      "Epoch 1/1000\n",
      "\u001b[1m21/21\u001b[0m \u001b[32m━━━━━━━━━━━━━━━━━━━━\u001b[0m\u001b[37m\u001b[0m \u001b[1m3s\u001b[0m 42ms/step - loss: 0.0816 - val_loss: 0.0493 - learning_rate: 0.0010\n",
      "Epoch 2/1000\n",
      "\u001b[1m21/21\u001b[0m \u001b[32m━━━━━━━━━━━━━━━━━━━━\u001b[0m\u001b[37m\u001b[0m \u001b[1m1s\u001b[0m 28ms/step - loss: 0.0551 - val_loss: 0.0362 - learning_rate: 0.0010\n",
      "Epoch 3/1000\n",
      "\u001b[1m21/21\u001b[0m \u001b[32m━━━━━━━━━━━━━━━━━━━━\u001b[0m\u001b[37m\u001b[0m \u001b[1m1s\u001b[0m 28ms/step - loss: 0.0426 - val_loss: 0.0471 - learning_rate: 0.0010\n",
      "Epoch 4/1000\n",
      "\u001b[1m21/21\u001b[0m \u001b[32m━━━━━━━━━━━━━━━━━━━━\u001b[0m\u001b[37m\u001b[0m \u001b[1m1s\u001b[0m 28ms/step - loss: 0.0396 - val_loss: 0.0293 - learning_rate: 0.0010\n",
      "Epoch 5/1000\n",
      "\u001b[1m21/21\u001b[0m \u001b[32m━━━━━━━━━━━━━━━━━━━━\u001b[0m\u001b[37m\u001b[0m \u001b[1m1s\u001b[0m 28ms/step - loss: 0.0363 - val_loss: 0.0257 - learning_rate: 0.0010\n",
      "Epoch 6/1000\n",
      "\u001b[1m21/21\u001b[0m \u001b[32m━━━━━━━━━━━━━━━━━━━━\u001b[0m\u001b[37m\u001b[0m \u001b[1m1s\u001b[0m 28ms/step - loss: 0.0328 - val_loss: 0.0276 - learning_rate: 0.0010\n",
      "Epoch 7/1000\n",
      "\u001b[1m21/21\u001b[0m \u001b[32m━━━━━━━━━━━━━━━━━━━━\u001b[0m\u001b[37m\u001b[0m \u001b[1m1s\u001b[0m 28ms/step - loss: 0.0291 - val_loss: 0.0210 - learning_rate: 0.0010\n",
      "Epoch 8/1000\n",
      "\u001b[1m21/21\u001b[0m \u001b[32m━━━━━━━━━━━━━━━━━━━━\u001b[0m\u001b[37m\u001b[0m \u001b[1m1s\u001b[0m 28ms/step - loss: 0.0281 - val_loss: 0.0306 - learning_rate: 0.0010\n",
      "Epoch 9/1000\n",
      "\u001b[1m21/21\u001b[0m \u001b[32m━━━━━━━━━━━━━━━━━━━━\u001b[0m\u001b[37m\u001b[0m \u001b[1m1s\u001b[0m 28ms/step - loss: 0.0281 - val_loss: 0.0202 - learning_rate: 0.0010\n",
      "Epoch 10/1000\n",
      "\u001b[1m21/21\u001b[0m \u001b[32m━━━━━━━━━━━━━━━━━━━━\u001b[0m\u001b[37m\u001b[0m \u001b[1m1s\u001b[0m 28ms/step - loss: 0.0241 - val_loss: 0.0201 - learning_rate: 0.0010\n",
      "Epoch 11/1000\n",
      "\u001b[1m21/21\u001b[0m \u001b[32m━━━━━━━━━━━━━━━━━━━━\u001b[0m\u001b[37m\u001b[0m \u001b[1m1s\u001b[0m 28ms/step - loss: 0.0254 - val_loss: 0.0198 - learning_rate: 0.0010\n",
      "Epoch 12/1000\n",
      "\u001b[1m21/21\u001b[0m \u001b[32m━━━━━━━━━━━━━━━━━━━━\u001b[0m\u001b[37m\u001b[0m \u001b[1m1s\u001b[0m 28ms/step - loss: 0.0241 - val_loss: 0.0167 - learning_rate: 0.0010\n",
      "Epoch 13/1000\n",
      "\u001b[1m21/21\u001b[0m \u001b[32m━━━━━━━━━━━━━━━━━━━━\u001b[0m\u001b[37m\u001b[0m \u001b[1m1s\u001b[0m 28ms/step - loss: 0.0216 - val_loss: 0.0165 - learning_rate: 0.0010\n",
      "Epoch 14/1000\n",
      "\u001b[1m21/21\u001b[0m \u001b[32m━━━━━━━━━━━━━━━━━━━━\u001b[0m\u001b[37m\u001b[0m \u001b[1m1s\u001b[0m 28ms/step - loss: 0.0207 - val_loss: 0.0157 - learning_rate: 0.0010\n",
      "Epoch 15/1000\n",
      "\u001b[1m21/21\u001b[0m \u001b[32m━━━━━━━━━━━━━━━━━━━━\u001b[0m\u001b[37m\u001b[0m \u001b[1m1s\u001b[0m 28ms/step - loss: 0.0181 - val_loss: 0.0166 - learning_rate: 0.0010\n",
      "Epoch 16/1000\n",
      "\u001b[1m21/21\u001b[0m \u001b[32m━━━━━━━━━━━━━━━━━━━━\u001b[0m\u001b[37m\u001b[0m \u001b[1m1s\u001b[0m 29ms/step - loss: 0.0209 - val_loss: 0.0161 - learning_rate: 0.0010\n",
      "Epoch 17/1000\n",
      "\u001b[1m21/21\u001b[0m \u001b[32m━━━━━━━━━━━━━━━━━━━━\u001b[0m\u001b[37m\u001b[0m \u001b[1m1s\u001b[0m 28ms/step - loss: 0.0171 - val_loss: 0.0143 - learning_rate: 0.0010\n",
      "Epoch 18/1000\n",
      "\u001b[1m21/21\u001b[0m \u001b[32m━━━━━━━━━━━━━━━━━━━━\u001b[0m\u001b[37m\u001b[0m \u001b[1m1s\u001b[0m 28ms/step - loss: 0.0172 - val_loss: 0.0182 - learning_rate: 0.0010\n",
      "Epoch 19/1000\n",
      "\u001b[1m21/21\u001b[0m \u001b[32m━━━━━━━━━━━━━━━━━━━━\u001b[0m\u001b[37m\u001b[0m \u001b[1m1s\u001b[0m 28ms/step - loss: 0.0202 - val_loss: 0.0156 - learning_rate: 0.0010\n",
      "Epoch 20/1000\n",
      "\u001b[1m21/21\u001b[0m \u001b[32m━━━━━━━━━━━━━━━━━━━━\u001b[0m\u001b[37m\u001b[0m \u001b[1m1s\u001b[0m 28ms/step - loss: 0.0170 - val_loss: 0.0150 - learning_rate: 0.0010\n",
      "Epoch 21/1000\n",
      "\u001b[1m21/21\u001b[0m \u001b[32m━━━━━━━━━━━━━━━━━━━━\u001b[0m\u001b[37m\u001b[0m \u001b[1m1s\u001b[0m 28ms/step - loss: 0.0162 - val_loss: 0.0133 - learning_rate: 0.0010\n",
      "Epoch 22/1000\n",
      "\u001b[1m21/21\u001b[0m \u001b[32m━━━━━━━━━━━━━━━━━━━━\u001b[0m\u001b[37m\u001b[0m \u001b[1m1s\u001b[0m 28ms/step - loss: 0.0166 - val_loss: 0.0157 - learning_rate: 0.0010\n",
      "Epoch 23/1000\n",
      "\u001b[1m21/21\u001b[0m \u001b[32m━━━━━━━━━━━━━━━━━━━━\u001b[0m\u001b[37m\u001b[0m \u001b[1m1s\u001b[0m 28ms/step - loss: 0.0152 - val_loss: 0.0133 - learning_rate: 0.0010\n",
      "Epoch 24/1000\n",
      "\u001b[1m21/21\u001b[0m \u001b[32m━━━━━━━━━━━━━━━━━━━━\u001b[0m\u001b[37m\u001b[0m \u001b[1m1s\u001b[0m 28ms/step - loss: 0.0159 - val_loss: 0.0144 - learning_rate: 0.0010\n",
      "Epoch 25/1000\n",
      "\u001b[1m21/21\u001b[0m \u001b[32m━━━━━━━━━━━━━━━━━━━━\u001b[0m\u001b[37m\u001b[0m \u001b[1m1s\u001b[0m 28ms/step - loss: 0.0156 - val_loss: 0.0132 - learning_rate: 0.0010\n",
      "Epoch 26/1000\n",
      "\u001b[1m21/21\u001b[0m \u001b[32m━━━━━━━━━━━━━━━━━━━━\u001b[0m\u001b[37m\u001b[0m \u001b[1m1s\u001b[0m 28ms/step - loss: 0.0138 - val_loss: 0.0130 - learning_rate: 5.0000e-04\n",
      "Epoch 27/1000\n",
      "\u001b[1m21/21\u001b[0m \u001b[32m━━━━━━━━━━━━━━━━━━━━\u001b[0m\u001b[37m\u001b[0m \u001b[1m1s\u001b[0m 28ms/step - loss: 0.0137 - val_loss: 0.0125 - learning_rate: 5.0000e-04\n",
      "Epoch 28/1000\n",
      "\u001b[1m21/21\u001b[0m \u001b[32m━━━━━━━━━━━━━━━━━━━━\u001b[0m\u001b[37m\u001b[0m \u001b[1m1s\u001b[0m 28ms/step - loss: 0.0141 - val_loss: 0.0132 - learning_rate: 5.0000e-04\n",
      "Epoch 29/1000\n",
      "\u001b[1m21/21\u001b[0m \u001b[32m━━━━━━━━━━━━━━━━━━━━\u001b[0m\u001b[37m\u001b[0m \u001b[1m1s\u001b[0m 28ms/step - loss: 0.0136 - val_loss: 0.0136 - learning_rate: 5.0000e-04\n",
      "Epoch 30/1000\n",
      "\u001b[1m21/21\u001b[0m \u001b[32m━━━━━━━━━━━━━━━━━━━━\u001b[0m\u001b[37m\u001b[0m \u001b[1m1s\u001b[0m 28ms/step - loss: 0.0118 - val_loss: 0.0128 - learning_rate: 5.0000e-04\n",
      "Epoch 31/1000\n",
      "\u001b[1m21/21\u001b[0m \u001b[32m━━━━━━━━━━━━━━━━━━━━\u001b[0m\u001b[37m\u001b[0m \u001b[1m1s\u001b[0m 28ms/step - loss: 0.0135 - val_loss: 0.0138 - learning_rate: 5.0000e-04\n",
      "Epoch 32/1000\n",
      "\u001b[1m21/21\u001b[0m \u001b[32m━━━━━━━━━━━━━━━━━━━━\u001b[0m\u001b[37m\u001b[0m \u001b[1m1s\u001b[0m 28ms/step - loss: 0.0120 - val_loss: 0.0134 - learning_rate: 2.5000e-04\n"
     ]
    }
   ],
   "source": [
    "# Train Model\n",
    "trained_lstm, lstm_hist = deepl.train_model(x_train, y_train, lstm_2l, **train_params, verbose_int=1)"
   ]
  },
  {
   "cell_type": "code",
   "execution_count": 183,
   "id": "55a97a8b-deed-4f35-919c-eab890c75479",
   "metadata": {},
   "outputs": [
    {
     "name": "stdout",
     "output_type": "stream",
     "text": [
      "\u001b[1m12/12\u001b[0m \u001b[32m━━━━━━━━━━━━━━━━━━━━\u001b[0m\u001b[37m\u001b[0m \u001b[1m1s\u001b[0m 30ms/step\n"
     ]
    }
   ],
   "source": [
    "y_pred = trained_lstm.predict(x_test)"
   ]
  },
  {
   "cell_type": "markdown",
   "id": "07f6609d-8c4a-42c4-a8d7-2e5b504f9b10",
   "metadata": {},
   "source": [
    "### Model Evaluation"
   ]
  },
  {
   "cell_type": "code",
   "execution_count": 184,
   "id": "2969f71d-8534-48f6-b46d-40062312ac23",
   "metadata": {},
   "outputs": [],
   "source": [
    "# Rescale predictions\n",
    "y_pred = inverse_transform_minmax(y_pred, 'inlet1_lstm', ['base_lag0'])\n",
    "y_test = inverse_transform_minmax(y_test, 'inlet1_lstm', ['base_lag0']) "
   ]
  },
  {
   "cell_type": "code",
   "execution_count": 185,
   "id": "39ca4817-3056-4607-8420-77f7f7a4d105",
   "metadata": {},
   "outputs": [],
   "source": [
    "# Convert prediction to df\n",
    "start_date = None #'01.01.2024 00:00:00'\n",
    "n_timestep = None # 1\n",
    "\n",
    "df_ypred = lstm.convert_seq_to_df(y_pred, n_timestep=n_timestep, start_date=start_date)"
   ]
  },
  {
   "cell_type": "code",
   "execution_count": 186,
   "id": "8adec925-88be-46f5-9d0e-f6ba435db9bc",
   "metadata": {},
   "outputs": [],
   "source": [
    "# Convert test seq to df\n",
    "df_ytest = lstm.convert_seq_to_df(y_test, start_date=start_date, n_timestep=n_timestep)"
   ]
  },
  {
   "cell_type": "code",
   "execution_count": 187,
   "id": "adf59acb-fcb0-42bc-902d-aad5d6da178b",
   "metadata": {},
   "outputs": [],
   "source": [
    "# Convert df to time series\n",
    "ts_ypred = dailydf_to_ts(df_ypred)\n",
    "ts_ytest = dailydf_to_ts(df_ytest)"
   ]
  },
  {
   "cell_type": "code",
   "execution_count": 188,
   "id": "fdfe8cfa-e7d5-4ff2-a30f-e0945baac998",
   "metadata": {},
   "outputs": [
    {
     "data": {
      "text/plain": [
       "{'mae': 0.3663620539102271,\n",
       " 'mse': 0.36299860975566767,\n",
       " 'rmse': 0.6024936595149095,\n",
       " 'mape': 138368023436159.27,\n",
       " 'non-na%': 1.0,\n",
       " 'n_actual_obs': 2160,\n",
       " 'n_pred_nas': 0}"
      ]
     },
     "execution_count": 188,
     "metadata": {},
     "output_type": "execute_result"
    }
   ],
   "source": [
    "# Calculate metrics\n",
    "evaluations.get_eval_metrics(ts_ytest, ts_ypred)"
   ]
  },
  {
   "cell_type": "code",
   "execution_count": 189,
   "id": "05a01887-52be-458b-ab91-5f3863bd3027",
   "metadata": {},
   "outputs": [
    {
     "data": {
      "text/plain": [
       "<Axes: xlabel='time', ylabel='value'>"
      ]
     },
     "execution_count": 189,
     "metadata": {},
     "output_type": "execute_result"
    },
    {
     "data": {
      "image/png": "[encoded data removed]",
      "text/plain": [
       "<Figure size 640x480 with 1 Axes>"
      ]
     },
     "metadata": {},
     "output_type": "display_data"
    }
   ],
   "source": [
    "evaluations.get_act_vs_pred_plot(ts_ytest, ts_ypred)"
   ]
  },
  {
   "cell_type": "markdown",
   "id": "b986c5ff-7a09-468a-bdfa-91df262ca88b",
   "metadata": {},
   "source": [
    "### Results"
   ]
  },
  {
   "cell_type": "markdown",
   "id": "921d2c57-bfae-47bf-a201-decd2be8e901",
   "metadata": {},
   "source": [
    "#### EPAG RNN Benchmark model"
   ]
  },
  {
   "cell_type": "markdown",
   "id": "2ad7f781-2851-4e9e-8087-2ae61ee2535c",
   "metadata": {},
   "source": [
    "The benchmark model performs as follows:\n",
    "\n",
    "{'mae': 0.42552994824696827,\n",
    " 'mse': 0.43365600821587413,\n",
    " 'rmse': 0.6585256321631483,\n",
    " 'mape': 0.42552994824696827,\n",
    " 'non-na%': 1.0,\n",
    " 'n_actual_obs': 28952,\n",
    " 'n_pred_nas': 24}"
   ]
  },
  {
   "cell_type": "markdown",
   "id": "d2c4faf2-6cae-480c-8786-d861349621f1",
   "metadata": {},
   "source": [
    "#### 2-Layer LSTM, **28d lookback** period for 24h prediction, **zero-lag features**"
   ]
  },
  {
   "cell_type": "markdown",
   "id": "e3088db7-546a-4050-aa9d-88f646fee181",
   "metadata": {},
   "source": [
    "The model performs slightly better than the benchmark EPAG RNN model, leading to the following metrics:\n",
    "\n",
    "{'mae': 0.42610932601495455,\n",
    " 'mse': 0.4287221795833913,\n",
    " 'rmse': 0.6547687985719779,\n",
    " 'mape': 0.42610932601495455,\n",
    " 'non-na%': 1.0,\n",
    " 'n_actual_obs': 2088,\n",
    " 'n_pred_nas': 0}\n",
    "\n",
    "The model was configured using the following specifications:\n",
    "\n",
    " {'units_l2': 100,\n",
    " 'units_l1': 200,\n",
    " 'dropout_l2': 0.1,\n",
    " 'dropout_l1': 0.2,\n",
    " 'activation_l2': 'tanh',\n",
    " 'activation_l1': 'tanh'}\n",
    "\n",
    "To derive these results, the following features were used:\n",
    "\n",
    "- base_lag0\n",
    "- base_1d_lag0\n",
    "- temp_1h_lag0\n",
    "- glob_1h_lag0\n",
    "- rain_1h_lag0\n",
    "- bf15_1h_lag0\n",
    "- schmelz_1h_lag0"
   ]
  },
  {
   "cell_type": "markdown",
   "id": "1dcc5ff4-6563-4234-9c86-25c6a15c08bf",
   "metadata": {},
   "source": [
    "#### 2-Layer LSTM, **5d lookback** period for 24h prediction, **zero-lag features**"
   ]
  },
  {
   "cell_type": "markdown",
   "id": "d6399aef-3a23-4baf-b4e9-6668e89101be",
   "metadata": {},
   "source": [
    "Compared to the longer-term models, the 5d lookback model (n_lookback = 20) **considerably outperforms**, yielding an improvement of 600 bps (expressed as mape decline). This looks highly promising, motivating further concentration on this model type.\n",
    "\n",
    "{'mae': 0.36480787565215506,\n",
    " 'mse': 0.32394114472592256,\n",
    " 'rmse': 0.5691582773938393,\n",
    " 'mape': 0.36480787565215506,\n",
    " 'non-na%': 1.0,\n",
    " 'n_actual_obs': 2118,\n",
    " 'n_pred_nas': 0}\n",
    "\n",
    " The model specifications again were derived by using the following specifications:\n",
    "\n",
    "{'units_l2': 100,\n",
    " 'units_l1': 200,\n",
    " 'dropout_l2': 0.1,\n",
    " 'dropout_l1': 0.2,\n",
    " 'activation_l2': 'tanh',\n",
    " 'activation_l1': 'tanh'}\n",
    "\n",
    " To derive these results, the following features were used:\n",
    "\n",
    "- base_lag0\n",
    "- base_1d_lag0\n",
    "- temp_1h_lag0\n",
    "- glob_1h_lag0\n",
    "- rain_1h_lag0\n",
    "- bf15_1h_lag0\n",
    "- schmelz_1h_lag0"
   ]
  },
  {
   "cell_type": "markdown",
   "id": "cda1d832-c5c9-4640-b8c6-c557dfe9f390",
   "metadata": {},
   "source": [
    "#### 2-Layer LSTM, **4d lookback** period for 24h prediction, **zero-lag features**"
   ]
  },
  {
   "cell_type": "markdown",
   "id": "552d62bd-aef8-4b4d-9a42-231b482ad3f9",
   "metadata": {},
   "source": [
    "Again, the 4d lookback model (n_lookback = 16) outperforms the more backward-looking models, however cannot manage to catch up to the 5d lookback model. \n",
    "\n",
    "{'mae': 0.42522474063231636,\n",
    " 'mse': 0.4244721786739539,\n",
    " 'rmse': 0.6515152942747806,\n",
    " 'mape': 0.42522474063231636,\n",
    " 'non-na%': 1.0,\n",
    " 'n_actual_obs': 2118,\n",
    " 'n_pred_nas': 0}\n",
    "\n",
    "The model specifications again were derived by using the following specifications:\n",
    "\n",
    "{'units_l2': 100,\n",
    " 'units_l1': 200,\n",
    " 'dropout_l2': 0.1,\n",
    " 'dropout_l1': 0.2,\n",
    " 'activation_l2': 'tanh',\n",
    " 'activation_l1': 'tanh'}\n",
    "\n",
    " To derive these results, the following features were used:\n",
    "\n",
    "- base_lag0\n",
    "- base_1d_lag0\n",
    "- temp_1h_lag0\n",
    "- glob_1h_lag0\n",
    "- rain_1h_lag0\n",
    "- bf15_1h_lag0\n",
    "- schmelz_1h_lag0"
   ]
  },
  {
   "cell_type": "markdown",
   "id": "0b169728-d961-4931-840a-51189dd0fc9d",
   "metadata": {},
   "source": [
    "#### 2-Layer LSTM, **5d lookback** period for 24h prediction, **lagged features** with **offset**"
   ]
  },
  {
   "cell_type": "markdown",
   "id": "4a81680b-6bb8-4359-bbda-11678dc717ee",
   "metadata": {},
   "source": [
    "With lagged features, the model still outperforms most other models across all metrics for a lookback period of 20, despite the offset period of 6*4h. This simulates performance under go-live conditions, indicating the model to be robust against the limitations of real-world use. The model's metrics look as follows:\n",
    "\n",
    "{'mae': 0.36523608908083893,\n",
    " 'mse': 0.31149900764815275,\n",
    " 'rmse': 0.558120961484294,\n",
    " 'mape': 0.36523608908083893,\n",
    " 'non-na%': 1.0,\n",
    " 'n_actual_obs': 2118,\n",
    " 'n_pred_nas': 0}\n",
    "\n",
    " The model specifications were again derived by using the following specifications:\n",
    "\n",
    " {'units_l2': 100,\n",
    " 'units_l1': 200,\n",
    " 'dropout_l2': 0.1,\n",
    " 'dropout_l1': 0.2,\n",
    " 'activation_l2': 'tanh',\n",
    " 'activation_l1': 'tanh'}\n",
    "\n",
    " To derive these results, the following features were used:\n",
    "\n",
    " - base_lag0\n",
    " - base_1d_lag0\n",
    " - temp_1h_lag1\n",
    " - glob_1h_lag1\n",
    " - glob_1h_lag2\n",
    " - glob_1h_lag3\n",
    " - rain_1h_lag1\n",
    " - rain_1h_lag2\n",
    " - rain_1h_lag3\n",
    " - bf15_1h_lag0\n",
    " - bf15_1h_lag1\n",
    " - bf15_1h_lag2\n",
    " - bf15_1h_lag3\n",
    " - schmelz_1h_lag1\n",
    " - schmelz_1h_lag2\n",
    " - schmelz_1h_lag3"
   ]
  },
  {
   "cell_type": "markdown",
   "id": "b81f7d11-743d-47a1-987b-45f7d53b52c3",
   "metadata": {},
   "source": [
    "#### 2-Layer LSTM, **20x lookback** period for 24h prediction, **lagged features + doy + prognosen** with **offset**"
   ]
  },
  {
   "cell_type": "markdown",
   "id": "393f9ce9-57e6-4d4d-9a2b-8c1ce45351a4",
   "metadata": {},
   "source": [
    "The difference to the model above is that the Prognosen on rain, global irradiation and temperature are included as separate features. This will alter the performance of the model slightly and depending on the training cycle, as the error metrics are minimally inflated or deflated, eventually oscillating around 0.36-0.37 across all cycles. The sample output presents itself as follows:\n",
    "\n",
    "{'mae': 0.3606614881101602,\n",
    " 'mse': 0.3505069093675864,\n",
    " 'rmse': 0.5920362399106885,\n",
    " 'mape': 142796200965146.16,\n",
    " 'non-na%': 1.0,\n",
    " 'n_actual_obs': 2130,\n",
    " 'n_pred_nas': 0}\n",
    "\n",
    "The model specification was:\n",
    "{'units_l2': 100, 'units_l1': 200, 'dropout_l2': 0.1, 'dropout_l1': 0.2, 'activation_l2': 'tanh', 'activation_l1': 'tanh'}\n",
    "\n",
    "Sample features were:\n",
    "- Variable base_1d_lag0\n",
    "- Variable temp_1h_lag0\n",
    "- Variable temp_1h_lag1\n",
    "- Variable glob_1h_lag1\n",
    "- Variable glob_1h_lag2\n",
    "- Variable glob_1h_lag3\n",
    "- Variable rain_1h_lag0\n",
    "- Variable rain_1h_lag1\n",
    "- Variable bf15_1h_lag0\n",
    "- Variable schmelz_1h_lag0\n",
    "- Variable schmelz_1h_lag1\n",
    "- Variable rain_1h_prog_lag-6\n",
    "- Variable glob_1h_prog_lag-6\n",
    "- Variable temp_1h_prog_lag-6\n",
    "- Variable yearday_sin\n",
    "- Variable yearday_cos"
   ]
  },
  {
   "cell_type": "markdown",
   "id": "110b46f2-57e8-40d4-8f91-92e55a010ebf",
   "metadata": {},
   "source": [
    "### Save Model Output for Ensemble"
   ]
  },
  {
   "cell_type": "code",
   "execution_count": 190,
   "id": "b0d52c7f-18e3-4a72-9deb-db0b3134b6e9",
   "metadata": {},
   "outputs": [],
   "source": [
    "\n",
    "data_dict = {'ypred_lstm': ts_ypred,\n",
    "            'ytest': ts_ytest}\n",
    "\n",
    "df_data = pd.DataFrame(data_dict)\n",
    "\n",
    "#df_data.to_csv('experiments/stacking_data/ypred_lstm.csv')\n"
   ]
  },
  {
   "cell_type": "code",
   "execution_count": 191,
   "id": "729682a0-e734-4158-9864-c87ce963a14f",
   "metadata": {},
   "outputs": [],
   "source": [
    "#df_variables.to_csv('experiments/stacking_data/features_lstm.csv')"
   ]
  },
  {
   "cell_type": "markdown",
   "id": "c323221c-4c63-4f1c-8d09-18ff7403155e",
   "metadata": {},
   "source": [
    "### Save Model Output for Ensemble"
   ]
  },
  {
   "cell_type": "code",
   "execution_count": 192,
   "id": "ae1e594e-aa38-4e88-a4e7-58de1bb6fcba",
   "metadata": {},
   "outputs": [],
   "source": [
    "# Interpolate to 1h frequency\n",
    "ts_ypred_1h = ts_ypred.resample('1h').interpolate()\n",
    "df_ypred_1h = ts_ypred_1h.to_frame()"
   ]
  },
  {
   "cell_type": "code",
   "execution_count": 193,
   "id": "42737cd9-28fe-4028-9683-a8c7c0e1c315",
   "metadata": {},
   "outputs": [],
   "source": [
    "# Create ts name string\n",
    "inlet_n = str_model.split('_')[0].capitalize()\n",
    "str_algo = str_model.split('_')[1].upper()\n",
    "str_pred = 'Prediction'\n",
    "ts_name = '_'.join([inlet_n, str_pred, str_algo])"
   ]
  },
  {
   "cell_type": "code",
   "execution_count": 194,
   "id": "bdfeb31f-2a21-41c3-a488-8153a3a0c1cc",
   "metadata": {},
   "outputs": [
    {
     "data": {
      "text/plain": [
       "'Inlet1_Prediction_LSTM'"
      ]
     },
     "execution_count": 194,
     "metadata": {},
     "output_type": "execute_result"
    }
   ],
   "source": [
    "ts_name"
   ]
  },
  {
   "cell_type": "code",
   "execution_count": 195,
   "id": "73a5d88a-3417-40ef-996b-37508364784b",
   "metadata": {},
   "outputs": [
    {
     "data": {
      "text/plain": [
       "'\\nwrite_DWH(str_path=os.path.join(r\\'\\\\srvedm11\\', \\'Import\\', \\'Messdaten\\', \\'EPAG_Energie\\', \\'DWH_EX_60\\'),\\n          str_tsname=ts_name,\\n          str_property=\"Python\",\\n          str_unit=\\'m/3\\',\\n          df_timeseries = df_ypred_1h\\n          )\\n'"
      ]
     },
     "execution_count": 195,
     "metadata": {},
     "output_type": "execute_result"
    }
   ],
   "source": [
    "# Save as csv\n",
    "'''\n",
    "write_DWH(str_path=os.path.join(r'\\\\srvedm11', 'Import', 'Messdaten', 'EPAG_Energie', 'DWH_EX_60'),\n",
    "          str_tsname=ts_name,\n",
    "          str_property=\"Python\",\n",
    "          str_unit='m/3',\n",
    "          df_timeseries = df_ypred_1h\n",
    "          )\n",
    "'''"
   ]
  },
  {
   "cell_type": "code",
   "execution_count": 196,
   "id": "5ddef86e-e24c-4d29-94f0-2d47557c2529",
   "metadata": {},
   "outputs": [
    {
     "data": {
      "text/plain": [
       "2023-07-14 08:00:00+01:00    1.439439\n",
       "2023-07-14 12:00:00+01:00    1.554471\n",
       "2023-07-14 16:00:00+01:00    1.336767\n",
       "2023-07-14 20:00:00+01:00    1.114392\n",
       "2023-07-15 00:00:00+01:00    0.818121\n",
       "                               ...   \n",
       "2024-07-07 12:00:00+01:00    4.106686\n",
       "2024-07-07 16:00:00+01:00    4.084487\n",
       "2024-07-07 20:00:00+01:00    4.042948\n",
       "2024-07-08 00:00:00+01:00    3.968748\n",
       "2024-07-08 04:00:00+01:00    3.949410\n",
       "Freq: 4h, Name: value, Length: 2160, dtype: float64"
      ]
     },
     "execution_count": 196,
     "metadata": {},
     "output_type": "execute_result"
    }
   ],
   "source": [
    "ts_ypred"
   ]
  }
 ],
 "metadata": {
  "kernelspec": {
   "display_name": "Python 3 (ipykernel)",
   "language": "python",
   "name": "python3"
  },
  "language_info": {
   "codemirror_mode": {
    "name": "ipython",
    "version": 3
   },
   "file_extension": ".py",
   "mimetype": "text/x-python",
   "name": "python",
   "nbconvert_exporter": "python",
   "pygments_lexer": "ipython3",
   "version": "3.11.9"
  }
 },
 "nbformat": 4,
 "nbformat_minor": 5
}
