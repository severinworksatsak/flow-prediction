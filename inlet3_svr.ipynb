{
 "cells": [
  {
   "cell_type": "markdown",
   "id": "ddb72d86-7f78-470f-b0ce-77d7809860b3",
   "metadata": {},
   "source": [
    "# Support Vector Regression"
   ]
  },
  {
   "cell_type": "markdown",
   "id": "2a3fc557-1634-4cbf-9d8c-0ee54333d0e8",
   "metadata": {},
   "source": [
    "### Library Import"
   ]
  },
  {
   "cell_type": "code",
   "execution_count": 81,
   "id": "0b3c3fb7-e861-4ea2-afb0-d1c9929ee712",
   "metadata": {},
   "outputs": [],
   "source": [
    "import pandas as pd\n",
    "import numpy as np\n",
    "import os\n",
    "\n",
    "from models.utility import load_input, scale_with_minmax, get_dates_from_config, handle_outliers, get_params_from_config, dailydf_to_ts, inverse_transform_minmax, transform_dayofyear, split_dataframe, write_DWH \n",
    "from models.svr import SVReg\n",
    "from models.deeplearner import DeepLearner\n",
    "\n",
    "from solutil import evaluations\n",
    "\n",
    "from sklearn.model_selection import GridSearchCV\n",
    "from sklearn.svm import SVR"
   ]
  },
  {
   "cell_type": "markdown",
   "id": "90be9bc9-8cf5-46c1-b69e-4a1d19b4f187",
   "metadata": {},
   "source": [
    "### Input Preparation"
   ]
  },
  {
   "cell_type": "code",
   "execution_count": 82,
   "id": "ecc9fee9-b88d-42a6-b4ee-db2771caaef5",
   "metadata": {},
   "outputs": [],
   "source": [
    "# Define global variables\n",
    "str_model = 'inlet2_svr'"
   ]
  },
  {
   "cell_type": "code",
   "execution_count": 83,
   "id": "cb4ae9e9-c011-4fb0-8703-5b01f5103b5a",
   "metadata": {},
   "outputs": [
    {
     "name": "stdout",
     "output_type": "stream",
     "text": [
      "base\n",
      "base_1d\n",
      "useday_1d\n",
      "temp_1h\n",
      "glob_1h\n",
      "rain_1h\n",
      "bf15_1h\n",
      "schmelz_1h\n"
     ]
    }
   ],
   "source": [
    "# Load Input Parameters\n",
    "dates = get_dates_from_config(str_model)\n",
    "df_variables = load_input(str_model=str_model, **dates)"
   ]
  },
  {
   "cell_type": "code",
   "execution_count": 84,
   "id": "2efb3eed-d036-4107-abc7-34647a53baa7",
   "metadata": {},
   "outputs": [],
   "source": [
    "# Generate day-of-year sin and cos\n",
    "df_doy = transform_dayofyear(df_variables)"
   ]
  },
  {
   "cell_type": "code",
   "execution_count": 85,
   "id": "9dacfba5-ebd1-4770-a1fe-fc974ce07389",
   "metadata": {},
   "outputs": [
    {
     "name": "stdout",
     "output_type": "stream",
     "text": [
      "Variable base_lag0\n",
      "Variable base_1d_lag0\n",
      "Variable temp_1h_lag1\n",
      "Variable glob_1h_lag1\n",
      "Variable glob_1h_lag2\n",
      "Variable rain_1h_lag1\n",
      "Variable rain_1h_lag2\n",
      "Variable bf15_1h_lag0\n",
      "Variable bf15_1h_lag1\n",
      "Variable bf15_1h_lag2\n",
      "Variable schmelz_1h_lag1\n",
      "Variable schmelz_1h_lag2\n",
      "Variable schmelz_1h_lag3\n",
      "Variable yearday_sin\n",
      "Variable yearday_cos\n"
     ]
    }
   ],
   "source": [
    "# Handle outliers\n",
    "df_handled = handle_outliers(df_doy)"
   ]
  },
  {
   "cell_type": "code",
   "execution_count": 86,
   "id": "3a8d1792-4408-422c-a578-91fc53a9c56d",
   "metadata": {},
   "outputs": [],
   "source": [
    "# Scale inputs\n",
    "df_scaled = scale_with_minmax(df_variables, str_model)"
   ]
  },
  {
   "cell_type": "code",
   "execution_count": 87,
   "id": "733e53aa-1176-4618-b572-556d520ea37d",
   "metadata": {},
   "outputs": [],
   "source": [
    "# Initialize SVReg class\n",
    "svr = SVReg()"
   ]
  },
  {
   "cell_type": "code",
   "execution_count": 88,
   "id": "974b95f4-34d3-406c-9178-f4ad67dba0c5",
   "metadata": {},
   "outputs": [],
   "source": [
    "df_label, model_names = svr.build_model_input(df=df_scaled, target_var='base_lag0', str_model=str_model, n_offset=0)"
   ]
  },
  {
   "cell_type": "code",
   "execution_count": 89,
   "id": "142e0fe2-f635-442c-984e-5d838e30302b",
   "metadata": {},
   "outputs": [
    {
     "data": {
      "text/html": [
       "<div>\n",
       "<style scoped>\n",
       "    .dataframe tbody tr th:only-of-type {\n",
       "        vertical-align: middle;\n",
       "    }\n",
       "\n",
       "    .dataframe tbody tr th {\n",
       "        vertical-align: top;\n",
       "    }\n",
       "\n",
       "    .dataframe thead th {\n",
       "        text-align: right;\n",
       "    }\n",
       "</style>\n",
       "<table border=\"1\" class=\"dataframe\">\n",
       "  <thead>\n",
       "    <tr style=\"text-align: right;\">\n",
       "      <th></th>\n",
       "      <th>base_1d_lag0</th>\n",
       "      <th>temp_1h_lag1</th>\n",
       "      <th>glob_1h_lag1</th>\n",
       "      <th>glob_1h_lag2</th>\n",
       "      <th>rain_1h_lag1</th>\n",
       "      <th>rain_1h_lag2</th>\n",
       "      <th>bf15_1h_lag0</th>\n",
       "      <th>bf15_1h_lag1</th>\n",
       "      <th>bf15_1h_lag2</th>\n",
       "      <th>schmelz_1h_lag1</th>\n",
       "      <th>schmelz_1h_lag2</th>\n",
       "      <th>schmelz_1h_lag3</th>\n",
       "      <th>y_model1</th>\n",
       "      <th>y_model2</th>\n",
       "      <th>y_model3</th>\n",
       "      <th>y_model4</th>\n",
       "      <th>y_model5</th>\n",
       "      <th>y_model6</th>\n",
       "    </tr>\n",
       "  </thead>\n",
       "  <tbody>\n",
       "    <tr>\n",
       "      <th>2021-03-02 00:00:00+01:00</th>\n",
       "      <td>0.277317</td>\n",
       "      <td>0.353696</td>\n",
       "      <td>1.0</td>\n",
       "      <td>1.0</td>\n",
       "      <td>0.0</td>\n",
       "      <td>0.0</td>\n",
       "      <td>0.689549</td>\n",
       "      <td>0.693051</td>\n",
       "      <td>0.695301</td>\n",
       "      <td>0.054791</td>\n",
       "      <td>0.042149</td>\n",
       "      <td>0.069102</td>\n",
       "      <td>0.254049</td>\n",
       "      <td>0.240845</td>\n",
       "      <td>0.263800</td>\n",
       "      <td>0.326913</td>\n",
       "      <td>0.283895</td>\n",
       "      <td>0.256823</td>\n",
       "    </tr>\n",
       "    <tr>\n",
       "      <th>2021-03-02 04:00:00+01:00</th>\n",
       "      <td>0.277317</td>\n",
       "      <td>0.364361</td>\n",
       "      <td>1.0</td>\n",
       "      <td>1.0</td>\n",
       "      <td>0.0</td>\n",
       "      <td>0.0</td>\n",
       "      <td>0.686882</td>\n",
       "      <td>0.689549</td>\n",
       "      <td>0.693051</td>\n",
       "      <td>0.056890</td>\n",
       "      <td>0.054791</td>\n",
       "      <td>0.042149</td>\n",
       "      <td>0.240845</td>\n",
       "      <td>0.263800</td>\n",
       "      <td>0.326913</td>\n",
       "      <td>0.283895</td>\n",
       "      <td>0.256823</td>\n",
       "      <td>0.217385</td>\n",
       "    </tr>\n",
       "    <tr>\n",
       "      <th>2021-03-02 08:00:00+01:00</th>\n",
       "      <td>0.277317</td>\n",
       "      <td>0.369383</td>\n",
       "      <td>1.0</td>\n",
       "      <td>1.0</td>\n",
       "      <td>0.0</td>\n",
       "      <td>0.0</td>\n",
       "      <td>0.687825</td>\n",
       "      <td>0.686882</td>\n",
       "      <td>0.689549</td>\n",
       "      <td>0.069128</td>\n",
       "      <td>0.056890</td>\n",
       "      <td>0.054791</td>\n",
       "      <td>0.263800</td>\n",
       "      <td>0.326913</td>\n",
       "      <td>0.283895</td>\n",
       "      <td>0.256823</td>\n",
       "      <td>0.217385</td>\n",
       "      <td>0.220981</td>\n",
       "    </tr>\n",
       "    <tr>\n",
       "      <th>2021-03-02 12:00:00+01:00</th>\n",
       "      <td>0.277317</td>\n",
       "      <td>0.432543</td>\n",
       "      <td>1.0</td>\n",
       "      <td>1.0</td>\n",
       "      <td>0.0</td>\n",
       "      <td>0.0</td>\n",
       "      <td>0.679116</td>\n",
       "      <td>0.687825</td>\n",
       "      <td>0.686882</td>\n",
       "      <td>0.087206</td>\n",
       "      <td>0.069128</td>\n",
       "      <td>0.056890</td>\n",
       "      <td>0.326913</td>\n",
       "      <td>0.283895</td>\n",
       "      <td>0.256823</td>\n",
       "      <td>0.217385</td>\n",
       "      <td>0.220981</td>\n",
       "      <td>0.242883</td>\n",
       "    </tr>\n",
       "    <tr>\n",
       "      <th>2021-03-02 16:00:00+01:00</th>\n",
       "      <td>0.277317</td>\n",
       "      <td>0.533548</td>\n",
       "      <td>1.0</td>\n",
       "      <td>1.0</td>\n",
       "      <td>0.0</td>\n",
       "      <td>0.0</td>\n",
       "      <td>0.672966</td>\n",
       "      <td>0.679116</td>\n",
       "      <td>0.687825</td>\n",
       "      <td>0.099014</td>\n",
       "      <td>0.087206</td>\n",
       "      <td>0.069128</td>\n",
       "      <td>0.283895</td>\n",
       "      <td>0.256823</td>\n",
       "      <td>0.217385</td>\n",
       "      <td>0.220981</td>\n",
       "      <td>0.242883</td>\n",
       "      <td>0.298951</td>\n",
       "    </tr>\n",
       "    <tr>\n",
       "      <th>...</th>\n",
       "      <td>...</td>\n",
       "      <td>...</td>\n",
       "      <td>...</td>\n",
       "      <td>...</td>\n",
       "      <td>...</td>\n",
       "      <td>...</td>\n",
       "      <td>...</td>\n",
       "      <td>...</td>\n",
       "      <td>...</td>\n",
       "      <td>...</td>\n",
       "      <td>...</td>\n",
       "      <td>...</td>\n",
       "      <td>...</td>\n",
       "      <td>...</td>\n",
       "      <td>...</td>\n",
       "      <td>...</td>\n",
       "      <td>...</td>\n",
       "      <td>...</td>\n",
       "    </tr>\n",
       "    <tr>\n",
       "      <th>2024-07-08 08:00:00+01:00</th>\n",
       "      <td>0.913605</td>\n",
       "      <td>0.583092</td>\n",
       "      <td>1.0</td>\n",
       "      <td>1.0</td>\n",
       "      <td>0.0</td>\n",
       "      <td>0.0</td>\n",
       "      <td>0.655523</td>\n",
       "      <td>0.662735</td>\n",
       "      <td>0.666364</td>\n",
       "      <td>0.000000</td>\n",
       "      <td>0.000000</td>\n",
       "      <td>0.000000</td>\n",
       "      <td>0.885641</td>\n",
       "      <td>0.813495</td>\n",
       "      <td>0.762120</td>\n",
       "      <td>0.679996</td>\n",
       "      <td>0.679996</td>\n",
       "      <td>0.679996</td>\n",
       "    </tr>\n",
       "    <tr>\n",
       "      <th>2024-07-08 12:00:00+01:00</th>\n",
       "      <td>0.913605</td>\n",
       "      <td>0.697246</td>\n",
       "      <td>1.0</td>\n",
       "      <td>1.0</td>\n",
       "      <td>0.0</td>\n",
       "      <td>0.0</td>\n",
       "      <td>0.642218</td>\n",
       "      <td>0.655523</td>\n",
       "      <td>0.662735</td>\n",
       "      <td>0.000000</td>\n",
       "      <td>0.000000</td>\n",
       "      <td>0.000000</td>\n",
       "      <td>0.813495</td>\n",
       "      <td>0.762120</td>\n",
       "      <td>0.679996</td>\n",
       "      <td>0.679996</td>\n",
       "      <td>0.679996</td>\n",
       "      <td>0.679996</td>\n",
       "    </tr>\n",
       "    <tr>\n",
       "      <th>2024-07-08 16:00:00+01:00</th>\n",
       "      <td>0.913605</td>\n",
       "      <td>0.782201</td>\n",
       "      <td>1.0</td>\n",
       "      <td>1.0</td>\n",
       "      <td>0.0</td>\n",
       "      <td>0.0</td>\n",
       "      <td>0.631452</td>\n",
       "      <td>0.642218</td>\n",
       "      <td>0.655523</td>\n",
       "      <td>0.000000</td>\n",
       "      <td>0.000000</td>\n",
       "      <td>0.000000</td>\n",
       "      <td>0.762120</td>\n",
       "      <td>0.679996</td>\n",
       "      <td>0.679996</td>\n",
       "      <td>0.679996</td>\n",
       "      <td>0.679996</td>\n",
       "      <td>0.679996</td>\n",
       "    </tr>\n",
       "    <tr>\n",
       "      <th>2024-07-08 20:00:00+01:00</th>\n",
       "      <td>0.913605</td>\n",
       "      <td>0.784893</td>\n",
       "      <td>1.0</td>\n",
       "      <td>1.0</td>\n",
       "      <td>0.0</td>\n",
       "      <td>0.0</td>\n",
       "      <td>0.630394</td>\n",
       "      <td>0.631452</td>\n",
       "      <td>0.642218</td>\n",
       "      <td>0.000000</td>\n",
       "      <td>0.000000</td>\n",
       "      <td>0.000000</td>\n",
       "      <td>0.679996</td>\n",
       "      <td>0.679996</td>\n",
       "      <td>0.679996</td>\n",
       "      <td>0.679996</td>\n",
       "      <td>0.679996</td>\n",
       "      <td>0.679996</td>\n",
       "    </tr>\n",
       "    <tr>\n",
       "      <th>2024-07-09 00:00:00+01:00</th>\n",
       "      <td>0.609194</td>\n",
       "      <td>0.696366</td>\n",
       "      <td>1.0</td>\n",
       "      <td>1.0</td>\n",
       "      <td>0.0</td>\n",
       "      <td>0.0</td>\n",
       "      <td>0.631090</td>\n",
       "      <td>0.630394</td>\n",
       "      <td>0.631452</td>\n",
       "      <td>0.000000</td>\n",
       "      <td>0.000000</td>\n",
       "      <td>0.000000</td>\n",
       "      <td>0.679996</td>\n",
       "      <td>0.679996</td>\n",
       "      <td>0.679996</td>\n",
       "      <td>0.679996</td>\n",
       "      <td>0.679996</td>\n",
       "      <td>0.679996</td>\n",
       "    </tr>\n",
       "  </tbody>\n",
       "</table>\n",
       "<p>7231 rows × 18 columns</p>\n",
       "</div>"
      ],
      "text/plain": [
       "                           base_1d_lag0  temp_1h_lag1  glob_1h_lag1  \\\n",
       "2021-03-02 00:00:00+01:00      0.277317      0.353696           1.0   \n",
       "2021-03-02 04:00:00+01:00      0.277317      0.364361           1.0   \n",
       "2021-03-02 08:00:00+01:00      0.277317      0.369383           1.0   \n",
       "2021-03-02 12:00:00+01:00      0.277317      0.432543           1.0   \n",
       "2021-03-02 16:00:00+01:00      0.277317      0.533548           1.0   \n",
       "...                                 ...           ...           ...   \n",
       "2024-07-08 08:00:00+01:00      0.913605      0.583092           1.0   \n",
       "2024-07-08 12:00:00+01:00      0.913605      0.697246           1.0   \n",
       "2024-07-08 16:00:00+01:00      0.913605      0.782201           1.0   \n",
       "2024-07-08 20:00:00+01:00      0.913605      0.784893           1.0   \n",
       "2024-07-09 00:00:00+01:00      0.609194      0.696366           1.0   \n",
       "\n",
       "                           glob_1h_lag2  rain_1h_lag1  rain_1h_lag2  \\\n",
       "2021-03-02 00:00:00+01:00           1.0           0.0           0.0   \n",
       "2021-03-02 04:00:00+01:00           1.0           0.0           0.0   \n",
       "2021-03-02 08:00:00+01:00           1.0           0.0           0.0   \n",
       "2021-03-02 12:00:00+01:00           1.0           0.0           0.0   \n",
       "2021-03-02 16:00:00+01:00           1.0           0.0           0.0   \n",
       "...                                 ...           ...           ...   \n",
       "2024-07-08 08:00:00+01:00           1.0           0.0           0.0   \n",
       "2024-07-08 12:00:00+01:00           1.0           0.0           0.0   \n",
       "2024-07-08 16:00:00+01:00           1.0           0.0           0.0   \n",
       "2024-07-08 20:00:00+01:00           1.0           0.0           0.0   \n",
       "2024-07-09 00:00:00+01:00           1.0           0.0           0.0   \n",
       "\n",
       "                           bf15_1h_lag0  bf15_1h_lag1  bf15_1h_lag2  \\\n",
       "2021-03-02 00:00:00+01:00      0.689549      0.693051      0.695301   \n",
       "2021-03-02 04:00:00+01:00      0.686882      0.689549      0.693051   \n",
       "2021-03-02 08:00:00+01:00      0.687825      0.686882      0.689549   \n",
       "2021-03-02 12:00:00+01:00      0.679116      0.687825      0.686882   \n",
       "2021-03-02 16:00:00+01:00      0.672966      0.679116      0.687825   \n",
       "...                                 ...           ...           ...   \n",
       "2024-07-08 08:00:00+01:00      0.655523      0.662735      0.666364   \n",
       "2024-07-08 12:00:00+01:00      0.642218      0.655523      0.662735   \n",
       "2024-07-08 16:00:00+01:00      0.631452      0.642218      0.655523   \n",
       "2024-07-08 20:00:00+01:00      0.630394      0.631452      0.642218   \n",
       "2024-07-09 00:00:00+01:00      0.631090      0.630394      0.631452   \n",
       "\n",
       "                           schmelz_1h_lag1  schmelz_1h_lag2  schmelz_1h_lag3  \\\n",
       "2021-03-02 00:00:00+01:00         0.054791         0.042149         0.069102   \n",
       "2021-03-02 04:00:00+01:00         0.056890         0.054791         0.042149   \n",
       "2021-03-02 08:00:00+01:00         0.069128         0.056890         0.054791   \n",
       "2021-03-02 12:00:00+01:00         0.087206         0.069128         0.056890   \n",
       "2021-03-02 16:00:00+01:00         0.099014         0.087206         0.069128   \n",
       "...                                    ...              ...              ...   \n",
       "2024-07-08 08:00:00+01:00         0.000000         0.000000         0.000000   \n",
       "2024-07-08 12:00:00+01:00         0.000000         0.000000         0.000000   \n",
       "2024-07-08 16:00:00+01:00         0.000000         0.000000         0.000000   \n",
       "2024-07-08 20:00:00+01:00         0.000000         0.000000         0.000000   \n",
       "2024-07-09 00:00:00+01:00         0.000000         0.000000         0.000000   \n",
       "\n",
       "                           y_model1  y_model2  y_model3  y_model4  y_model5  \\\n",
       "2021-03-02 00:00:00+01:00  0.254049  0.240845  0.263800  0.326913  0.283895   \n",
       "2021-03-02 04:00:00+01:00  0.240845  0.263800  0.326913  0.283895  0.256823   \n",
       "2021-03-02 08:00:00+01:00  0.263800  0.326913  0.283895  0.256823  0.217385   \n",
       "2021-03-02 12:00:00+01:00  0.326913  0.283895  0.256823  0.217385  0.220981   \n",
       "2021-03-02 16:00:00+01:00  0.283895  0.256823  0.217385  0.220981  0.242883   \n",
       "...                             ...       ...       ...       ...       ...   \n",
       "2024-07-08 08:00:00+01:00  0.885641  0.813495  0.762120  0.679996  0.679996   \n",
       "2024-07-08 12:00:00+01:00  0.813495  0.762120  0.679996  0.679996  0.679996   \n",
       "2024-07-08 16:00:00+01:00  0.762120  0.679996  0.679996  0.679996  0.679996   \n",
       "2024-07-08 20:00:00+01:00  0.679996  0.679996  0.679996  0.679996  0.679996   \n",
       "2024-07-09 00:00:00+01:00  0.679996  0.679996  0.679996  0.679996  0.679996   \n",
       "\n",
       "                           y_model6  \n",
       "2021-03-02 00:00:00+01:00  0.256823  \n",
       "2021-03-02 04:00:00+01:00  0.217385  \n",
       "2021-03-02 08:00:00+01:00  0.220981  \n",
       "2021-03-02 12:00:00+01:00  0.242883  \n",
       "2021-03-02 16:00:00+01:00  0.298951  \n",
       "...                             ...  \n",
       "2024-07-08 08:00:00+01:00  0.679996  \n",
       "2024-07-08 12:00:00+01:00  0.679996  \n",
       "2024-07-08 16:00:00+01:00  0.679996  \n",
       "2024-07-08 20:00:00+01:00  0.679996  \n",
       "2024-07-09 00:00:00+01:00  0.679996  \n",
       "\n",
       "[7231 rows x 18 columns]"
      ]
     },
     "execution_count": 89,
     "metadata": {},
     "output_type": "execute_result"
    }
   ],
   "source": [
    "df_label"
   ]
  },
  {
   "cell_type": "code",
   "execution_count": 90,
   "id": "3f547cc8-7c1f-45c8-892e-ecbdc12af885",
   "metadata": {},
   "outputs": [],
   "source": [
    "# Train Test Split\n",
    "x_train, x_test, y_train, y_test = split_dataframe(df_label, target_var=model_names)"
   ]
  },
  {
   "cell_type": "markdown",
   "id": "63e39e74-4eae-48a9-9f67-c2d493dafc66",
   "metadata": {},
   "source": [
    "### Model Initiation & Training"
   ]
  },
  {
   "cell_type": "code",
   "execution_count": 91,
   "id": "8f651b56-3a30-4993-93d8-2d30e1273e02",
   "metadata": {},
   "outputs": [],
   "source": [
    "# Model 1\n",
    "ylabel = 'y_model1'\n",
    "y_train_i = y_train[ylabel]\n",
    "y_test_i = y_test[ylabel]"
   ]
  },
  {
   "cell_type": "code",
   "execution_count": 92,
   "id": "5475af07-d10b-4ffc-a4e0-8b062c141dc0",
   "metadata": {},
   "outputs": [
    {
     "data": {
      "text/plain": [
       "2021-03-02 00:00:00+01:00    0.254049\n",
       "2021-03-02 04:00:00+01:00    0.240845\n",
       "2021-03-02 08:00:00+01:00    0.263800\n",
       "2021-03-02 12:00:00+01:00    0.326913\n",
       "2021-03-02 16:00:00+01:00    0.283895\n",
       "                               ...   \n",
       "2023-07-12 16:00:00+01:00    1.000000\n",
       "2023-07-12 20:00:00+01:00    1.000000\n",
       "2023-07-13 00:00:00+01:00    0.992353\n",
       "2023-07-13 04:00:00+01:00    0.611949\n",
       "2023-07-13 08:00:00+01:00    0.403146\n",
       "Name: y_model1, Length: 5061, dtype: float64"
      ]
     },
     "execution_count": 92,
     "metadata": {},
     "output_type": "execute_result"
    }
   ],
   "source": [
    "y_train_i"
   ]
  },
  {
   "cell_type": "markdown",
   "id": "74b54bcb-968b-4e0e-ae11-f9535d40e164",
   "metadata": {},
   "source": [
    "#### Grid Search"
   ]
  },
  {
   "cell_type": "code",
   "execution_count": 93,
   "id": "46637db5-419a-4433-9232-bf8a33f1ff85",
   "metadata": {},
   "outputs": [],
   "source": [
    "# Define Grid Search hyperparameters\n",
    "hyperparams = {\n",
    "    'kernel': ['linear', 'rbf', 'poly', 'sigmoid'],\n",
    "    'degree': [2, 3, 4, 5],\n",
    "    'C': [0.001, 0.01, 0.1, 1, 10, 100, 1000],\n",
    "    'epsilon': [0.01, 0.05, 0.1, 0.2, 0.5]\n",
    "}\n",
    "\n",
    "hyperparams_short = {\n",
    "    'kernel': ['linear', 'rbf', 'poly', 'sigmoid'],\n",
    "    'C': [0.001, 0.01, 0.1, 1, 10, 100],\n",
    "    'epsilon': [0.01, 0.05, 0.1, 0.2]\n",
    "}\n",
    "\n",
    "hyperparams_fine = {\n",
    "    'kernel': ['rbf', 'poly'],\n",
    "    'degree': [2, 3, 4],\n",
    "    'C': [0.1, 1, 10, 100],\n",
    "    'epsilon': [0.01, 0.05, 0.1, 0.2]\n",
    "}"
   ]
  },
  {
   "cell_type": "code",
   "execution_count": 94,
   "id": "4cdfa4c1-58c7-4f7c-b240-f14c295644da",
   "metadata": {},
   "outputs": [],
   "source": [
    "# Parameterize Grid Search\n",
    "svreg = SVR()\n",
    "grid_search = GridSearchCV(svreg, param_grid=hyperparams_short, cv=3, scoring='neg_mean_squared_error', n_jobs=-1, verbose=2)"
   ]
  },
  {
   "cell_type": "markdown",
   "id": "ecb57c1b-4fb4-4646-ac41-1f9fbe844508",
   "metadata": {},
   "source": [
    "##### Model 1"
   ]
  },
  {
   "cell_type": "code",
   "execution_count": 95,
   "id": "17421a35-c167-44a6-846b-ff051859ef42",
   "metadata": {},
   "outputs": [],
   "source": [
    "# Run Grid Search\n",
    "#grid_results = grid_search.fit(x_train, y_train_i)"
   ]
  },
  {
   "cell_type": "code",
   "execution_count": 96,
   "id": "981982de-4f93-4b14-894d-3cd73f7c10af",
   "metadata": {},
   "outputs": [],
   "source": [
    "# Extract Best Hyperparameters\n",
    "#best_params = grid_results.best_params_\n",
    "#best_score = grid_results.best_score_\n",
    "\n",
    "#print(f\"Best parameter combination: {best_params} with score {best_score}\")"
   ]
  },
  {
   "cell_type": "markdown",
   "id": "5c994262-6fcd-468d-a4c6-19b5bb668575",
   "metadata": {},
   "source": [
    "Best parameter combination: {'C': 10, 'epsilon': 0.01, 'kernel': 'poly'} with score -0.008726125428550028"
   ]
  },
  {
   "cell_type": "code",
   "execution_count": 97,
   "id": "969d4efd-3275-4a1d-9a3d-51a37c43006c",
   "metadata": {},
   "outputs": [],
   "source": [
    "#df_gridscore = pd.DataFrame(grid_results.cv_results_)\n",
    "#df_gridscore.sort_values(by='rank_test_score')"
   ]
  },
  {
   "cell_type": "code",
   "execution_count": 98,
   "id": "e3e96971-9d6b-4c77-b389-037f85630a88",
   "metadata": {},
   "outputs": [],
   "source": [
    "#grid_search_fine = GridSearchCV(svreg, param_grid=hyperparams_fine, cv=3, scoring='neg_mean_squared_error', n_jobs=-1, verbose=2)\n",
    "#grid_results_fine = grid_search_fine.fit(x_train, y_train_i)"
   ]
  },
  {
   "cell_type": "code",
   "execution_count": 99,
   "id": "d1adaba2-cf04-408b-84ec-96e2ae037869",
   "metadata": {},
   "outputs": [],
   "source": [
    "#pd.DataFrame(grid_results_fine.cv_results_).sort_values(by='rank_test_score')"
   ]
  },
  {
   "cell_type": "markdown",
   "id": "676e8620-6f62-4dfb-9b36-7bb54622663b",
   "metadata": {},
   "source": [
    "##### Model 2"
   ]
  },
  {
   "cell_type": "code",
   "execution_count": 100,
   "id": "73d2ca54-9a87-464b-960b-11a1a353003f",
   "metadata": {},
   "outputs": [],
   "source": [
    "# Run Grid Search\n",
    "#grid_results_2 = grid_search.fit(x_train, y_train['y_model2'])"
   ]
  },
  {
   "cell_type": "code",
   "execution_count": 101,
   "id": "8cb86b3d-b75e-4ad5-9af9-11723ffaa7df",
   "metadata": {},
   "outputs": [],
   "source": [
    "# Extract Best Hyperparameters\n",
    "#best_params_2 = grid_results_2.best_params_\n",
    "#best_score_2 = grid_results_2.best_score_\n",
    "\n",
    "#print(f\"Best parameter combination: {best_params_2} with score {best_score_2}\")"
   ]
  },
  {
   "cell_type": "markdown",
   "id": "a9f37951-8439-4895-9e43-7c56d1e2f101",
   "metadata": {},
   "source": [
    "Best parameter combination: {'C': 10, 'epsilon': 0.01, 'kernel': 'poly'} with score -0.013799575784727269"
   ]
  },
  {
   "cell_type": "markdown",
   "id": "ff1e2eb3-1601-4de1-ab4a-d06d25e567d9",
   "metadata": {},
   "source": [
    "##### Model 3"
   ]
  },
  {
   "cell_type": "code",
   "execution_count": 102,
   "id": "8807ba70-c9ac-4a53-ad9e-25f85f84c3b1",
   "metadata": {},
   "outputs": [],
   "source": [
    "# Run Grid Search\n",
    "#grid_results_3 = grid_search.fit(x_train, y_train['y_model3'])"
   ]
  },
  {
   "cell_type": "code",
   "execution_count": 103,
   "id": "9f2d4e1d-96c5-4774-b666-320f5100f41d",
   "metadata": {},
   "outputs": [],
   "source": [
    "# Extract Best Hyperparameters\n",
    "#best_params_3 = grid_results_3.best_params_\n",
    "#best_score_3 = grid_results_3.best_score_\n",
    "\n",
    "#print(f\"Best parameter combination: {best_params_3} with score {best_score_3}\")"
   ]
  },
  {
   "cell_type": "markdown",
   "id": "a4bb3d97-88c5-4f2a-88fe-fe93b09a013c",
   "metadata": {},
   "source": [
    "Best parameter combination: {'C': 1, 'epsilon': 0.1, 'kernel': 'poly'} with score -0.020381108206440613"
   ]
  },
  {
   "cell_type": "markdown",
   "id": "a38b4539-7edf-46a6-b871-e7d296d64f7b",
   "metadata": {},
   "source": [
    "##### Model 4"
   ]
  },
  {
   "cell_type": "code",
   "execution_count": 104,
   "id": "16cfb342-766e-40f7-98fc-67dd374fa177",
   "metadata": {},
   "outputs": [],
   "source": [
    "# Run Grid Search\n",
    "#grid_results_4 = grid_search.fit(x_train, y_train['y_model4'])"
   ]
  },
  {
   "cell_type": "code",
   "execution_count": 105,
   "id": "ada128e9-96e2-48f5-bcb2-2244203126f6",
   "metadata": {},
   "outputs": [],
   "source": [
    "# Extract Best Hyperparameters\n",
    "#best_params_4 = grid_results_4.best_params_\n",
    "#best_score_4 = grid_results_4.best_score_\n",
    "\n",
    "#print(f\"Best parameter combination: {best_params_4} with score {best_score_4}\")"
   ]
  },
  {
   "cell_type": "markdown",
   "id": "b5d8abca-db0a-411b-92d4-1dadc25ca1c5",
   "metadata": {},
   "source": [
    "Best parameter combination: {'C': 10, 'epsilon': 0.1, 'kernel': 'rbf'} with score -0.02638275599395644"
   ]
  },
  {
   "cell_type": "markdown",
   "id": "d3c99a06-83ec-428d-9e94-356df5d6ca60",
   "metadata": {},
   "source": [
    "##### Model 5"
   ]
  },
  {
   "cell_type": "code",
   "execution_count": 106,
   "id": "34f28f9e-9491-4984-887a-322cd254ef12",
   "metadata": {},
   "outputs": [],
   "source": [
    "# Run Grid Search\n",
    "#grid_results_5 = grid_search.fit(x_train, y_train['y_model5'])"
   ]
  },
  {
   "cell_type": "code",
   "execution_count": 107,
   "id": "b685537a-c344-4df3-8f1b-d431a0c5b971",
   "metadata": {},
   "outputs": [],
   "source": [
    "# Extract Best Hyperparameters\n",
    "#best_params_5 = grid_results_5.best_params_\n",
    "#best_score_5 = grid_results_5.best_score_\n",
    "\n",
    "#print(f\"Best parameter combination: {best_params_5} with score {best_score_5}\")"
   ]
  },
  {
   "cell_type": "markdown",
   "id": "68eac56b-4d85-4cf1-92d2-3e9147f50b92",
   "metadata": {},
   "source": [
    "Best parameter combination: {'C': 10, 'epsilon': 0.1, 'kernel': 'poly'} with score -0.03230184098204269\n",
    "\n"
   ]
  },
  {
   "cell_type": "markdown",
   "id": "535817e3-533d-4b77-a897-3a22cf38951c",
   "metadata": {},
   "source": [
    "##### Model 6"
   ]
  },
  {
   "cell_type": "code",
   "execution_count": 108,
   "id": "b72ea789-2344-4195-a394-aba5f1eabe35",
   "metadata": {},
   "outputs": [],
   "source": [
    "# Run Grid Search\n",
    "#grid_results_6 = grid_search.fit(x_train, y_train['y_model6'])"
   ]
  },
  {
   "cell_type": "code",
   "execution_count": 109,
   "id": "6e2278f6-c4e7-4e71-a352-bbe64be10c20",
   "metadata": {},
   "outputs": [],
   "source": [
    "# Extract Best Hyperparameters\n",
    "#best_params_6 = grid_results_6.best_params_\n",
    "#best_score_6 = grid_results_6.best_score_\n",
    "\n",
    "#print(f\"Best parameter combination: {best_params_6} with score {best_score_6}\")"
   ]
  },
  {
   "cell_type": "markdown",
   "id": "8bbccd71-caea-4eeb-82a7-1335d6e9c7f2",
   "metadata": {},
   "source": [
    "Best parameter combination: {'C': 1, 'epsilon': 0.1, 'kernel': 'poly'} with score -0.03852376506403533"
   ]
  },
  {
   "cell_type": "markdown",
   "id": "9de3752d-b6ca-454f-a5f0-c82f1bd2d656",
   "metadata": {},
   "source": [
    "#### Optimum Model Initiation"
   ]
  },
  {
   "cell_type": "code",
   "execution_count": 110,
   "id": "fd1bf30c-7464-4213-92bd-b76a6f02ec1e",
   "metadata": {},
   "outputs": [],
   "source": [
    "# Generate and Parameterize Models\n",
    "models = svr.build_svr(str_model=str_model)"
   ]
  },
  {
   "cell_type": "code",
   "execution_count": 111,
   "id": "ca10bba8-12d4-4a87-8c76-2996219123fe",
   "metadata": {},
   "outputs": [],
   "source": [
    "# Train models\n",
    "trained_models = svr.train_svr(svr_dict=models, x_train=x_train, y_train=y_train)"
   ]
  },
  {
   "cell_type": "code",
   "execution_count": 112,
   "id": "4592d3cc-bef2-4031-ad61-0fa4ee1b34eb",
   "metadata": {},
   "outputs": [],
   "source": [
    "# Predict Time Series\n",
    "y_pred = svr.predict_svr(trained_svr=trained_models, x_test=x_test, str_model=str_model)"
   ]
  },
  {
   "cell_type": "code",
   "execution_count": 113,
   "id": "77265c87-a375-4cd7-b49a-e2e8e1192df4",
   "metadata": {},
   "outputs": [],
   "source": [
    "# Rescale Predictions\n",
    "y_pred_rescaled = inverse_transform_minmax(df_scaled=y_pred, str_model=str_model, attributes=['base_lag0']) # base_lag0 as foundation for y_model1, etc.\n",
    "y_test_rescaled = inverse_transform_minmax(df_scaled=y_test['y_model1'], str_model=str_model, attributes=['base_lag0'])"
   ]
  },
  {
   "cell_type": "code",
   "execution_count": 114,
   "id": "3c96a0ae-8536-4bcd-a344-557dba2b2f9b",
   "metadata": {},
   "outputs": [
    {
     "data": {
      "image/png": "[encoded data removed]",
      "text/plain": [
       "<Figure size 640x480 with 1 Axes>"
      ]
     },
     "metadata": {},
     "output_type": "display_data"
    }
   ],
   "source": [
    "# Comparison Plot\n",
    "fig = evaluations.get_act_vs_pred_plot(y_test_rescaled, y_pred_rescaled)"
   ]
  },
  {
   "cell_type": "code",
   "execution_count": 115,
   "id": "afd940c5-1025-4224-b561-b428309b5e59",
   "metadata": {},
   "outputs": [
    {
     "data": {
      "text/plain": [
       "{'mae': 0.3576323264335304,\n",
       " 'mse': 0.2526143128172072,\n",
       " 'rmse': 0.5026075136895659,\n",
       " 'mape': 94095321234451.27,\n",
       " 'non-na%': 1.0,\n",
       " 'n_actual_obs': 2170,\n",
       " 'n_pred_nas': 0}"
      ]
     },
     "execution_count": 115,
     "metadata": {},
     "output_type": "execute_result"
    }
   ],
   "source": [
    "metrics = evaluations.get_eval_metrics(y_test_rescaled, y_pred_rescaled)\n",
    "metrics"
   ]
  },
  {
   "cell_type": "markdown",
   "id": "7eb744ae-63a4-4073-9449-597525d9b2e8",
   "metadata": {},
   "source": [
    "### Save Model Output for Ensemble"
   ]
  },
  {
   "cell_type": "code",
   "execution_count": 116,
   "id": "8065df8f-a00e-446c-b746-5a2b1db0ab07",
   "metadata": {},
   "outputs": [],
   "source": [
    "data_dict = {'ypred_svr': y_pred_rescaled,\n",
    "            'ytest_svr': y_test_rescaled}\n",
    "\n",
    "df_data = pd.DataFrame(data_dict)\n",
    "\n",
    "#df_data.to_csv('experiments/stacking_data/ypred_svr.csv')"
   ]
  },
  {
   "cell_type": "markdown",
   "id": "bc1adec5-54cc-4e36-8c15-5d456f09f826",
   "metadata": {},
   "source": [
    "### Save Model Output to DWH"
   ]
  },
  {
   "cell_type": "code",
   "execution_count": 117,
   "id": "670460a4-8b25-473e-991b-3d07d58b3170",
   "metadata": {},
   "outputs": [],
   "source": [
    "# Interpolate to 1h frequency\n",
    "ts_ypred_1h = y_pred_rescaled.resample('1h').interpolate()\n",
    "df_ypred_1h = ts_ypred_1h.to_frame()"
   ]
  },
  {
   "cell_type": "code",
   "execution_count": 118,
   "id": "55140abe-30ee-4e79-8193-bb9e71f8ebb3",
   "metadata": {},
   "outputs": [
    {
     "data": {
      "text/html": [
       "<div>\n",
       "<style scoped>\n",
       "    .dataframe tbody tr th:only-of-type {\n",
       "        vertical-align: middle;\n",
       "    }\n",
       "\n",
       "    .dataframe tbody tr th {\n",
       "        vertical-align: top;\n",
       "    }\n",
       "\n",
       "    .dataframe thead th {\n",
       "        text-align: right;\n",
       "    }\n",
       "</style>\n",
       "<table border=\"1\" class=\"dataframe\">\n",
       "  <thead>\n",
       "    <tr style=\"text-align: right;\">\n",
       "      <th></th>\n",
       "      <th>0</th>\n",
       "    </tr>\n",
       "  </thead>\n",
       "  <tbody>\n",
       "    <tr>\n",
       "      <th>2023-07-13 12:00:00+01:00</th>\n",
       "      <td>2.413860</td>\n",
       "    </tr>\n",
       "    <tr>\n",
       "      <th>2023-07-13 13:00:00+01:00</th>\n",
       "      <td>2.341075</td>\n",
       "    </tr>\n",
       "    <tr>\n",
       "      <th>2023-07-13 14:00:00+01:00</th>\n",
       "      <td>2.268290</td>\n",
       "    </tr>\n",
       "    <tr>\n",
       "      <th>2023-07-13 15:00:00+01:00</th>\n",
       "      <td>2.195505</td>\n",
       "    </tr>\n",
       "    <tr>\n",
       "      <th>2023-07-13 16:00:00+01:00</th>\n",
       "      <td>2.122721</td>\n",
       "    </tr>\n",
       "    <tr>\n",
       "      <th>...</th>\n",
       "      <td>...</td>\n",
       "    </tr>\n",
       "    <tr>\n",
       "      <th>2024-07-08 20:00:00+01:00</th>\n",
       "      <td>3.199341</td>\n",
       "    </tr>\n",
       "    <tr>\n",
       "      <th>2024-07-08 21:00:00+01:00</th>\n",
       "      <td>2.933367</td>\n",
       "    </tr>\n",
       "    <tr>\n",
       "      <th>2024-07-08 22:00:00+01:00</th>\n",
       "      <td>2.667392</td>\n",
       "    </tr>\n",
       "    <tr>\n",
       "      <th>2024-07-08 23:00:00+01:00</th>\n",
       "      <td>2.401418</td>\n",
       "    </tr>\n",
       "    <tr>\n",
       "      <th>2024-07-09 00:00:00+01:00</th>\n",
       "      <td>2.135443</td>\n",
       "    </tr>\n",
       "  </tbody>\n",
       "</table>\n",
       "<p>8677 rows × 1 columns</p>\n",
       "</div>"
      ],
      "text/plain": [
       "                                  0\n",
       "2023-07-13 12:00:00+01:00  2.413860\n",
       "2023-07-13 13:00:00+01:00  2.341075\n",
       "2023-07-13 14:00:00+01:00  2.268290\n",
       "2023-07-13 15:00:00+01:00  2.195505\n",
       "2023-07-13 16:00:00+01:00  2.122721\n",
       "...                             ...\n",
       "2024-07-08 20:00:00+01:00  3.199341\n",
       "2024-07-08 21:00:00+01:00  2.933367\n",
       "2024-07-08 22:00:00+01:00  2.667392\n",
       "2024-07-08 23:00:00+01:00  2.401418\n",
       "2024-07-09 00:00:00+01:00  2.135443\n",
       "\n",
       "[8677 rows x 1 columns]"
      ]
     },
     "execution_count": 118,
     "metadata": {},
     "output_type": "execute_result"
    }
   ],
   "source": [
    "df_ypred_1h"
   ]
  },
  {
   "cell_type": "code",
   "execution_count": 119,
   "id": "39a62edd-b9be-491f-b8ae-83c545b0e237",
   "metadata": {},
   "outputs": [],
   "source": [
    "# Create ts name string\n",
    "inlet_n = str_model.split('_')[0].capitalize()\n",
    "str_algo = str_model.split('_')[1].upper()\n",
    "str_pred = 'Prediction'\n",
    "ts_name = '_'.join([inlet_n, str_pred, str_algo])"
   ]
  },
  {
   "cell_type": "code",
   "execution_count": 120,
   "id": "b12298ab-980c-4be9-81de-bd44b9a0da92",
   "metadata": {},
   "outputs": [
    {
     "data": {
      "text/plain": [
       "True"
      ]
     },
     "execution_count": 120,
     "metadata": {},
     "output_type": "execute_result"
    }
   ],
   "source": [
    "# Save as csv\n",
    "'''\n",
    "write_DWH(str_path=os.path.join(r'\\\\srvedm11', 'Import', 'Messdaten', 'EPAG_Energie', 'DWH_EX_60'),\n",
    "          str_tsname=ts_name,\n",
    "          str_property='Python',\n",
    "          str_unit='m/3',\n",
    "          df_timeseries = df_ypred_1h\n",
    "          )\n",
    "'''"
   ]
  }
 ],
 "metadata": {
  "kernelspec": {
   "display_name": "Python 3 (ipykernel)",
   "language": "python",
   "name": "python3"
  },
  "language_info": {
   "codemirror_mode": {
    "name": "ipython",
    "version": 3
   },
   "file_extension": ".py",
   "mimetype": "text/x-python",
   "name": "python",
   "nbconvert_exporter": "python",
   "pygments_lexer": "ipython3",
   "version": "3.11.9"
  }
 },
 "nbformat": 4,
 "nbformat_minor": 5
}
