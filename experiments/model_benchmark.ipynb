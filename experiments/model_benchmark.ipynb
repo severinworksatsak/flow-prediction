{
 "cells": [
  {
   "cell_type": "markdown",
   "id": "f32e7195-1237-4974-a065-ad5695226dc8",
   "metadata": {},
   "source": [
    "## Forecast Benchmarking"
   ]
  },
  {
   "cell_type": "markdown",
   "id": "c2cc162c-3858-4065-be1d-0d4aaaf3e1dd",
   "metadata": {},
   "source": [
    "This notebook serves to recreate the EPAG RNN forecast for Inlets 1 and 2 at Kubel, before training and evaluating a series of auxiliary ML models designed to be used in the context of a stacked ensemble model."
   ]
  },
  {
   "cell_type": "markdown",
   "id": "574f4a55-2f71-48f7-9eb9-2d3c82d6dfbf",
   "metadata": {},
   "source": [
    "#### Import"
   ]
  },
  {
   "cell_type": "code",
   "execution_count": 1,
   "id": "a285d01b-7072-4880-ad80-33ff4b285b43",
   "metadata": {},
   "outputs": [],
   "source": [
    "import pandas as pd\n",
    "import numpy as np\n",
    "import keras\n",
    "import seaborn as sns\n",
    "import matplotlib.pyplot as plt\n",
    "from datetime import datetime, timedelta\n",
    "\n",
    "from solutil import dbqueries as dbq\n",
    "from solutil import evaluations as ev"
   ]
  },
  {
   "cell_type": "markdown",
   "id": "809abc58-650b-4d4f-a534-028a8c6a408e",
   "metadata": {},
   "source": [
    "#### Parameterization"
   ]
  },
  {
   "cell_type": "code",
   "execution_count": 2,
   "id": "fca8a939-fccd-464b-9245-1356ad40d529",
   "metadata": {},
   "outputs": [],
   "source": [
    "# TS ID Assignment\n",
    "act_inlet1 = 11127586\n",
    "pred_inlet1 = 11055610\n",
    "\n",
    "act_inlet2 = 11127590\n",
    "pred_inlet2 = 11055614"
   ]
  },
  {
   "cell_type": "code",
   "execution_count": 3,
   "id": "4f315cb7-fecf-4354-82e6-8a12e664743f",
   "metadata": {},
   "outputs": [],
   "source": [
    "# Parameter Assignment\n",
    "date_from = datetime.strptime('01.03.2021', '%d.%m.%Y')\n",
    "date_to = datetime.now() - timedelta(days=1)"
   ]
  },
  {
   "cell_type": "code",
   "execution_count": 4,
   "id": "1c20eba0-0448-4b1f-a355-e37f53a4e5ac",
   "metadata": {},
   "outputs": [],
   "source": [
    "# Load env variables\n",
    "env_vars = dbq.get_env_variables(mandant='EPAG_ENERGIE')"
   ]
  },
  {
   "cell_type": "markdown",
   "id": "7965df81-f076-402f-90e1-edf52288b5c4",
   "metadata": {},
   "source": [
    "#### TS Retrieval"
   ]
  },
  {
   "cell_type": "code",
   "execution_count": 5,
   "id": "bbc32faa-24c9-4ae9-9ebb-10bfc84cded5",
   "metadata": {},
   "outputs": [
    {
     "ename": "OperationalError",
     "evalue": "DPY-6005: cannot connect to database (CONNECTION_ID=M4R1DMaBfkLpYGUzLRiDIA==).\n[Errno 11001] getaddrinfo failed",
     "output_type": "error",
     "traceback": [
      "\u001b[1;31m---------------------------------------------------------------------------\u001b[0m",
      "\u001b[1;31mgaierror\u001b[0m                                  Traceback (most recent call last)",
      "File \u001b[1;32msrc\\\\oracledb\\\\impl/thin/connection.pyx:279\u001b[0m, in \u001b[0;36moracledb.thin_impl.ThinConnImpl._connect_with_address\u001b[1;34m()\u001b[0m\n",
      "File \u001b[1;32msrc\\\\oracledb\\\\impl/thin/protocol.pyx:221\u001b[0m, in \u001b[0;36moracledb.thin_impl.Protocol._connect_phase_one\u001b[1;34m()\u001b[0m\n",
      "File \u001b[1;32msrc\\\\oracledb\\\\impl/thin/protocol.pyx:352\u001b[0m, in \u001b[0;36moracledb.thin_impl.Protocol._connect_tcp\u001b[1;34m()\u001b[0m\n",
      "File \u001b[1;32mC:\\Program Files\\Python\\Python 3.11\\Lib\\socket.py:827\u001b[0m, in \u001b[0;36mcreate_connection\u001b[1;34m(address, timeout, source_address, all_errors)\u001b[0m\n\u001b[0;32m    826\u001b[0m exceptions \u001b[38;5;241m=\u001b[39m []\n\u001b[1;32m--> 827\u001b[0m \u001b[38;5;28;01mfor\u001b[39;00m res \u001b[38;5;129;01min\u001b[39;00m \u001b[43mgetaddrinfo\u001b[49m\u001b[43m(\u001b[49m\u001b[43mhost\u001b[49m\u001b[43m,\u001b[49m\u001b[43m \u001b[49m\u001b[43mport\u001b[49m\u001b[43m,\u001b[49m\u001b[43m \u001b[49m\u001b[38;5;241;43m0\u001b[39;49m\u001b[43m,\u001b[49m\u001b[43m \u001b[49m\u001b[43mSOCK_STREAM\u001b[49m\u001b[43m)\u001b[49m:\n\u001b[0;32m    828\u001b[0m     af, socktype, proto, canonname, sa \u001b[38;5;241m=\u001b[39m res\n",
      "File \u001b[1;32mC:\\Program Files\\Python\\Python 3.11\\Lib\\socket.py:962\u001b[0m, in \u001b[0;36mgetaddrinfo\u001b[1;34m(host, port, family, type, proto, flags)\u001b[0m\n\u001b[0;32m    961\u001b[0m addrlist \u001b[38;5;241m=\u001b[39m []\n\u001b[1;32m--> 962\u001b[0m \u001b[38;5;28;01mfor\u001b[39;00m res \u001b[38;5;129;01min\u001b[39;00m \u001b[43m_socket\u001b[49m\u001b[38;5;241;43m.\u001b[39;49m\u001b[43mgetaddrinfo\u001b[49m\u001b[43m(\u001b[49m\u001b[43mhost\u001b[49m\u001b[43m,\u001b[49m\u001b[43m \u001b[49m\u001b[43mport\u001b[49m\u001b[43m,\u001b[49m\u001b[43m \u001b[49m\u001b[43mfamily\u001b[49m\u001b[43m,\u001b[49m\u001b[43m \u001b[49m\u001b[38;5;28;43mtype\u001b[39;49m\u001b[43m,\u001b[49m\u001b[43m \u001b[49m\u001b[43mproto\u001b[49m\u001b[43m,\u001b[49m\u001b[43m \u001b[49m\u001b[43mflags\u001b[49m\u001b[43m)\u001b[49m:\n\u001b[0;32m    963\u001b[0m     af, socktype, proto, canonname, sa \u001b[38;5;241m=\u001b[39m res\n",
      "\u001b[1;31mgaierror\u001b[0m: [Errno 11001] getaddrinfo failed",
      "\nThe above exception was the direct cause of the following exception:\n",
      "\u001b[1;31mOperationalError\u001b[0m                          Traceback (most recent call last)",
      "Cell \u001b[1;32mIn[5], line 2\u001b[0m\n\u001b[0;32m      1\u001b[0m \u001b[38;5;66;03m# Inlet 1\u001b[39;00m\n\u001b[1;32m----> 2\u001b[0m df_act_inlet1 \u001b[38;5;241m=\u001b[39m \u001b[43mdbq\u001b[49m\u001b[38;5;241;43m.\u001b[39;49m\u001b[43mget_timeseries_1h\u001b[49m\u001b[43m(\u001b[49m\u001b[43mact_inlet1\u001b[49m\u001b[43m,\u001b[49m\u001b[43m \u001b[49m\u001b[43mdate_from\u001b[49m\u001b[43m,\u001b[49m\u001b[43m \u001b[49m\u001b[43mdate_to\u001b[49m\u001b[43m,\u001b[49m\u001b[43m \u001b[49m\u001b[38;5;241;43m*\u001b[39;49m\u001b[38;5;241;43m*\u001b[39;49m\u001b[43menv_vars\u001b[49m\u001b[43m)\u001b[49m\n\u001b[0;32m      3\u001b[0m df_pred_inlet1 \u001b[38;5;241m=\u001b[39m dbq\u001b[38;5;241m.\u001b[39mget_timeseries_1h(pred_inlet1, date_from, date_to, \u001b[38;5;241m*\u001b[39m\u001b[38;5;241m*\u001b[39menv_vars)\n",
      "File \u001b[1;32mC:\\Program Files\\Python\\venv311_datascience\\Lib\\site-packages\\solutil\\dbqueries.py:646\u001b[0m, in \u001b[0;36mget_timeseries_1h\u001b[1;34m(ts_id, date_from, date_to, mandant_user, mandant_pwd, mandant_addr, offset_summertime, col_name, USE_OLD_CX_ORACLE)\u001b[0m\n\u001b[0;32m    643\u001b[0m         ts_cursor \u001b[38;5;241m=\u001b[39m db_cursor\u001b[38;5;241m.\u001b[39mexecute(str_sql)\u001b[38;5;241m.\u001b[39mfetchall()\n\u001b[0;32m    644\u001b[0m \u001b[38;5;28;01melse\u001b[39;00m:\n\u001b[0;32m    645\u001b[0m     \u001b[38;5;66;03m# New db connection module\u001b[39;00m\n\u001b[1;32m--> 646\u001b[0m     \u001b[38;5;28;01mwith\u001b[39;00m \u001b[43moracledb\u001b[49m\u001b[38;5;241;43m.\u001b[39;49m\u001b[43mconnect\u001b[49m\u001b[43m(\u001b[49m\u001b[43muser\u001b[49m\u001b[38;5;241;43m=\u001b[39;49m\u001b[43mmandant_user\u001b[49m\u001b[43m,\u001b[49m\u001b[43m \u001b[49m\u001b[43mpassword\u001b[49m\u001b[38;5;241;43m=\u001b[39;49m\u001b[43mmandant_pwd\u001b[49m\u001b[43m,\u001b[49m\n\u001b[0;32m    647\u001b[0m \u001b[43m                          \u001b[49m\u001b[43mdsn\u001b[49m\u001b[38;5;241;43m=\u001b[39;49m\u001b[43mmandant_addr\u001b[49m\u001b[43m)\u001b[49m \u001b[38;5;28;01mas\u001b[39;00m db_conn:\n\u001b[0;32m    648\u001b[0m         db_cursor \u001b[38;5;241m=\u001b[39m db_conn\u001b[38;5;241m.\u001b[39mcursor()\n\u001b[0;32m    650\u001b[0m         \u001b[38;5;66;03m# Check timedelta conformity with get_timeseries interval\u001b[39;00m\n",
      "File \u001b[1;32mC:\\Program Files\\Python\\venv311_datascience\\Lib\\site-packages\\oracledb\\connection.py:1158\u001b[0m, in \u001b[0;36m_connection_factory.<locals>.connect\u001b[1;34m(dsn, pool, conn_class, params, **kwargs)\u001b[0m\n\u001b[0;32m   1156\u001b[0m     message \u001b[38;5;241m=\u001b[39m \u001b[38;5;124m\"\u001b[39m\u001b[38;5;124mpool must be an instance of oracledb.ConnectionPool\u001b[39m\u001b[38;5;124m\"\u001b[39m\n\u001b[0;32m   1157\u001b[0m     \u001b[38;5;28;01mraise\u001b[39;00m \u001b[38;5;167;01mTypeError\u001b[39;00m(message)\n\u001b[1;32m-> 1158\u001b[0m \u001b[38;5;28;01mreturn\u001b[39;00m \u001b[43mconn_class\u001b[49m\u001b[43m(\u001b[49m\u001b[43mdsn\u001b[49m\u001b[38;5;241;43m=\u001b[39;49m\u001b[43mdsn\u001b[49m\u001b[43m,\u001b[49m\u001b[43m \u001b[49m\u001b[43mpool\u001b[49m\u001b[38;5;241;43m=\u001b[39;49m\u001b[43mpool\u001b[49m\u001b[43m,\u001b[49m\u001b[43m \u001b[49m\u001b[43mparams\u001b[49m\u001b[38;5;241;43m=\u001b[39;49m\u001b[43mparams\u001b[49m\u001b[43m,\u001b[49m\u001b[43m \u001b[49m\u001b[38;5;241;43m*\u001b[39;49m\u001b[38;5;241;43m*\u001b[39;49m\u001b[43mkwargs\u001b[49m\u001b[43m)\u001b[49m\n",
      "File \u001b[1;32mC:\\Program Files\\Python\\venv311_datascience\\Lib\\site-packages\\oracledb\\connection.py:541\u001b[0m, in \u001b[0;36mConnection.__init__\u001b[1;34m(self, dsn, pool, params, **kwargs)\u001b[0m\n\u001b[0;32m    539\u001b[0m     \u001b[38;5;28;01melse\u001b[39;00m:\n\u001b[0;32m    540\u001b[0m         impl \u001b[38;5;241m=\u001b[39m thin_impl\u001b[38;5;241m.\u001b[39mThinConnImpl(dsn, params_impl)\n\u001b[1;32m--> 541\u001b[0m         \u001b[43mimpl\u001b[49m\u001b[38;5;241;43m.\u001b[39;49m\u001b[43mconnect\u001b[49m\u001b[43m(\u001b[49m\u001b[43mparams_impl\u001b[49m\u001b[43m)\u001b[49m\n\u001b[0;32m    542\u001b[0m \u001b[38;5;28;01melse\u001b[39;00m:\n\u001b[0;32m    543\u001b[0m     impl \u001b[38;5;241m=\u001b[39m thick_impl\u001b[38;5;241m.\u001b[39mThickConnImpl(dsn, params_impl)\n",
      "File \u001b[1;32msrc\\\\oracledb\\\\impl/thin/connection.pyx:381\u001b[0m, in \u001b[0;36moracledb.thin_impl.ThinConnImpl.connect\u001b[1;34m()\u001b[0m\n",
      "File \u001b[1;32msrc\\\\oracledb\\\\impl/thin/connection.pyx:377\u001b[0m, in \u001b[0;36moracledb.thin_impl.ThinConnImpl.connect\u001b[1;34m()\u001b[0m\n",
      "File \u001b[1;32msrc\\\\oracledb\\\\impl/thin/connection.pyx:337\u001b[0m, in \u001b[0;36moracledb.thin_impl.ThinConnImpl._connect_with_params\u001b[1;34m()\u001b[0m\n",
      "File \u001b[1;32msrc\\\\oracledb\\\\impl/thin/connection.pyx:318\u001b[0m, in \u001b[0;36moracledb.thin_impl.ThinConnImpl._connect_with_description\u001b[1;34m()\u001b[0m\n",
      "File \u001b[1;32msrc\\\\oracledb\\\\impl/thin/connection.pyx:284\u001b[0m, in \u001b[0;36moracledb.thin_impl.ThinConnImpl._connect_with_address\u001b[1;34m()\u001b[0m\n",
      "File \u001b[1;32mC:\\Program Files\\Python\\venv311_datascience\\Lib\\site-packages\\oracledb\\errors.py:181\u001b[0m, in \u001b[0;36m_raise_err\u001b[1;34m(error_num, context_error_message, cause, **args)\u001b[0m\n\u001b[0;32m    179\u001b[0m     message \u001b[38;5;241m=\u001b[39m \u001b[38;5;124mf\u001b[39m\u001b[38;5;124m\"\u001b[39m\u001b[38;5;132;01m{\u001b[39;00mmessage\u001b[38;5;132;01m}\u001b[39;00m\u001b[38;5;130;01m\\n\u001b[39;00m\u001b[38;5;132;01m{\u001b[39;00mcontext_error_message\u001b[38;5;132;01m}\u001b[39;00m\u001b[38;5;124m\"\u001b[39m\n\u001b[0;32m    180\u001b[0m error \u001b[38;5;241m=\u001b[39m _Error(message)\n\u001b[1;32m--> 181\u001b[0m \u001b[38;5;28;01mraise\u001b[39;00m error\u001b[38;5;241m.\u001b[39mexc_type(error) \u001b[38;5;28;01mfrom\u001b[39;00m \u001b[38;5;21;01mcause\u001b[39;00m\n",
      "\u001b[1;31mOperationalError\u001b[0m: DPY-6005: cannot connect to database (CONNECTION_ID=M4R1DMaBfkLpYGUzLRiDIA==).\n[Errno 11001] getaddrinfo failed"
     ]
    }
   ],
   "source": [
    "# Inlet 1\n",
    "df_act_inlet1 = dbq.get_timeseries_1h(act_inlet1, date_from, date_to, **env_vars)\n",
    "df_pred_inlet1 = dbq.get_timeseries_1h(pred_inlet1, date_from, date_to, **env_vars)"
   ]
  },
  {
   "cell_type": "code",
   "execution_count": null,
   "id": "18573120-b3c3-4adf-91ac-7de845f69b11",
   "metadata": {},
   "outputs": [],
   "source": [
    "# Inlet 2\n",
    "df_act_inlet2 = dbq.get_timeseries_1h(act_inlet2, date_from, date_to, **env_vars)\n",
    "df_pred_inlet2 = dbq.get_timeseries_1h(act_inlet1, date_from, date_to, **env_vars)"
   ]
  },
  {
   "cell_type": "code",
   "execution_count": null,
   "id": "2ac9bf15-cd1b-4217-aed9-2b1bee9b0ad4",
   "metadata": {},
   "outputs": [],
   "source": [
    "# Merge datasets\n",
    "df_act_inlet1.name = 'act_inlet1'\n",
    "df_inlets = df_act_inlet1.to_frame()\n",
    "df_inlets['pred_inlet1'] = df_pred_inlet1\n",
    "df_inlets['act_inlet2'] = df_act_inlet2\n",
    "df_inlets['pred_inlet2'] = df_pred_inlet2"
   ]
  },
  {
   "cell_type": "code",
   "execution_count": null,
   "id": "784ca621-a4bf-4777-ba61-2eef01d4dacb",
   "metadata": {},
   "outputs": [],
   "source": [
    "df_inlets"
   ]
  },
  {
   "cell_type": "markdown",
   "id": "d0e1358a-1ea3-4cc3-8553-0380d38ddee5",
   "metadata": {},
   "source": [
    "### EPAG Model Evaluation"
   ]
  },
  {
   "cell_type": "code",
   "execution_count": null,
   "id": "44a8138f-182d-47ba-8c60-a8d145a221a7",
   "metadata": {},
   "outputs": [],
   "source": [
    "# Actual vs. Prediction Plot\n",
    "fig = ev.get_act_vs_pred_plot(df_act_inlet1, df_pred_inlet1)"
   ]
  },
  {
   "cell_type": "code",
   "execution_count": null,
   "id": "35222945-86e6-40ef-8d66-88b0fec2e13e",
   "metadata": {},
   "outputs": [],
   "source": [
    "# Get Evaluation Metrics for Inlet 1 \n",
    "inlet1_metrics = ev.get_eval_metrics(df_act_inlet1, df_pred_inlet1)\n",
    "inlet1_metrics"
   ]
  },
  {
   "cell_type": "code",
   "execution_count": null,
   "id": "c4812a7d-55ae-455f-ae4c-714346645aba",
   "metadata": {},
   "outputs": [],
   "source": [
    "# Get Evaluation Metrics for Inlet 2\n",
    "inlet2_metrics = ev.get_eval_metrics(df_act_inlet2, df_pred_inlet2)\n",
    "inlet2_metrics"
   ]
  },
  {
   "cell_type": "code",
   "execution_count": null,
   "id": "3953a288-2fb9-488b-82d6-979b864bb158",
   "metadata": {},
   "outputs": [],
   "source": []
  },
  {
   "cell_type": "code",
   "execution_count": null,
   "id": "e75ee608-dbb3-433f-9484-be40851aed9c",
   "metadata": {},
   "outputs": [],
   "source": []
  },
  {
   "cell_type": "code",
   "execution_count": null,
   "id": "284940b6-df73-4860-a912-afcb1a78b609",
   "metadata": {},
   "outputs": [],
   "source": []
  }
 ],
 "metadata": {
  "kernelspec": {
   "display_name": "Python 3 (ipykernel)",
   "language": "python",
   "name": "python3"
  },
  "language_info": {
   "codemirror_mode": {
    "name": "ipython",
    "version": 3
   },
   "file_extension": ".py",
   "mimetype": "text/x-python",
   "name": "python",
   "nbconvert_exporter": "python",
   "pygments_lexer": "ipython3",
   "version": "3.11.9"
  }
 },
 "nbformat": 4,
 "nbformat_minor": 5
}
