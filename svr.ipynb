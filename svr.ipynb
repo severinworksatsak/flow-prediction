{
 "cells": [
  {
   "cell_type": "markdown",
   "id": "ddb72d86-7f78-470f-b0ce-77d7809860b3",
   "metadata": {},
   "source": [
    "# Support Vector Regression"
   ]
  },
  {
   "cell_type": "markdown",
   "id": "2a3fc557-1634-4cbf-9d8c-0ee54333d0e8",
   "metadata": {},
   "source": [
    "### Library Import"
   ]
  },
  {
   "cell_type": "code",
   "execution_count": 1,
   "id": "0b3c3fb7-e861-4ea2-afb0-d1c9929ee712",
   "metadata": {},
   "outputs": [],
   "source": [
    "import pandas as pd\n",
    "import numpy as np\n",
    "\n",
    "from models.utility import load_input, scale_with_minmax, get_dates_from_config, handle_outliers, get_params_from_config, dailydf_to_ts, inverse_transform_minmax, transform_dayofyear, split_dataframe \n",
    "from models.svr import SVReg\n",
    "from models.deeplearner import DeepLearner\n",
    "\n",
    "from solutil import evaluations\n",
    "\n",
    "from sklearn.model_selection import GridSearchCV\n",
    "from sklearn.svm import SVR"
   ]
  },
  {
   "cell_type": "markdown",
   "id": "90be9bc9-8cf5-46c1-b69e-4a1d19b4f187",
   "metadata": {},
   "source": [
    "### Input Preparation"
   ]
  },
  {
   "cell_type": "code",
   "execution_count": 2,
   "id": "ecc9fee9-b88d-42a6-b4ee-db2771caaef5",
   "metadata": {},
   "outputs": [],
   "source": [
    "# Define global variables\n",
    "str_model = 'inlet1_svr'"
   ]
  },
  {
   "cell_type": "code",
   "execution_count": 3,
   "id": "cb4ae9e9-c011-4fb0-8703-5b01f5103b5a",
   "metadata": {},
   "outputs": [
    {
     "name": "stdout",
     "output_type": "stream",
     "text": [
      "base\n",
      "base_1d\n",
      "useday_1d\n",
      "temp_1h\n",
      "glob_1h\n",
      "rain_1h\n",
      "bf15_1h\n",
      "schmelz_1h\n"
     ]
    }
   ],
   "source": [
    "# Load Input Parameters\n",
    "dates = get_dates_from_config(str_model)\n",
    "df_variables = load_input(str_model=str_model, **dates)"
   ]
  },
  {
   "cell_type": "code",
   "execution_count": 4,
   "id": "2efb3eed-d036-4107-abc7-34647a53baa7",
   "metadata": {},
   "outputs": [],
   "source": [
    "# Generate day-of-year sin and cos\n",
    "df_doy = transform_dayofyear(df_variables)"
   ]
  },
  {
   "cell_type": "code",
   "execution_count": 5,
   "id": "9dacfba5-ebd1-4770-a1fe-fc974ce07389",
   "metadata": {},
   "outputs": [
    {
     "name": "stdout",
     "output_type": "stream",
     "text": [
      "Variable base_lag0\n",
      "Variable base_1d_lag1\n",
      "Variable temp_1h_lag1\n",
      "Variable glob_1h_lag1\n",
      "Variable glob_1h_lag2\n",
      "Variable rain_1h_lag1\n",
      "Variable rain_1h_lag2\n",
      "Variable bf15_1h_lag0\n",
      "Variable bf15_1h_lag1\n",
      "Variable bf15_1h_lag2\n",
      "Variable schmelz_1h_lag1\n",
      "Variable schmelz_1h_lag2\n",
      "Variable schmelz_1h_lag3\n",
      "Variable yearday_sin\n",
      "Variable yearday_cos\n"
     ]
    }
   ],
   "source": [
    "# Handle outliers\n",
    "df_handled = handle_outliers(df_doy)"
   ]
  },
  {
   "cell_type": "code",
   "execution_count": 6,
   "id": "3a8d1792-4408-422c-a578-91fc53a9c56d",
   "metadata": {},
   "outputs": [],
   "source": [
    "# Scale inputs\n",
    "df_scaled = scale_with_minmax(df_variables, str_model)"
   ]
  },
  {
   "cell_type": "code",
   "execution_count": 7,
   "id": "733e53aa-1176-4618-b572-556d520ea37d",
   "metadata": {},
   "outputs": [],
   "source": [
    "# Initialize SVReg class\n",
    "svr = SVReg()"
   ]
  },
  {
   "cell_type": "code",
   "execution_count": 8,
   "id": "974b95f4-34d3-406c-9178-f4ad67dba0c5",
   "metadata": {},
   "outputs": [],
   "source": [
    "df_label, model_names = svr.build_model_input(df=df_scaled, target_var='base_lag0', str_model=str_model, n_offset=0)"
   ]
  },
  {
   "cell_type": "code",
   "execution_count": 9,
   "id": "3f547cc8-7c1f-45c8-892e-ecbdc12af885",
   "metadata": {},
   "outputs": [],
   "source": [
    "# Train Test Split\n",
    "x_train, x_test, y_train, y_test = split_dataframe(df_label, target_var=model_names)"
   ]
  },
  {
   "cell_type": "markdown",
   "id": "63e39e74-4eae-48a9-9f67-c2d493dafc66",
   "metadata": {},
   "source": [
    "### Model Initiation & Training"
   ]
  },
  {
   "cell_type": "code",
   "execution_count": 10,
   "id": "8f651b56-3a30-4993-93d8-2d30e1273e02",
   "metadata": {},
   "outputs": [],
   "source": [
    "# Model 1\n",
    "ylabel = 'y_model1'\n",
    "y_train_i = y_train[ylabel]\n",
    "y_test_i = y_test[ylabel]"
   ]
  },
  {
   "cell_type": "code",
   "execution_count": 11,
   "id": "5475af07-d10b-4ffc-a4e0-8b062c141dc0",
   "metadata": {},
   "outputs": [
    {
     "data": {
      "text/plain": [
       "2021-03-02 00:00:00+01:00    0.339328\n",
       "2021-03-02 04:00:00+01:00    0.303646\n",
       "2021-03-02 08:00:00+01:00    0.420746\n",
       "2021-03-02 12:00:00+01:00    0.436386\n",
       "2021-03-02 16:00:00+01:00    0.433634\n",
       "                               ...   \n",
       "2023-07-08 08:00:00+01:00    0.181514\n",
       "2023-07-08 12:00:00+01:00    0.171469\n",
       "2023-07-08 16:00:00+01:00    0.166980\n",
       "2023-07-08 20:00:00+01:00    0.166098\n",
       "2023-07-09 00:00:00+01:00    0.158742\n",
       "Name: y_model1, Length: 5011, dtype: float64"
      ]
     },
     "execution_count": 11,
     "metadata": {},
     "output_type": "execute_result"
    }
   ],
   "source": [
    "y_train_i"
   ]
  },
  {
   "cell_type": "markdown",
   "id": "74b54bcb-968b-4e0e-ae11-f9535d40e164",
   "metadata": {},
   "source": [
    "#### Grid Search"
   ]
  },
  {
   "cell_type": "code",
   "execution_count": 12,
   "id": "46637db5-419a-4433-9232-bf8a33f1ff85",
   "metadata": {},
   "outputs": [],
   "source": [
    "# Define Grid Search hyperparameters\n",
    "hyperparams = {\n",
    "    'kernel': ['linear', 'rbf', 'poly', 'sigmoid'],\n",
    "    'degree': [2, 3, 4, 5],\n",
    "    'C': [0.001, 0.01, 0.1, 1, 10, 100, 1000],\n",
    "    'epsilon': [0.01, 0.05, 0.1, 0.2, 0.5]\n",
    "}\n",
    "\n",
    "hyperparams_short = {\n",
    "    'kernel': ['linear', 'rbf', 'poly', 'sigmoid'],\n",
    "    'C': [0.001, 0.01, 0.1, 1, 10, 100],\n",
    "    'epsilon': [0.01, 0.05, 0.1, 0.2]\n",
    "}"
   ]
  },
  {
   "cell_type": "code",
   "execution_count": 13,
   "id": "4cdfa4c1-58c7-4f7c-b240-f14c295644da",
   "metadata": {},
   "outputs": [],
   "source": [
    "# Parameterize Grid Search\n",
    "svreg = SVR()\n",
    "grid_search = GridSearchCV(svreg, param_grid=hyperparams_short, cv=3, scoring='neg_mean_squared_error', n_jobs=-1, verbose=2)"
   ]
  },
  {
   "cell_type": "markdown",
   "id": "ecb57c1b-4fb4-4646-ac41-1f9fbe844508",
   "metadata": {},
   "source": [
    "##### Model 1"
   ]
  },
  {
   "cell_type": "code",
   "execution_count": 14,
   "id": "17421a35-c167-44a6-846b-ff051859ef42",
   "metadata": {},
   "outputs": [],
   "source": [
    "# Run Grid Search\n",
    "#grid_results = grid_search.fit(x_train, y_train_i)"
   ]
  },
  {
   "cell_type": "code",
   "execution_count": 15,
   "id": "981982de-4f93-4b14-894d-3cd73f7c10af",
   "metadata": {},
   "outputs": [],
   "source": [
    "# Extract Best Hyperparameters\n",
    "#best_params = grid_results.best_params_\n",
    "#best_score = grid_results.best_score_\n",
    "\n",
    "#print(f\"Best parameter combination: {best_params} with score {best_score}\")"
   ]
  },
  {
   "cell_type": "markdown",
   "id": "676e8620-6f62-4dfb-9b36-7bb54622663b",
   "metadata": {},
   "source": [
    "##### Model 2"
   ]
  },
  {
   "cell_type": "code",
   "execution_count": 16,
   "id": "73d2ca54-9a87-464b-960b-11a1a353003f",
   "metadata": {},
   "outputs": [],
   "source": [
    "# Run Grid Search\n",
    "# grid_results_2 = grid_search.fit(x_train, y_train['y_model2'])"
   ]
  },
  {
   "cell_type": "code",
   "execution_count": 17,
   "id": "8cb86b3d-b75e-4ad5-9af9-11723ffaa7df",
   "metadata": {},
   "outputs": [],
   "source": [
    "# Extract Best Hyperparameters\n",
    "#best_params_2 = grid_results_2.best_params_\n",
    "#best_score_2 = grid_results_2.best_score_\n",
    "\n",
    "#print(f\"Best parameter combination: {best_params_2} with score {best_score_2}\")"
   ]
  },
  {
   "cell_type": "markdown",
   "id": "ff1e2eb3-1601-4de1-ab4a-d06d25e567d9",
   "metadata": {},
   "source": [
    "##### Model 3"
   ]
  },
  {
   "cell_type": "code",
   "execution_count": 18,
   "id": "8807ba70-c9ac-4a53-ad9e-25f85f84c3b1",
   "metadata": {},
   "outputs": [],
   "source": [
    "# Run Grid Search\n",
    "#grid_results_3 = grid_search.fit(x_train, y_train['y_model3'])"
   ]
  },
  {
   "cell_type": "code",
   "execution_count": 19,
   "id": "9f2d4e1d-96c5-4774-b666-320f5100f41d",
   "metadata": {},
   "outputs": [],
   "source": [
    "# Extract Best Hyperparameters\n",
    "#best_params_3 = grid_results_3.best_params_\n",
    "#best_score_3 = grid_results_3.best_score_\n",
    "\n",
    "#print(f\"Best parameter combination: {best_params_3} with score {best_score_3}\")"
   ]
  },
  {
   "cell_type": "markdown",
   "id": "a38b4539-7edf-46a6-b871-e7d296d64f7b",
   "metadata": {},
   "source": [
    "##### Model 4"
   ]
  },
  {
   "cell_type": "code",
   "execution_count": 20,
   "id": "16cfb342-766e-40f7-98fc-67dd374fa177",
   "metadata": {},
   "outputs": [],
   "source": [
    "# Run Grid Search\n",
    "#grid_results_4 = grid_search.fit(x_train, y_train['y_model4'])"
   ]
  },
  {
   "cell_type": "code",
   "execution_count": 21,
   "id": "ada128e9-96e2-48f5-bcb2-2244203126f6",
   "metadata": {},
   "outputs": [],
   "source": [
    "# Extract Best Hyperparameters\n",
    "#best_params_4 = grid_results_4.best_params_\n",
    "#best_score_4 = grid_results_4.best_score_\n",
    "\n",
    "#print(f\"Best parameter combination: {best_params_4} with score {best_score_4}\")"
   ]
  },
  {
   "cell_type": "markdown",
   "id": "d3c99a06-83ec-428d-9e94-356df5d6ca60",
   "metadata": {},
   "source": [
    "##### Model 5"
   ]
  },
  {
   "cell_type": "code",
   "execution_count": 22,
   "id": "34f28f9e-9491-4984-887a-322cd254ef12",
   "metadata": {},
   "outputs": [],
   "source": [
    "# Run Grid Search\n",
    "#grid_results_5 = grid_search.fit(x_train, y_train['y_model5'])"
   ]
  },
  {
   "cell_type": "code",
   "execution_count": 23,
   "id": "b685537a-c344-4df3-8f1b-d431a0c5b971",
   "metadata": {},
   "outputs": [],
   "source": [
    "# Extract Best Hyperparameters\n",
    "#best_params_5 = grid_results_5.best_params_\n",
    "#best_score_5 = grid_results_5.best_score_\n",
    "\n",
    "#print(f\"Best parameter combination: {best_params_5} with score {best_score_5}\")"
   ]
  },
  {
   "cell_type": "markdown",
   "id": "535817e3-533d-4b77-a897-3a22cf38951c",
   "metadata": {},
   "source": [
    "##### Model 6"
   ]
  },
  {
   "cell_type": "code",
   "execution_count": 24,
   "id": "b72ea789-2344-4195-a394-aba5f1eabe35",
   "metadata": {},
   "outputs": [],
   "source": [
    "# Run Grid Search\n",
    "#grid_results_6 = grid_search.fit(x_train, y_train['y_model6'])"
   ]
  },
  {
   "cell_type": "code",
   "execution_count": 25,
   "id": "6e2278f6-c4e7-4e71-a352-bbe64be10c20",
   "metadata": {},
   "outputs": [],
   "source": [
    "# Extract Best Hyperparameters\n",
    "#best_params_6 = grid_results_6.best_params_\n",
    "#best_score_6 = grid_results_6.best_score_\n",
    "\n",
    "#print(f\"Best parameter combination: {best_params_6} with score {best_score_6}\")"
   ]
  },
  {
   "cell_type": "markdown",
   "id": "9de3752d-b6ca-454f-a5f0-c82f1bd2d656",
   "metadata": {},
   "source": [
    "#### Optimum Model Initiation"
   ]
  },
  {
   "cell_type": "code",
   "execution_count": 26,
   "id": "fd1bf30c-7464-4213-92bd-b76a6f02ec1e",
   "metadata": {},
   "outputs": [],
   "source": [
    "# Generate and Parameterize Models\n",
    "models = svr.build_svr(str_model='inlet1_svr')"
   ]
  },
  {
   "cell_type": "code",
   "execution_count": 27,
   "id": "ca10bba8-12d4-4a87-8c76-2996219123fe",
   "metadata": {},
   "outputs": [],
   "source": [
    "# Train models\n",
    "trained_models = svr.train_svr(svr_dict=models, x_train=x_train, y_train=y_train)"
   ]
  },
  {
   "cell_type": "code",
   "execution_count": 28,
   "id": "4592d3cc-bef2-4031-ad61-0fa4ee1b34eb",
   "metadata": {},
   "outputs": [],
   "source": [
    "# Predict Time Series\n",
    "y_pred = svr.predict_svr(trained_svr=trained_models, x_test=x_test, str_model='inlet1_svr')"
   ]
  },
  {
   "cell_type": "code",
   "execution_count": 29,
   "id": "77265c87-a375-4cd7-b49a-e2e8e1192df4",
   "metadata": {},
   "outputs": [],
   "source": [
    "# Rescale Predictions\n",
    "y_pred_rescaled = inverse_transform_minmax(df_scaled=y_pred, str_model='inlet1_svr', attributes=['base_lag0']) # base_lag0 as foundation for y_model1, etc.\n",
    "y_test_rescaled = inverse_transform_minmax(df_scaled=y_test['y_model1'], str_model='inlet1_svr', attributes=['base_lag0'])"
   ]
  },
  {
   "cell_type": "code",
   "execution_count": 30,
   "id": "3c96a0ae-8536-4bcd-a344-557dba2b2f9b",
   "metadata": {},
   "outputs": [
    {
     "data": {
      "image/png": "[encoded data removed]",
      "text/plain": [
       "<Figure size 640x480 with 1 Axes>"
      ]
     },
     "metadata": {},
     "output_type": "display_data"
    }
   ],
   "source": [
    "# Comparison Plot\n",
    "fig = evaluations.get_act_vs_pred_plot(y_test_rescaled, y_pred_rescaled)"
   ]
  },
  {
   "cell_type": "code",
   "execution_count": 31,
   "id": "afd940c5-1025-4224-b561-b428309b5e59",
   "metadata": {},
   "outputs": [
    {
     "data": {
      "text/plain": [
       "{'mae': 0.38812986364945146,\n",
       " 'mse': 0.28854896098135696,\n",
       " 'rmse': 0.5371675353010055,\n",
       " 'mape': 66757468145001.97,\n",
       " 'non-na%': 1.0,\n",
       " 'n_actual_obs': 2148,\n",
       " 'n_pred_nas': 0}"
      ]
     },
     "execution_count": 31,
     "metadata": {},
     "output_type": "execute_result"
    }
   ],
   "source": [
    "metrics = evaluations.get_eval_metrics(y_test_rescaled, y_pred_rescaled)\n",
    "metrics"
   ]
  },
  {
   "cell_type": "markdown",
   "id": "7eb744ae-63a4-4073-9449-597525d9b2e8",
   "metadata": {},
   "source": [
    "### Save Model Output for Ensemble"
   ]
  },
  {
   "cell_type": "code",
   "execution_count": 32,
   "id": "8065df8f-a00e-446c-b746-5a2b1db0ab07",
   "metadata": {},
   "outputs": [],
   "source": [
    "data_dict = {'ypred_svr': y_pred_rescaled,\n",
    "            'ytest_svr': y_test_rescaled}\n",
    "\n",
    "df_data = pd.DataFrame(data_dict)\n",
    "\n",
    "df_data.to_csv('experiments/stacking_data/ypred_svr.csv')"
   ]
  },
  {
   "cell_type": "code",
   "execution_count": 33,
   "id": "5a84f505-c634-4028-9474-6ff7bfe7c7da",
   "metadata": {},
   "outputs": [
    {
     "data": {
      "text/html": [
       "<div>\n",
       "<style scoped>\n",
       "    .dataframe tbody tr th:only-of-type {\n",
       "        vertical-align: middle;\n",
       "    }\n",
       "\n",
       "    .dataframe tbody tr th {\n",
       "        vertical-align: top;\n",
       "    }\n",
       "\n",
       "    .dataframe thead th {\n",
       "        text-align: right;\n",
       "    }\n",
       "</style>\n",
       "<table border=\"1\" class=\"dataframe\">\n",
       "  <thead>\n",
       "    <tr style=\"text-align: right;\">\n",
       "      <th></th>\n",
       "      <th>ypred_svr</th>\n",
       "      <th>ytest_svr</th>\n",
       "    </tr>\n",
       "  </thead>\n",
       "  <tbody>\n",
       "    <tr>\n",
       "      <th>2023-07-09 04:00:00+01:00</th>\n",
       "      <td>0.731832</td>\n",
       "      <td>0.671400</td>\n",
       "    </tr>\n",
       "    <tr>\n",
       "      <th>2023-07-09 08:00:00+01:00</th>\n",
       "      <td>0.765535</td>\n",
       "      <td>0.698208</td>\n",
       "    </tr>\n",
       "    <tr>\n",
       "      <th>2023-07-09 12:00:00+01:00</th>\n",
       "      <td>0.759781</td>\n",
       "      <td>0.654186</td>\n",
       "    </tr>\n",
       "    <tr>\n",
       "      <th>2023-07-09 16:00:00+01:00</th>\n",
       "      <td>0.814333</td>\n",
       "      <td>0.643881</td>\n",
       "    </tr>\n",
       "    <tr>\n",
       "      <th>2023-07-09 20:00:00+01:00</th>\n",
       "      <td>0.927604</td>\n",
       "      <td>0.633477</td>\n",
       "    </tr>\n",
       "    <tr>\n",
       "      <th>...</th>\n",
       "      <td>...</td>\n",
       "      <td>...</td>\n",
       "    </tr>\n",
       "    <tr>\n",
       "      <th>2024-06-30 08:00:00+01:00</th>\n",
       "      <td>4.290542</td>\n",
       "      <td>4.200000</td>\n",
       "    </tr>\n",
       "    <tr>\n",
       "      <th>2024-06-30 12:00:00+01:00</th>\n",
       "      <td>3.868063</td>\n",
       "      <td>4.200000</td>\n",
       "    </tr>\n",
       "    <tr>\n",
       "      <th>2024-06-30 16:00:00+01:00</th>\n",
       "      <td>3.867082</td>\n",
       "      <td>4.200000</td>\n",
       "    </tr>\n",
       "    <tr>\n",
       "      <th>2024-06-30 20:00:00+01:00</th>\n",
       "      <td>3.829652</td>\n",
       "      <td>4.200000</td>\n",
       "    </tr>\n",
       "    <tr>\n",
       "      <th>2024-07-01 00:00:00+01:00</th>\n",
       "      <td>3.864968</td>\n",
       "      <td>4.200000</td>\n",
       "    </tr>\n",
       "  </tbody>\n",
       "</table>\n",
       "<p>2148 rows × 2 columns</p>\n",
       "</div>"
      ],
      "text/plain": [
       "                           ypred_svr  ytest_svr\n",
       "2023-07-09 04:00:00+01:00   0.731832   0.671400\n",
       "2023-07-09 08:00:00+01:00   0.765535   0.698208\n",
       "2023-07-09 12:00:00+01:00   0.759781   0.654186\n",
       "2023-07-09 16:00:00+01:00   0.814333   0.643881\n",
       "2023-07-09 20:00:00+01:00   0.927604   0.633477\n",
       "...                              ...        ...\n",
       "2024-06-30 08:00:00+01:00   4.290542   4.200000\n",
       "2024-06-30 12:00:00+01:00   3.868063   4.200000\n",
       "2024-06-30 16:00:00+01:00   3.867082   4.200000\n",
       "2024-06-30 20:00:00+01:00   3.829652   4.200000\n",
       "2024-07-01 00:00:00+01:00   3.864968   4.200000\n",
       "\n",
       "[2148 rows x 2 columns]"
      ]
     },
     "execution_count": 33,
     "metadata": {},
     "output_type": "execute_result"
    }
   ],
   "source": [
    "df_data"
   ]
  },
  {
   "cell_type": "code",
   "execution_count": 34,
   "id": "0b7d69fa-d68d-47f5-8238-b60b08b95fa5",
   "metadata": {},
   "outputs": [
    {
     "data": {
      "text/html": [
       "<div>\n",
       "<style scoped>\n",
       "    .dataframe tbody tr th:only-of-type {\n",
       "        vertical-align: middle;\n",
       "    }\n",
       "\n",
       "    .dataframe tbody tr th {\n",
       "        vertical-align: top;\n",
       "    }\n",
       "\n",
       "    .dataframe thead th {\n",
       "        text-align: right;\n",
       "    }\n",
       "</style>\n",
       "<table border=\"1\" class=\"dataframe\">\n",
       "  <thead>\n",
       "    <tr style=\"text-align: right;\">\n",
       "      <th></th>\n",
       "      <th>base_lag0</th>\n",
       "      <th>base_1d_lag1</th>\n",
       "      <th>temp_1h_lag1</th>\n",
       "      <th>glob_1h_lag1</th>\n",
       "      <th>glob_1h_lag2</th>\n",
       "      <th>rain_1h_lag1</th>\n",
       "      <th>rain_1h_lag2</th>\n",
       "      <th>bf15_1h_lag0</th>\n",
       "      <th>bf15_1h_lag1</th>\n",
       "      <th>bf15_1h_lag2</th>\n",
       "      <th>schmelz_1h_lag1</th>\n",
       "      <th>schmelz_1h_lag2</th>\n",
       "      <th>schmelz_1h_lag3</th>\n",
       "      <th>yearday_sin</th>\n",
       "      <th>yearday_cos</th>\n",
       "    </tr>\n",
       "  </thead>\n",
       "  <tbody>\n",
       "    <tr>\n",
       "      <th>2023-07-07 00:00:00+01:00</th>\n",
       "      <td>0.923743</td>\n",
       "      <td>1.497743</td>\n",
       "      <td>14.489583</td>\n",
       "      <td>0.791667</td>\n",
       "      <td>207.391667</td>\n",
       "      <td>0.000000</td>\n",
       "      <td>0.000000</td>\n",
       "      <td>0.807833</td>\n",
       "      <td>0.818396</td>\n",
       "      <td>0.829625</td>\n",
       "      <td>0.0</td>\n",
       "      <td>0.0</td>\n",
       "      <td>0.0</td>\n",
       "      <td>-0.094537</td>\n",
       "      <td>-0.995521</td>\n",
       "    </tr>\n",
       "    <tr>\n",
       "      <th>2023-07-07 04:00:00+01:00</th>\n",
       "      <td>0.871824</td>\n",
       "      <td>1.042527</td>\n",
       "      <td>13.041667</td>\n",
       "      <td>1.207292</td>\n",
       "      <td>0.791667</td>\n",
       "      <td>0.000000</td>\n",
       "      <td>0.000000</td>\n",
       "      <td>0.798938</td>\n",
       "      <td>0.807833</td>\n",
       "      <td>0.818396</td>\n",
       "      <td>0.0</td>\n",
       "      <td>0.0</td>\n",
       "      <td>0.0</td>\n",
       "      <td>-0.097393</td>\n",
       "      <td>-0.995246</td>\n",
       "    </tr>\n",
       "    <tr>\n",
       "      <th>2023-07-07 08:00:00+01:00</th>\n",
       "      <td>0.874634</td>\n",
       "      <td>1.042527</td>\n",
       "      <td>14.095833</td>\n",
       "      <td>256.358333</td>\n",
       "      <td>1.207292</td>\n",
       "      <td>0.000000</td>\n",
       "      <td>0.000000</td>\n",
       "      <td>0.861813</td>\n",
       "      <td>0.798938</td>\n",
       "      <td>0.807833</td>\n",
       "      <td>0.0</td>\n",
       "      <td>0.0</td>\n",
       "      <td>0.0</td>\n",
       "      <td>-0.100248</td>\n",
       "      <td>-0.994963</td>\n",
       "    </tr>\n",
       "    <tr>\n",
       "      <th>2023-07-07 12:00:00+01:00</th>\n",
       "      <td>1.502004</td>\n",
       "      <td>1.042527</td>\n",
       "      <td>20.310417</td>\n",
       "      <td>817.010417</td>\n",
       "      <td>256.358333</td>\n",
       "      <td>0.000833</td>\n",
       "      <td>0.000000</td>\n",
       "      <td>0.830625</td>\n",
       "      <td>0.861813</td>\n",
       "      <td>0.798938</td>\n",
       "      <td>0.0</td>\n",
       "      <td>0.0</td>\n",
       "      <td>0.0</td>\n",
       "      <td>-0.103102</td>\n",
       "      <td>-0.994671</td>\n",
       "    </tr>\n",
       "    <tr>\n",
       "      <th>2023-07-07 16:00:00+01:00</th>\n",
       "      <td>1.119425</td>\n",
       "      <td>1.042527</td>\n",
       "      <td>23.977083</td>\n",
       "      <td>790.308333</td>\n",
       "      <td>817.010417</td>\n",
       "      <td>0.000000</td>\n",
       "      <td>0.000833</td>\n",
       "      <td>0.795000</td>\n",
       "      <td>0.830625</td>\n",
       "      <td>0.861813</td>\n",
       "      <td>0.0</td>\n",
       "      <td>0.0</td>\n",
       "      <td>0.0</td>\n",
       "      <td>-0.105955</td>\n",
       "      <td>-0.994371</td>\n",
       "    </tr>\n",
       "    <tr>\n",
       "      <th>2023-07-07 20:00:00+01:00</th>\n",
       "      <td>0.930587</td>\n",
       "      <td>1.042527</td>\n",
       "      <td>22.879167</td>\n",
       "      <td>234.696875</td>\n",
       "      <td>790.308333</td>\n",
       "      <td>0.000000</td>\n",
       "      <td>0.000000</td>\n",
       "      <td>0.779500</td>\n",
       "      <td>0.795000</td>\n",
       "      <td>0.830625</td>\n",
       "      <td>0.0</td>\n",
       "      <td>0.0</td>\n",
       "      <td>0.0</td>\n",
       "      <td>-0.108807</td>\n",
       "      <td>-0.994063</td>\n",
       "    </tr>\n",
       "    <tr>\n",
       "      <th>2023-07-08 00:00:00+01:00</th>\n",
       "      <td>0.844650</td>\n",
       "      <td>1.042527</td>\n",
       "      <td>18.854167</td>\n",
       "      <td>0.752083</td>\n",
       "      <td>234.696875</td>\n",
       "      <td>0.000000</td>\n",
       "      <td>0.000000</td>\n",
       "      <td>0.770000</td>\n",
       "      <td>0.779500</td>\n",
       "      <td>0.795000</td>\n",
       "      <td>0.0</td>\n",
       "      <td>0.0</td>\n",
       "      <td>0.0</td>\n",
       "      <td>-0.111659</td>\n",
       "      <td>-0.993747</td>\n",
       "    </tr>\n",
       "    <tr>\n",
       "      <th>2023-07-08 04:00:00+01:00</th>\n",
       "      <td>0.755625</td>\n",
       "      <td>0.766633</td>\n",
       "      <td>17.816667</td>\n",
       "      <td>0.580208</td>\n",
       "      <td>0.752083</td>\n",
       "      <td>0.000000</td>\n",
       "      <td>0.000000</td>\n",
       "      <td>0.761958</td>\n",
       "      <td>0.770000</td>\n",
       "      <td>0.779500</td>\n",
       "      <td>0.0</td>\n",
       "      <td>0.0</td>\n",
       "      <td>0.0</td>\n",
       "      <td>-0.114510</td>\n",
       "      <td>-0.993422</td>\n",
       "    </tr>\n",
       "    <tr>\n",
       "      <th>2023-07-08 08:00:00+01:00</th>\n",
       "      <td>0.759966</td>\n",
       "      <td>0.766633</td>\n",
       "      <td>17.431250</td>\n",
       "      <td>111.318750</td>\n",
       "      <td>0.580208</td>\n",
       "      <td>0.000000</td>\n",
       "      <td>0.000000</td>\n",
       "      <td>0.814979</td>\n",
       "      <td>0.761958</td>\n",
       "      <td>0.770000</td>\n",
       "      <td>0.0</td>\n",
       "      <td>0.0</td>\n",
       "      <td>0.0</td>\n",
       "      <td>-0.117359</td>\n",
       "      <td>-0.993090</td>\n",
       "    </tr>\n",
       "    <tr>\n",
       "      <th>2023-07-08 12:00:00+01:00</th>\n",
       "      <td>0.762359</td>\n",
       "      <td>0.766633</td>\n",
       "      <td>20.370833</td>\n",
       "      <td>604.631250</td>\n",
       "      <td>111.318750</td>\n",
       "      <td>0.000000</td>\n",
       "      <td>0.000000</td>\n",
       "      <td>0.791646</td>\n",
       "      <td>0.814979</td>\n",
       "      <td>0.761958</td>\n",
       "      <td>0.0</td>\n",
       "      <td>0.0</td>\n",
       "      <td>0.0</td>\n",
       "      <td>-0.120208</td>\n",
       "      <td>-0.992749</td>\n",
       "    </tr>\n",
       "  </tbody>\n",
       "</table>\n",
       "</div>"
      ],
      "text/plain": [
       "                           base_lag0  base_1d_lag1  temp_1h_lag1  \\\n",
       "2023-07-07 00:00:00+01:00   0.923743      1.497743     14.489583   \n",
       "2023-07-07 04:00:00+01:00   0.871824      1.042527     13.041667   \n",
       "2023-07-07 08:00:00+01:00   0.874634      1.042527     14.095833   \n",
       "2023-07-07 12:00:00+01:00   1.502004      1.042527     20.310417   \n",
       "2023-07-07 16:00:00+01:00   1.119425      1.042527     23.977083   \n",
       "2023-07-07 20:00:00+01:00   0.930587      1.042527     22.879167   \n",
       "2023-07-08 00:00:00+01:00   0.844650      1.042527     18.854167   \n",
       "2023-07-08 04:00:00+01:00   0.755625      0.766633     17.816667   \n",
       "2023-07-08 08:00:00+01:00   0.759966      0.766633     17.431250   \n",
       "2023-07-08 12:00:00+01:00   0.762359      0.766633     20.370833   \n",
       "\n",
       "                           glob_1h_lag1  glob_1h_lag2  rain_1h_lag1  \\\n",
       "2023-07-07 00:00:00+01:00      0.791667    207.391667      0.000000   \n",
       "2023-07-07 04:00:00+01:00      1.207292      0.791667      0.000000   \n",
       "2023-07-07 08:00:00+01:00    256.358333      1.207292      0.000000   \n",
       "2023-07-07 12:00:00+01:00    817.010417    256.358333      0.000833   \n",
       "2023-07-07 16:00:00+01:00    790.308333    817.010417      0.000000   \n",
       "2023-07-07 20:00:00+01:00    234.696875    790.308333      0.000000   \n",
       "2023-07-08 00:00:00+01:00      0.752083    234.696875      0.000000   \n",
       "2023-07-08 04:00:00+01:00      0.580208      0.752083      0.000000   \n",
       "2023-07-08 08:00:00+01:00    111.318750      0.580208      0.000000   \n",
       "2023-07-08 12:00:00+01:00    604.631250    111.318750      0.000000   \n",
       "\n",
       "                           rain_1h_lag2  bf15_1h_lag0  bf15_1h_lag1  \\\n",
       "2023-07-07 00:00:00+01:00      0.000000      0.807833      0.818396   \n",
       "2023-07-07 04:00:00+01:00      0.000000      0.798938      0.807833   \n",
       "2023-07-07 08:00:00+01:00      0.000000      0.861813      0.798938   \n",
       "2023-07-07 12:00:00+01:00      0.000000      0.830625      0.861813   \n",
       "2023-07-07 16:00:00+01:00      0.000833      0.795000      0.830625   \n",
       "2023-07-07 20:00:00+01:00      0.000000      0.779500      0.795000   \n",
       "2023-07-08 00:00:00+01:00      0.000000      0.770000      0.779500   \n",
       "2023-07-08 04:00:00+01:00      0.000000      0.761958      0.770000   \n",
       "2023-07-08 08:00:00+01:00      0.000000      0.814979      0.761958   \n",
       "2023-07-08 12:00:00+01:00      0.000000      0.791646      0.814979   \n",
       "\n",
       "                           bf15_1h_lag2  schmelz_1h_lag1  schmelz_1h_lag2  \\\n",
       "2023-07-07 00:00:00+01:00      0.829625              0.0              0.0   \n",
       "2023-07-07 04:00:00+01:00      0.818396              0.0              0.0   \n",
       "2023-07-07 08:00:00+01:00      0.807833              0.0              0.0   \n",
       "2023-07-07 12:00:00+01:00      0.798938              0.0              0.0   \n",
       "2023-07-07 16:00:00+01:00      0.861813              0.0              0.0   \n",
       "2023-07-07 20:00:00+01:00      0.830625              0.0              0.0   \n",
       "2023-07-08 00:00:00+01:00      0.795000              0.0              0.0   \n",
       "2023-07-08 04:00:00+01:00      0.779500              0.0              0.0   \n",
       "2023-07-08 08:00:00+01:00      0.770000              0.0              0.0   \n",
       "2023-07-08 12:00:00+01:00      0.761958              0.0              0.0   \n",
       "\n",
       "                           schmelz_1h_lag3  yearday_sin  yearday_cos  \n",
       "2023-07-07 00:00:00+01:00              0.0    -0.094537    -0.995521  \n",
       "2023-07-07 04:00:00+01:00              0.0    -0.097393    -0.995246  \n",
       "2023-07-07 08:00:00+01:00              0.0    -0.100248    -0.994963  \n",
       "2023-07-07 12:00:00+01:00              0.0    -0.103102    -0.994671  \n",
       "2023-07-07 16:00:00+01:00              0.0    -0.105955    -0.994371  \n",
       "2023-07-07 20:00:00+01:00              0.0    -0.108807    -0.994063  \n",
       "2023-07-08 00:00:00+01:00              0.0    -0.111659    -0.993747  \n",
       "2023-07-08 04:00:00+01:00              0.0    -0.114510    -0.993422  \n",
       "2023-07-08 08:00:00+01:00              0.0    -0.117359    -0.993090  \n",
       "2023-07-08 12:00:00+01:00              0.0    -0.120208    -0.992749  "
      ]
     },
     "execution_count": 34,
     "metadata": {},
     "output_type": "execute_result"
    }
   ],
   "source": [
    "df_variables[df_variables.index >= '2023-07-07 00:00:00+01:00'].head(10)"
   ]
  }
 ],
 "metadata": {
  "kernelspec": {
   "display_name": "Python 3 (ipykernel)",
   "language": "python",
   "name": "python3"
  },
  "language_info": {
   "codemirror_mode": {
    "name": "ipython",
    "version": 3
   },
   "file_extension": ".py",
   "mimetype": "text/x-python",
   "name": "python",
   "nbconvert_exporter": "python",
   "pygments_lexer": "ipython3",
   "version": "3.11.9"
  }
 },
 "nbformat": 4,
 "nbformat_minor": 5
}
