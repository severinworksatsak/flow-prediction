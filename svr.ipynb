{
 "cells": [
  {
   "cell_type": "markdown",
   "id": "ddb72d86-7f78-470f-b0ce-77d7809860b3",
   "metadata": {},
   "source": [
    "# Support Vector Regression"
   ]
  },
  {
   "cell_type": "markdown",
   "id": "2a3fc557-1634-4cbf-9d8c-0ee54333d0e8",
   "metadata": {},
   "source": [
    "### Library Import"
   ]
  },
  {
   "cell_type": "code",
   "execution_count": 1,
   "id": "0b3c3fb7-e861-4ea2-afb0-d1c9929ee712",
   "metadata": {},
   "outputs": [],
   "source": [
    "import pandas as pd\n",
    "import numpy as np\n",
    "\n",
    "from models.utility import load_input, scale_with_minmax, get_dates_from_config, handle_outliers, get_params_from_config, dailydf_to_ts, inverse_transform_minmax, transform_dayofyear, split_dataframe \n",
    "from models.svr import SVReg\n",
    "from models.deeplearner import DeepLearner\n",
    "\n",
    "from solutil import evaluations\n",
    "\n",
    "from sklearn.model_selection import GridSearchCV\n",
    "from sklearn.svm import SVR"
   ]
  },
  {
   "cell_type": "markdown",
   "id": "90be9bc9-8cf5-46c1-b69e-4a1d19b4f187",
   "metadata": {},
   "source": [
    "### Input Preparation"
   ]
  },
  {
   "cell_type": "code",
   "execution_count": 2,
   "id": "ecc9fee9-b88d-42a6-b4ee-db2771caaef5",
   "metadata": {},
   "outputs": [],
   "source": [
    "# Define global variables\n",
    "str_model = 'inlet1_svr'"
   ]
  },
  {
   "cell_type": "code",
   "execution_count": 3,
   "id": "cb4ae9e9-c011-4fb0-8703-5b01f5103b5a",
   "metadata": {},
   "outputs": [
    {
     "name": "stdout",
     "output_type": "stream",
     "text": [
      "base\n",
      "base_1d\n",
      "useday_1d\n",
      "temp_1h\n",
      "glob_1h\n",
      "rain_1h\n",
      "bf15_1h\n",
      "schmelz_1h\n"
     ]
    }
   ],
   "source": [
    "# Load Input Parameters\n",
    "dates = get_dates_from_config(str_model)\n",
    "df_variables = load_input(str_model=str_model, **dates)"
   ]
  },
  {
   "cell_type": "code",
   "execution_count": 4,
   "id": "2efb3eed-d036-4107-abc7-34647a53baa7",
   "metadata": {},
   "outputs": [],
   "source": [
    "# Generate day-of-year sin and cos\n",
    "df_doy = transform_dayofyear(df_variables)"
   ]
  },
  {
   "cell_type": "code",
   "execution_count": 5,
   "id": "9dacfba5-ebd1-4770-a1fe-fc974ce07389",
   "metadata": {},
   "outputs": [
    {
     "name": "stdout",
     "output_type": "stream",
     "text": [
      "Variable base_lag0\n",
      "Variable base_1d_lag1\n",
      "Variable temp_1h_lag1\n",
      "Variable glob_1h_lag1\n",
      "Variable glob_1h_lag2\n",
      "Variable rain_1h_lag1\n",
      "Variable rain_1h_lag2\n",
      "Variable bf15_1h_lag0\n",
      "Variable bf15_1h_lag1\n",
      "Variable bf15_1h_lag2\n",
      "Variable schmelz_1h_lag1\n",
      "Variable schmelz_1h_lag2\n",
      "Variable schmelz_1h_lag3\n",
      "Variable yearday_sin\n",
      "Variable yearday_cos\n"
     ]
    }
   ],
   "source": [
    "# Handle outliers\n",
    "df_handled = handle_outliers(df_doy)"
   ]
  },
  {
   "cell_type": "code",
   "execution_count": 6,
   "id": "3a8d1792-4408-422c-a578-91fc53a9c56d",
   "metadata": {},
   "outputs": [],
   "source": [
    "# Scale inputs\n",
    "df_scaled = scale_with_minmax(df_variables, str_model)"
   ]
  },
  {
   "cell_type": "code",
   "execution_count": 7,
   "id": "733e53aa-1176-4618-b572-556d520ea37d",
   "metadata": {},
   "outputs": [],
   "source": [
    "# Initialize SVReg class\n",
    "svr = SVReg()"
   ]
  },
  {
   "cell_type": "code",
   "execution_count": 8,
   "id": "974b95f4-34d3-406c-9178-f4ad67dba0c5",
   "metadata": {},
   "outputs": [],
   "source": [
    "df_label, model_names = svr.build_model_input(df=df_scaled, target_var='base_lag0', str_model=str_model, n_offset=0)"
   ]
  },
  {
   "cell_type": "code",
   "execution_count": 9,
   "id": "3f547cc8-7c1f-45c8-892e-ecbdc12af885",
   "metadata": {},
   "outputs": [],
   "source": [
    "# Train Test Split\n",
    "x_train, x_test, y_train, y_test = split_dataframe(df_label, target_var=model_names)"
   ]
  },
  {
   "cell_type": "markdown",
   "id": "63e39e74-4eae-48a9-9f67-c2d493dafc66",
   "metadata": {},
   "source": [
    "### Model Initiation & Training"
   ]
  },
  {
   "cell_type": "code",
   "execution_count": 10,
   "id": "8f651b56-3a30-4993-93d8-2d30e1273e02",
   "metadata": {},
   "outputs": [],
   "source": [
    "# Model 1\n",
    "ylabel = 'y_model1'\n",
    "y_train_i = y_train[ylabel]\n",
    "y_test_i = y_test[ylabel]"
   ]
  },
  {
   "cell_type": "code",
   "execution_count": 11,
   "id": "5475af07-d10b-4ffc-a4e0-8b062c141dc0",
   "metadata": {},
   "outputs": [
    {
     "data": {
      "text/plain": [
       "2021-03-02 00:00:00+01:00    0.339328\n",
       "2021-03-02 04:00:00+01:00    0.303646\n",
       "2021-03-02 08:00:00+01:00    0.420746\n",
       "2021-03-02 12:00:00+01:00    0.436386\n",
       "2021-03-02 16:00:00+01:00    0.433634\n",
       "                               ...   \n",
       "2023-07-06 04:00:00+01:00    0.370832\n",
       "2023-07-06 08:00:00+01:00    0.430731\n",
       "2023-07-06 12:00:00+01:00    0.311001\n",
       "2023-07-06 16:00:00+01:00    0.258464\n",
       "2023-07-06 20:00:00+01:00    0.219939\n",
       "Name: y_model1, Length: 4998, dtype: float64"
      ]
     },
     "execution_count": 11,
     "metadata": {},
     "output_type": "execute_result"
    }
   ],
   "source": [
    "y_train_i"
   ]
  },
  {
   "cell_type": "markdown",
   "id": "74b54bcb-968b-4e0e-ae11-f9535d40e164",
   "metadata": {},
   "source": [
    "#### Grid Search"
   ]
  },
  {
   "cell_type": "code",
   "execution_count": 12,
   "id": "46637db5-419a-4433-9232-bf8a33f1ff85",
   "metadata": {},
   "outputs": [],
   "source": [
    "# Define Grid Search hyperparameters\n",
    "hyperparams = {\n",
    "    'kernel': ['linear', 'rbf', 'poly', 'sigmoid'],\n",
    "    'degree': [2, 3, 4, 5],\n",
    "    'C': [0.001, 0.01, 0.1, 1, 10, 100, 1000],\n",
    "    'epsilon': [0.01, 0.05, 0.1, 0.2, 0.5]\n",
    "}\n",
    "\n",
    "hyperparams_short = {\n",
    "    'kernel': ['linear', 'rbf', 'poly', 'sigmoid'],\n",
    "    'C': [0.001, 0.01, 0.1, 1, 10, 100],\n",
    "    'epsilon': [0.01, 0.05, 0.1, 0.2]\n",
    "}"
   ]
  },
  {
   "cell_type": "code",
   "execution_count": 13,
   "id": "4cdfa4c1-58c7-4f7c-b240-f14c295644da",
   "metadata": {},
   "outputs": [],
   "source": [
    "# Parameterize Grid Search\n",
    "svreg = SVR()\n",
    "grid_search = GridSearchCV(svreg, param_grid=hyperparams_short, cv=3, scoring='neg_mean_squared_error', n_jobs=-1, verbose=2)"
   ]
  },
  {
   "cell_type": "markdown",
   "id": "ecb57c1b-4fb4-4646-ac41-1f9fbe844508",
   "metadata": {},
   "source": [
    "##### Model 1"
   ]
  },
  {
   "cell_type": "code",
   "execution_count": 14,
   "id": "17421a35-c167-44a6-846b-ff051859ef42",
   "metadata": {},
   "outputs": [],
   "source": [
    "# Run Grid Search\n",
    "#grid_results = grid_search.fit(x_train, y_train_i)"
   ]
  },
  {
   "cell_type": "code",
   "execution_count": 15,
   "id": "981982de-4f93-4b14-894d-3cd73f7c10af",
   "metadata": {},
   "outputs": [],
   "source": [
    "# Extract Best Hyperparameters\n",
    "#best_params = grid_results.best_params_\n",
    "#best_score = grid_results.best_score_\n",
    "\n",
    "#print(f\"Best parameter combination: {best_params} with score {best_score}\")"
   ]
  },
  {
   "cell_type": "markdown",
   "id": "676e8620-6f62-4dfb-9b36-7bb54622663b",
   "metadata": {},
   "source": [
    "##### Model 2"
   ]
  },
  {
   "cell_type": "code",
   "execution_count": 16,
   "id": "73d2ca54-9a87-464b-960b-11a1a353003f",
   "metadata": {},
   "outputs": [],
   "source": [
    "# Run Grid Search\n",
    "# grid_results_2 = grid_search.fit(x_train, y_train['y_model2'])"
   ]
  },
  {
   "cell_type": "code",
   "execution_count": 17,
   "id": "8cb86b3d-b75e-4ad5-9af9-11723ffaa7df",
   "metadata": {},
   "outputs": [],
   "source": [
    "# Extract Best Hyperparameters\n",
    "#best_params_2 = grid_results_2.best_params_\n",
    "#best_score_2 = grid_results_2.best_score_\n",
    "\n",
    "#print(f\"Best parameter combination: {best_params_2} with score {best_score_2}\")"
   ]
  },
  {
   "cell_type": "markdown",
   "id": "ff1e2eb3-1601-4de1-ab4a-d06d25e567d9",
   "metadata": {},
   "source": [
    "##### Model 3"
   ]
  },
  {
   "cell_type": "code",
   "execution_count": 18,
   "id": "8807ba70-c9ac-4a53-ad9e-25f85f84c3b1",
   "metadata": {},
   "outputs": [],
   "source": [
    "# Run Grid Search\n",
    "#grid_results_3 = grid_search.fit(x_train, y_train['y_model3'])"
   ]
  },
  {
   "cell_type": "code",
   "execution_count": 19,
   "id": "9f2d4e1d-96c5-4774-b666-320f5100f41d",
   "metadata": {},
   "outputs": [],
   "source": [
    "# Extract Best Hyperparameters\n",
    "#best_params_3 = grid_results_3.best_params_\n",
    "#best_score_3 = grid_results_3.best_score_\n",
    "\n",
    "#print(f\"Best parameter combination: {best_params_3} with score {best_score_3}\")"
   ]
  },
  {
   "cell_type": "markdown",
   "id": "a38b4539-7edf-46a6-b871-e7d296d64f7b",
   "metadata": {},
   "source": [
    "##### Model 4"
   ]
  },
  {
   "cell_type": "code",
   "execution_count": 20,
   "id": "16cfb342-766e-40f7-98fc-67dd374fa177",
   "metadata": {},
   "outputs": [],
   "source": [
    "# Run Grid Search\n",
    "#grid_results_4 = grid_search.fit(x_train, y_train['y_model4'])"
   ]
  },
  {
   "cell_type": "code",
   "execution_count": 21,
   "id": "ada128e9-96e2-48f5-bcb2-2244203126f6",
   "metadata": {},
   "outputs": [],
   "source": [
    "# Extract Best Hyperparameters\n",
    "#best_params_4 = grid_results_4.best_params_\n",
    "#best_score_4 = grid_results_4.best_score_\n",
    "\n",
    "#print(f\"Best parameter combination: {best_params_4} with score {best_score_4}\")"
   ]
  },
  {
   "cell_type": "markdown",
   "id": "d3c99a06-83ec-428d-9e94-356df5d6ca60",
   "metadata": {},
   "source": [
    "##### Model 5"
   ]
  },
  {
   "cell_type": "code",
   "execution_count": 22,
   "id": "34f28f9e-9491-4984-887a-322cd254ef12",
   "metadata": {},
   "outputs": [],
   "source": [
    "# Run Grid Search\n",
    "#grid_results_5 = grid_search.fit(x_train, y_train['y_model5'])"
   ]
  },
  {
   "cell_type": "code",
   "execution_count": 23,
   "id": "b685537a-c344-4df3-8f1b-d431a0c5b971",
   "metadata": {},
   "outputs": [],
   "source": [
    "# Extract Best Hyperparameters\n",
    "#best_params_5 = grid_results_5.best_params_\n",
    "#best_score_5 = grid_results_5.best_score_\n",
    "\n",
    "#print(f\"Best parameter combination: {best_params_5} with score {best_score_5}\")"
   ]
  },
  {
   "cell_type": "markdown",
   "id": "535817e3-533d-4b77-a897-3a22cf38951c",
   "metadata": {},
   "source": [
    "##### Model 6"
   ]
  },
  {
   "cell_type": "code",
   "execution_count": 24,
   "id": "b72ea789-2344-4195-a394-aba5f1eabe35",
   "metadata": {},
   "outputs": [],
   "source": [
    "# Run Grid Search\n",
    "#grid_results_6 = grid_search.fit(x_train, y_train['y_model6'])"
   ]
  },
  {
   "cell_type": "code",
   "execution_count": 25,
   "id": "6e2278f6-c4e7-4e71-a352-bbe64be10c20",
   "metadata": {},
   "outputs": [],
   "source": [
    "# Extract Best Hyperparameters\n",
    "#best_params_6 = grid_results_6.best_params_\n",
    "#best_score_6 = grid_results_6.best_score_\n",
    "\n",
    "#print(f\"Best parameter combination: {best_params_6} with score {best_score_6}\")"
   ]
  },
  {
   "cell_type": "markdown",
   "id": "9de3752d-b6ca-454f-a5f0-c82f1bd2d656",
   "metadata": {},
   "source": [
    "#### Optimum Model Initiation"
   ]
  },
  {
   "cell_type": "code",
   "execution_count": 26,
   "id": "fd1bf30c-7464-4213-92bd-b76a6f02ec1e",
   "metadata": {},
   "outputs": [],
   "source": [
    "# Generate and Parameterize Models\n",
    "models = svr.build_svr(str_model='inlet1_svr')"
   ]
  },
  {
   "cell_type": "code",
   "execution_count": 27,
   "id": "ca10bba8-12d4-4a87-8c76-2996219123fe",
   "metadata": {},
   "outputs": [],
   "source": [
    "# Train models\n",
    "trained_models = svr.train_svr(svr_dict=models, x_train=x_train, y_train=y_train)"
   ]
  },
  {
   "cell_type": "code",
   "execution_count": 28,
   "id": "4592d3cc-bef2-4031-ad61-0fa4ee1b34eb",
   "metadata": {},
   "outputs": [],
   "source": [
    "# Predict Time Series\n",
    "y_pred = svr.predict_svr(trained_svr=trained_models, x_test=x_test, str_model='inlet1_svr')"
   ]
  },
  {
   "cell_type": "code",
   "execution_count": 29,
   "id": "77265c87-a375-4cd7-b49a-e2e8e1192df4",
   "metadata": {},
   "outputs": [],
   "source": [
    "# Rescale Predictions\n",
    "y_pred_rescaled = inverse_transform_minmax(df_scaled=y_pred, str_model='inlet1_svr', attributes=['base_lag0']) # base_lag0 as foundation for y_model1, etc.\n",
    "y_test_rescaled = inverse_transform_minmax(df_scaled=y_test['y_model1'], str_model='inlet1_svr', attributes=['base_lag0'])"
   ]
  },
  {
   "cell_type": "code",
   "execution_count": 30,
   "id": "3c96a0ae-8536-4bcd-a344-557dba2b2f9b",
   "metadata": {},
   "outputs": [
    {
     "data": {
      "image/png": "[encoded data removed]",
      "text/plain": [
       "<Figure size 640x480 with 1 Axes>"
      ]
     },
     "metadata": {},
     "output_type": "display_data"
    }
   ],
   "source": [
    "# Comparison Plot\n",
    "fig = evaluations.get_act_vs_pred_plot(y_test_rescaled, y_pred_rescaled)"
   ]
  },
  {
   "cell_type": "code",
   "execution_count": 31,
   "id": "afd940c5-1025-4224-b561-b428309b5e59",
   "metadata": {},
   "outputs": [
    {
     "data": {
      "text/plain": [
       "{'mae': 0.3913920982824978,\n",
       " 'mse': 0.2942241994117369,\n",
       " 'rmse': 0.5424243720665001,\n",
       " 'mape': 66702978681807.266,\n",
       " 'non-na%': 1.0,\n",
       " 'n_actual_obs': 2143,\n",
       " 'n_pred_nas': 0}"
      ]
     },
     "execution_count": 31,
     "metadata": {},
     "output_type": "execute_result"
    }
   ],
   "source": [
    "metrics = evaluations.get_eval_metrics(y_test_rescaled, y_pred_rescaled)\n",
    "metrics"
   ]
  },
  {
   "cell_type": "markdown",
   "id": "7eb744ae-63a4-4073-9449-597525d9b2e8",
   "metadata": {},
   "source": [
    "### Save Model Output for Ensemble"
   ]
  },
  {
   "cell_type": "code",
   "execution_count": 32,
   "id": "8065df8f-a00e-446c-b746-5a2b1db0ab07",
   "metadata": {},
   "outputs": [
    {
     "ename": "PermissionError",
     "evalue": "[Errno 13] Permission denied: 'experiments/stacking_data/ypred_svr.csv'",
     "output_type": "error",
     "traceback": [
      "\u001b[1;31m---------------------------------------------------------------------------\u001b[0m",
      "\u001b[1;31mPermissionError\u001b[0m                           Traceback (most recent call last)",
      "Cell \u001b[1;32mIn[32], line 6\u001b[0m\n\u001b[0;32m      1\u001b[0m data_dict \u001b[38;5;241m=\u001b[39m {\u001b[38;5;124m'\u001b[39m\u001b[38;5;124mypred_svr\u001b[39m\u001b[38;5;124m'\u001b[39m: y_pred_rescaled,\n\u001b[0;32m      2\u001b[0m             \u001b[38;5;124m'\u001b[39m\u001b[38;5;124mytest_svr\u001b[39m\u001b[38;5;124m'\u001b[39m: y_test_rescaled}\n\u001b[0;32m      4\u001b[0m df_data \u001b[38;5;241m=\u001b[39m pd\u001b[38;5;241m.\u001b[39mDataFrame(data_dict)\n\u001b[1;32m----> 6\u001b[0m \u001b[43mdf_data\u001b[49m\u001b[38;5;241;43m.\u001b[39;49m\u001b[43mto_csv\u001b[49m\u001b[43m(\u001b[49m\u001b[38;5;124;43m'\u001b[39;49m\u001b[38;5;124;43mexperiments/stacking_data/ypred_svr.csv\u001b[39;49m\u001b[38;5;124;43m'\u001b[39;49m\u001b[43m)\u001b[49m\n",
      "File \u001b[1;32mC:\\Program Files\\Python\\venv311_datascience\\Lib\\site-packages\\pandas\\util\\_decorators.py:333\u001b[0m, in \u001b[0;36mdeprecate_nonkeyword_arguments.<locals>.decorate.<locals>.wrapper\u001b[1;34m(*args, **kwargs)\u001b[0m\n\u001b[0;32m    327\u001b[0m \u001b[38;5;28;01mif\u001b[39;00m \u001b[38;5;28mlen\u001b[39m(args) \u001b[38;5;241m>\u001b[39m num_allow_args:\n\u001b[0;32m    328\u001b[0m     warnings\u001b[38;5;241m.\u001b[39mwarn(\n\u001b[0;32m    329\u001b[0m         msg\u001b[38;5;241m.\u001b[39mformat(arguments\u001b[38;5;241m=\u001b[39m_format_argument_list(allow_args)),\n\u001b[0;32m    330\u001b[0m         \u001b[38;5;167;01mFutureWarning\u001b[39;00m,\n\u001b[0;32m    331\u001b[0m         stacklevel\u001b[38;5;241m=\u001b[39mfind_stack_level(),\n\u001b[0;32m    332\u001b[0m     )\n\u001b[1;32m--> 333\u001b[0m \u001b[38;5;28;01mreturn\u001b[39;00m \u001b[43mfunc\u001b[49m\u001b[43m(\u001b[49m\u001b[38;5;241;43m*\u001b[39;49m\u001b[43margs\u001b[49m\u001b[43m,\u001b[49m\u001b[43m \u001b[49m\u001b[38;5;241;43m*\u001b[39;49m\u001b[38;5;241;43m*\u001b[39;49m\u001b[43mkwargs\u001b[49m\u001b[43m)\u001b[49m\n",
      "File \u001b[1;32mC:\\Program Files\\Python\\venv311_datascience\\Lib\\site-packages\\pandas\\core\\generic.py:3964\u001b[0m, in \u001b[0;36mNDFrame.to_csv\u001b[1;34m(self, path_or_buf, sep, na_rep, float_format, columns, header, index, index_label, mode, encoding, compression, quoting, quotechar, lineterminator, chunksize, date_format, doublequote, escapechar, decimal, errors, storage_options)\u001b[0m\n\u001b[0;32m   3953\u001b[0m df \u001b[38;5;241m=\u001b[39m \u001b[38;5;28mself\u001b[39m \u001b[38;5;28;01mif\u001b[39;00m \u001b[38;5;28misinstance\u001b[39m(\u001b[38;5;28mself\u001b[39m, ABCDataFrame) \u001b[38;5;28;01melse\u001b[39;00m \u001b[38;5;28mself\u001b[39m\u001b[38;5;241m.\u001b[39mto_frame()\n\u001b[0;32m   3955\u001b[0m formatter \u001b[38;5;241m=\u001b[39m DataFrameFormatter(\n\u001b[0;32m   3956\u001b[0m     frame\u001b[38;5;241m=\u001b[39mdf,\n\u001b[0;32m   3957\u001b[0m     header\u001b[38;5;241m=\u001b[39mheader,\n\u001b[1;32m   (...)\u001b[0m\n\u001b[0;32m   3961\u001b[0m     decimal\u001b[38;5;241m=\u001b[39mdecimal,\n\u001b[0;32m   3962\u001b[0m )\n\u001b[1;32m-> 3964\u001b[0m \u001b[38;5;28;01mreturn\u001b[39;00m \u001b[43mDataFrameRenderer\u001b[49m\u001b[43m(\u001b[49m\u001b[43mformatter\u001b[49m\u001b[43m)\u001b[49m\u001b[38;5;241;43m.\u001b[39;49m\u001b[43mto_csv\u001b[49m\u001b[43m(\u001b[49m\n\u001b[0;32m   3965\u001b[0m \u001b[43m    \u001b[49m\u001b[43mpath_or_buf\u001b[49m\u001b[43m,\u001b[49m\n\u001b[0;32m   3966\u001b[0m \u001b[43m    \u001b[49m\u001b[43mlineterminator\u001b[49m\u001b[38;5;241;43m=\u001b[39;49m\u001b[43mlineterminator\u001b[49m\u001b[43m,\u001b[49m\n\u001b[0;32m   3967\u001b[0m \u001b[43m    \u001b[49m\u001b[43msep\u001b[49m\u001b[38;5;241;43m=\u001b[39;49m\u001b[43msep\u001b[49m\u001b[43m,\u001b[49m\n\u001b[0;32m   3968\u001b[0m \u001b[43m    \u001b[49m\u001b[43mencoding\u001b[49m\u001b[38;5;241;43m=\u001b[39;49m\u001b[43mencoding\u001b[49m\u001b[43m,\u001b[49m\n\u001b[0;32m   3969\u001b[0m \u001b[43m    \u001b[49m\u001b[43merrors\u001b[49m\u001b[38;5;241;43m=\u001b[39;49m\u001b[43merrors\u001b[49m\u001b[43m,\u001b[49m\n\u001b[0;32m   3970\u001b[0m \u001b[43m    \u001b[49m\u001b[43mcompression\u001b[49m\u001b[38;5;241;43m=\u001b[39;49m\u001b[43mcompression\u001b[49m\u001b[43m,\u001b[49m\n\u001b[0;32m   3971\u001b[0m \u001b[43m    \u001b[49m\u001b[43mquoting\u001b[49m\u001b[38;5;241;43m=\u001b[39;49m\u001b[43mquoting\u001b[49m\u001b[43m,\u001b[49m\n\u001b[0;32m   3972\u001b[0m \u001b[43m    \u001b[49m\u001b[43mcolumns\u001b[49m\u001b[38;5;241;43m=\u001b[39;49m\u001b[43mcolumns\u001b[49m\u001b[43m,\u001b[49m\n\u001b[0;32m   3973\u001b[0m \u001b[43m    \u001b[49m\u001b[43mindex_label\u001b[49m\u001b[38;5;241;43m=\u001b[39;49m\u001b[43mindex_label\u001b[49m\u001b[43m,\u001b[49m\n\u001b[0;32m   3974\u001b[0m \u001b[43m    \u001b[49m\u001b[43mmode\u001b[49m\u001b[38;5;241;43m=\u001b[39;49m\u001b[43mmode\u001b[49m\u001b[43m,\u001b[49m\n\u001b[0;32m   3975\u001b[0m \u001b[43m    \u001b[49m\u001b[43mchunksize\u001b[49m\u001b[38;5;241;43m=\u001b[39;49m\u001b[43mchunksize\u001b[49m\u001b[43m,\u001b[49m\n\u001b[0;32m   3976\u001b[0m \u001b[43m    \u001b[49m\u001b[43mquotechar\u001b[49m\u001b[38;5;241;43m=\u001b[39;49m\u001b[43mquotechar\u001b[49m\u001b[43m,\u001b[49m\n\u001b[0;32m   3977\u001b[0m \u001b[43m    \u001b[49m\u001b[43mdate_format\u001b[49m\u001b[38;5;241;43m=\u001b[39;49m\u001b[43mdate_format\u001b[49m\u001b[43m,\u001b[49m\n\u001b[0;32m   3978\u001b[0m \u001b[43m    \u001b[49m\u001b[43mdoublequote\u001b[49m\u001b[38;5;241;43m=\u001b[39;49m\u001b[43mdoublequote\u001b[49m\u001b[43m,\u001b[49m\n\u001b[0;32m   3979\u001b[0m \u001b[43m    \u001b[49m\u001b[43mescapechar\u001b[49m\u001b[38;5;241;43m=\u001b[39;49m\u001b[43mescapechar\u001b[49m\u001b[43m,\u001b[49m\n\u001b[0;32m   3980\u001b[0m \u001b[43m    \u001b[49m\u001b[43mstorage_options\u001b[49m\u001b[38;5;241;43m=\u001b[39;49m\u001b[43mstorage_options\u001b[49m\u001b[43m,\u001b[49m\n\u001b[0;32m   3981\u001b[0m \u001b[43m\u001b[49m\u001b[43m)\u001b[49m\n",
      "File \u001b[1;32mC:\\Program Files\\Python\\venv311_datascience\\Lib\\site-packages\\pandas\\io\\formats\\format.py:1014\u001b[0m, in \u001b[0;36mDataFrameRenderer.to_csv\u001b[1;34m(self, path_or_buf, encoding, sep, columns, index_label, mode, compression, quoting, quotechar, lineterminator, chunksize, date_format, doublequote, escapechar, errors, storage_options)\u001b[0m\n\u001b[0;32m    993\u001b[0m     created_buffer \u001b[38;5;241m=\u001b[39m \u001b[38;5;28;01mFalse\u001b[39;00m\n\u001b[0;32m    995\u001b[0m csv_formatter \u001b[38;5;241m=\u001b[39m CSVFormatter(\n\u001b[0;32m    996\u001b[0m     path_or_buf\u001b[38;5;241m=\u001b[39mpath_or_buf,\n\u001b[0;32m    997\u001b[0m     lineterminator\u001b[38;5;241m=\u001b[39mlineterminator,\n\u001b[1;32m   (...)\u001b[0m\n\u001b[0;32m   1012\u001b[0m     formatter\u001b[38;5;241m=\u001b[39m\u001b[38;5;28mself\u001b[39m\u001b[38;5;241m.\u001b[39mfmt,\n\u001b[0;32m   1013\u001b[0m )\n\u001b[1;32m-> 1014\u001b[0m \u001b[43mcsv_formatter\u001b[49m\u001b[38;5;241;43m.\u001b[39;49m\u001b[43msave\u001b[49m\u001b[43m(\u001b[49m\u001b[43m)\u001b[49m\n\u001b[0;32m   1016\u001b[0m \u001b[38;5;28;01mif\u001b[39;00m created_buffer:\n\u001b[0;32m   1017\u001b[0m     \u001b[38;5;28;01massert\u001b[39;00m \u001b[38;5;28misinstance\u001b[39m(path_or_buf, StringIO)\n",
      "File \u001b[1;32mC:\\Program Files\\Python\\venv311_datascience\\Lib\\site-packages\\pandas\\io\\formats\\csvs.py:251\u001b[0m, in \u001b[0;36mCSVFormatter.save\u001b[1;34m(self)\u001b[0m\n\u001b[0;32m    247\u001b[0m \u001b[38;5;250m\u001b[39m\u001b[38;5;124;03m\"\"\"\u001b[39;00m\n\u001b[0;32m    248\u001b[0m \u001b[38;5;124;03mCreate the writer & save.\u001b[39;00m\n\u001b[0;32m    249\u001b[0m \u001b[38;5;124;03m\"\"\"\u001b[39;00m\n\u001b[0;32m    250\u001b[0m \u001b[38;5;66;03m# apply compression and byte/text conversion\u001b[39;00m\n\u001b[1;32m--> 251\u001b[0m \u001b[38;5;28;01mwith\u001b[39;00m \u001b[43mget_handle\u001b[49m\u001b[43m(\u001b[49m\n\u001b[0;32m    252\u001b[0m \u001b[43m    \u001b[49m\u001b[38;5;28;43mself\u001b[39;49m\u001b[38;5;241;43m.\u001b[39;49m\u001b[43mfilepath_or_buffer\u001b[49m\u001b[43m,\u001b[49m\n\u001b[0;32m    253\u001b[0m \u001b[43m    \u001b[49m\u001b[38;5;28;43mself\u001b[39;49m\u001b[38;5;241;43m.\u001b[39;49m\u001b[43mmode\u001b[49m\u001b[43m,\u001b[49m\n\u001b[0;32m    254\u001b[0m \u001b[43m    \u001b[49m\u001b[43mencoding\u001b[49m\u001b[38;5;241;43m=\u001b[39;49m\u001b[38;5;28;43mself\u001b[39;49m\u001b[38;5;241;43m.\u001b[39;49m\u001b[43mencoding\u001b[49m\u001b[43m,\u001b[49m\n\u001b[0;32m    255\u001b[0m \u001b[43m    \u001b[49m\u001b[43merrors\u001b[49m\u001b[38;5;241;43m=\u001b[39;49m\u001b[38;5;28;43mself\u001b[39;49m\u001b[38;5;241;43m.\u001b[39;49m\u001b[43merrors\u001b[49m\u001b[43m,\u001b[49m\n\u001b[0;32m    256\u001b[0m \u001b[43m    \u001b[49m\u001b[43mcompression\u001b[49m\u001b[38;5;241;43m=\u001b[39;49m\u001b[38;5;28;43mself\u001b[39;49m\u001b[38;5;241;43m.\u001b[39;49m\u001b[43mcompression\u001b[49m\u001b[43m,\u001b[49m\n\u001b[0;32m    257\u001b[0m \u001b[43m    \u001b[49m\u001b[43mstorage_options\u001b[49m\u001b[38;5;241;43m=\u001b[39;49m\u001b[38;5;28;43mself\u001b[39;49m\u001b[38;5;241;43m.\u001b[39;49m\u001b[43mstorage_options\u001b[49m\u001b[43m,\u001b[49m\n\u001b[0;32m    258\u001b[0m \u001b[43m\u001b[49m\u001b[43m)\u001b[49m \u001b[38;5;28;01mas\u001b[39;00m handles:\n\u001b[0;32m    259\u001b[0m     \u001b[38;5;66;03m# Note: self.encoding is irrelevant here\u001b[39;00m\n\u001b[0;32m    260\u001b[0m     \u001b[38;5;28mself\u001b[39m\u001b[38;5;241m.\u001b[39mwriter \u001b[38;5;241m=\u001b[39m csvlib\u001b[38;5;241m.\u001b[39mwriter(\n\u001b[0;32m    261\u001b[0m         handles\u001b[38;5;241m.\u001b[39mhandle,\n\u001b[0;32m    262\u001b[0m         lineterminator\u001b[38;5;241m=\u001b[39m\u001b[38;5;28mself\u001b[39m\u001b[38;5;241m.\u001b[39mlineterminator,\n\u001b[1;32m   (...)\u001b[0m\n\u001b[0;32m    267\u001b[0m         quotechar\u001b[38;5;241m=\u001b[39m\u001b[38;5;28mself\u001b[39m\u001b[38;5;241m.\u001b[39mquotechar,\n\u001b[0;32m    268\u001b[0m     )\n\u001b[0;32m    270\u001b[0m     \u001b[38;5;28mself\u001b[39m\u001b[38;5;241m.\u001b[39m_save()\n",
      "File \u001b[1;32mC:\\Program Files\\Python\\venv311_datascience\\Lib\\site-packages\\pandas\\io\\common.py:873\u001b[0m, in \u001b[0;36mget_handle\u001b[1;34m(path_or_buf, mode, encoding, compression, memory_map, is_text, errors, storage_options)\u001b[0m\n\u001b[0;32m    868\u001b[0m \u001b[38;5;28;01melif\u001b[39;00m \u001b[38;5;28misinstance\u001b[39m(handle, \u001b[38;5;28mstr\u001b[39m):\n\u001b[0;32m    869\u001b[0m     \u001b[38;5;66;03m# Check whether the filename is to be opened in binary mode.\u001b[39;00m\n\u001b[0;32m    870\u001b[0m     \u001b[38;5;66;03m# Binary mode does not support 'encoding' and 'newline'.\u001b[39;00m\n\u001b[0;32m    871\u001b[0m     \u001b[38;5;28;01mif\u001b[39;00m ioargs\u001b[38;5;241m.\u001b[39mencoding \u001b[38;5;129;01mand\u001b[39;00m \u001b[38;5;124m\"\u001b[39m\u001b[38;5;124mb\u001b[39m\u001b[38;5;124m\"\u001b[39m \u001b[38;5;129;01mnot\u001b[39;00m \u001b[38;5;129;01min\u001b[39;00m ioargs\u001b[38;5;241m.\u001b[39mmode:\n\u001b[0;32m    872\u001b[0m         \u001b[38;5;66;03m# Encoding\u001b[39;00m\n\u001b[1;32m--> 873\u001b[0m         handle \u001b[38;5;241m=\u001b[39m \u001b[38;5;28;43mopen\u001b[39;49m\u001b[43m(\u001b[49m\n\u001b[0;32m    874\u001b[0m \u001b[43m            \u001b[49m\u001b[43mhandle\u001b[49m\u001b[43m,\u001b[49m\n\u001b[0;32m    875\u001b[0m \u001b[43m            \u001b[49m\u001b[43mioargs\u001b[49m\u001b[38;5;241;43m.\u001b[39;49m\u001b[43mmode\u001b[49m\u001b[43m,\u001b[49m\n\u001b[0;32m    876\u001b[0m \u001b[43m            \u001b[49m\u001b[43mencoding\u001b[49m\u001b[38;5;241;43m=\u001b[39;49m\u001b[43mioargs\u001b[49m\u001b[38;5;241;43m.\u001b[39;49m\u001b[43mencoding\u001b[49m\u001b[43m,\u001b[49m\n\u001b[0;32m    877\u001b[0m \u001b[43m            \u001b[49m\u001b[43merrors\u001b[49m\u001b[38;5;241;43m=\u001b[39;49m\u001b[43merrors\u001b[49m\u001b[43m,\u001b[49m\n\u001b[0;32m    878\u001b[0m \u001b[43m            \u001b[49m\u001b[43mnewline\u001b[49m\u001b[38;5;241;43m=\u001b[39;49m\u001b[38;5;124;43m\"\u001b[39;49m\u001b[38;5;124;43m\"\u001b[39;49m\u001b[43m,\u001b[49m\n\u001b[0;32m    879\u001b[0m \u001b[43m        \u001b[49m\u001b[43m)\u001b[49m\n\u001b[0;32m    880\u001b[0m     \u001b[38;5;28;01melse\u001b[39;00m:\n\u001b[0;32m    881\u001b[0m         \u001b[38;5;66;03m# Binary mode\u001b[39;00m\n\u001b[0;32m    882\u001b[0m         handle \u001b[38;5;241m=\u001b[39m \u001b[38;5;28mopen\u001b[39m(handle, ioargs\u001b[38;5;241m.\u001b[39mmode)\n",
      "\u001b[1;31mPermissionError\u001b[0m: [Errno 13] Permission denied: 'experiments/stacking_data/ypred_svr.csv'"
     ]
    }
   ],
   "source": [
    "data_dict = {'ypred_svr': y_pred_rescaled,\n",
    "            'ytest_svr': y_test_rescaled}\n",
    "\n",
    "df_data = pd.DataFrame(data_dict)\n",
    "\n",
    "df_data.to_csv('experiments/stacking_data/ypred_svr.csv')"
   ]
  },
  {
   "cell_type": "code",
   "execution_count": null,
   "id": "5a84f505-c634-4028-9474-6ff7bfe7c7da",
   "metadata": {},
   "outputs": [],
   "source": [
    "df_data"
   ]
  },
  {
   "cell_type": "code",
   "execution_count": null,
   "id": "0b7d69fa-d68d-47f5-8238-b60b08b95fa5",
   "metadata": {},
   "outputs": [],
   "source": [
    "df_variables[df_variables.index >= '2023-07-07 00:00:00+01:00'].head(10)"
   ]
  }
 ],
 "metadata": {
  "kernelspec": {
   "display_name": "Python 3 (ipykernel)",
   "language": "python",
   "name": "python3"
  },
  "language_info": {
   "codemirror_mode": {
    "name": "ipython",
    "version": 3
   },
   "file_extension": ".py",
   "mimetype": "text/x-python",
   "name": "python",
   "nbconvert_exporter": "python",
   "pygments_lexer": "ipython3",
   "version": "3.11.9"
  }
 },
 "nbformat": 4,
 "nbformat_minor": 5
}
