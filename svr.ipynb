{
 "cells": [
  {
   "cell_type": "markdown",
   "id": "ddb72d86-7f78-470f-b0ce-77d7809860b3",
   "metadata": {},
   "source": [
    "# Support Vector Regression"
   ]
  },
  {
   "cell_type": "markdown",
   "id": "2a3fc557-1634-4cbf-9d8c-0ee54333d0e8",
   "metadata": {},
   "source": [
    "### Library Import"
   ]
  },
  {
   "cell_type": "code",
   "execution_count": 1,
   "id": "0b3c3fb7-e861-4ea2-afb0-d1c9929ee712",
   "metadata": {},
   "outputs": [],
   "source": [
    "import pandas as pd\n",
    "import numpy as np\n",
    "\n",
    "from models.utility import load_input, scale_with_minmax, generate_sequences, get_dates_from_config, handle_outliers, get_params_from_config, convert_seq_to_df, dailydf_to_ts, inverse_transform_minmax, transform_dayofyear, split_dataframe \n",
    "from models.svr import SVReg\n",
    "from models.deeplearner import DeepLearner\n",
    "\n",
    "from solutil import evaluations\n",
    "\n",
    "from sklearn.model_selection import GridSearchCV\n",
    "from sklearn.svm import SVR"
   ]
  },
  {
   "cell_type": "markdown",
   "id": "90be9bc9-8cf5-46c1-b69e-4a1d19b4f187",
   "metadata": {},
   "source": [
    "### Input Preparation"
   ]
  },
  {
   "cell_type": "code",
   "execution_count": 2,
   "id": "ecc9fee9-b88d-42a6-b4ee-db2771caaef5",
   "metadata": {},
   "outputs": [],
   "source": [
    "# Define global variables\n",
    "str_model = 'inlet1_svr'"
   ]
  },
  {
   "cell_type": "code",
   "execution_count": 3,
   "id": "cb4ae9e9-c011-4fb0-8703-5b01f5103b5a",
   "metadata": {},
   "outputs": [],
   "source": [
    "# Load Input Parameters\n",
    "dates = get_dates_from_config(str_model)\n",
    "df_variables = load_input(str_model=str_model, **dates)"
   ]
  },
  {
   "cell_type": "code",
   "execution_count": 4,
   "id": "2efb3eed-d036-4107-abc7-34647a53baa7",
   "metadata": {},
   "outputs": [],
   "source": [
    "# Generate day-of-year sin and cos\n",
    "df_doy = transform_dayofyear(df_variables)"
   ]
  },
  {
   "cell_type": "code",
   "execution_count": 5,
   "id": "9dacfba5-ebd1-4770-a1fe-fc974ce07389",
   "metadata": {},
   "outputs": [
    {
     "name": "stdout",
     "output_type": "stream",
     "text": [
      "Variable base_lag0\n",
      "Variable base_1d_lag1\n",
      "Variable temp_1h_lag1\n",
      "Variable glob_1h_lag1\n",
      "Variable glob_1h_lag2\n",
      "Variable glob_1h_lag3\n",
      "Variable rain_1h_lag1\n",
      "Variable rain_1h_lag2\n",
      "Variable rain_1h_lag3\n",
      "Variable bf15_1h_lag0\n",
      "Variable bf15_1h_lag1\n",
      "Variable bf15_1h_lag2\n",
      "Variable bf15_1h_lag3\n",
      "Variable schmelz_1h_lag1\n",
      "Variable schmelz_1h_lag2\n",
      "Variable schmelz_1h_lag3\n",
      "Variable yearday_sin\n",
      "Variable yearday_cos\n"
     ]
    }
   ],
   "source": [
    "# Handle outliers\n",
    "df_handled = handle_outliers(df_doy)"
   ]
  },
  {
   "cell_type": "code",
   "execution_count": 6,
   "id": "3a8d1792-4408-422c-a578-91fc53a9c56d",
   "metadata": {},
   "outputs": [],
   "source": [
    "# Scale inputs\n",
    "df_scaled = scale_with_minmax(df_variables, str_model)"
   ]
  },
  {
   "cell_type": "code",
   "execution_count": 7,
   "id": "733e53aa-1176-4618-b572-556d520ea37d",
   "metadata": {},
   "outputs": [],
   "source": [
    "# Initialize SVReg class\n",
    "svr = SVReg()"
   ]
  },
  {
   "cell_type": "code",
   "execution_count": 8,
   "id": "974b95f4-34d3-406c-9178-f4ad67dba0c5",
   "metadata": {},
   "outputs": [],
   "source": [
    "df_label, model_names = svr.build_model_input(df=df_scaled, target_var='base_lag0', str_model=str_model, n_offset=None)"
   ]
  },
  {
   "cell_type": "code",
   "execution_count": 9,
   "id": "3f547cc8-7c1f-45c8-892e-ecbdc12af885",
   "metadata": {},
   "outputs": [],
   "source": [
    "# Train Test Split\n",
    "x_train, x_test, y_train, y_test = split_dataframe(df_label, target_var=model_names)"
   ]
  },
  {
   "cell_type": "markdown",
   "id": "63e39e74-4eae-48a9-9f67-c2d493dafc66",
   "metadata": {},
   "source": [
    "### Model Initiation & Training"
   ]
  },
  {
   "cell_type": "code",
   "execution_count": 10,
   "id": "8f651b56-3a30-4993-93d8-2d30e1273e02",
   "metadata": {},
   "outputs": [],
   "source": [
    "# Model 1\n",
    "ylabel = 'y_model1'\n",
    "y_train_i = y_train[ylabel]\n",
    "y_test_i = y_test[ylabel]"
   ]
  },
  {
   "cell_type": "code",
   "execution_count": 11,
   "id": "5475af07-d10b-4ffc-a4e0-8b062c141dc0",
   "metadata": {},
   "outputs": [
    {
     "data": {
      "text/plain": [
       "2021-03-02 00:00:00+01:00    0.337461\n",
       "2021-03-02 04:00:00+01:00    0.302359\n",
       "2021-03-02 08:00:00+01:00    0.277448\n",
       "2021-03-02 12:00:00+01:00    0.384733\n",
       "2021-03-02 16:00:00+01:00    0.391628\n",
       "                               ...   \n",
       "2023-06-30 16:00:00+01:00    0.381927\n",
       "2023-06-30 20:00:00+01:00    0.307276\n",
       "2023-07-01 00:00:00+01:00    0.270298\n",
       "2023-07-01 04:00:00+01:00    0.321231\n",
       "2023-07-01 08:00:00+01:00    0.527580\n",
       "Name: y_model1, Length: 4965, dtype: float64"
      ]
     },
     "execution_count": 11,
     "metadata": {},
     "output_type": "execute_result"
    }
   ],
   "source": [
    "y_train_i"
   ]
  },
  {
   "cell_type": "markdown",
   "id": "74b54bcb-968b-4e0e-ae11-f9535d40e164",
   "metadata": {},
   "source": [
    "#### Grid Search"
   ]
  },
  {
   "cell_type": "code",
   "execution_count": 20,
   "id": "46637db5-419a-4433-9232-bf8a33f1ff85",
   "metadata": {},
   "outputs": [],
   "source": [
    "# Define Grid Search hyperparameters\n",
    "hyperparams = {\n",
    "    'kernel': ['linear', 'rbf', 'poly', 'sigmoid'],\n",
    "    'degree': [2, 3, 4, 5],\n",
    "    'C': [0.001, 0.01, 0.1, 1, 10, 100, 1000],\n",
    "    'epsilon': [0.01, 0.05, 0.1, 0.2, 0.5]\n",
    "}\n",
    "\n",
    "hyperparams_short = {\n",
    "    'kernel': ['linear', 'rbf', 'poly', 'sigmoid'],\n",
    "    'C': [0.001, 0.01, 0.1, 1, 10, 100],\n",
    "    'epsilon': [0.01, 0.05, 0.1, 0.2]\n",
    "}"
   ]
  },
  {
   "cell_type": "code",
   "execution_count": 21,
   "id": "4cdfa4c1-58c7-4f7c-b240-f14c295644da",
   "metadata": {},
   "outputs": [],
   "source": [
    "# Parameterize Grid Search\n",
    "svreg = SVR()\n",
    "grid_search = GridSearchCV(svreg, param_grid=hyperparams_short, cv=3, scoring='neg_mean_squared_error', n_jobs=-1, verbose=2)"
   ]
  },
  {
   "cell_type": "markdown",
   "id": "ecb57c1b-4fb4-4646-ac41-1f9fbe844508",
   "metadata": {},
   "source": [
    "##### Model 1"
   ]
  },
  {
   "cell_type": "code",
   "execution_count": 36,
   "id": "17421a35-c167-44a6-846b-ff051859ef42",
   "metadata": {},
   "outputs": [
    {
     "name": "stdout",
     "output_type": "stream",
     "text": [
      "Fitting 3 folds for each of 96 candidates, totalling 288 fits\n"
     ]
    }
   ],
   "source": [
    "# Run Grid Search\n",
    "grid_results = grid_search.fit(x_train, y_train_i)"
   ]
  },
  {
   "cell_type": "code",
   "execution_count": 37,
   "id": "981982de-4f93-4b14-894d-3cd73f7c10af",
   "metadata": {},
   "outputs": [
    {
     "name": "stdout",
     "output_type": "stream",
     "text": [
      "Best parameter combination: {'C': 1, 'epsilon': 0.1, 'kernel': 'linear'} with score -0.03800726167273526\n"
     ]
    }
   ],
   "source": [
    "# Extract Best Hyperparameters\n",
    "best_params = grid_results.best_params_\n",
    "best_score = grid_results.best_score_\n",
    "\n",
    "print(f\"Best parameter combination: {best_params} with score {best_score}\")"
   ]
  },
  {
   "cell_type": "markdown",
   "id": "676e8620-6f62-4dfb-9b36-7bb54622663b",
   "metadata": {},
   "source": [
    "##### Model 2"
   ]
  },
  {
   "cell_type": "code",
   "execution_count": 25,
   "id": "73d2ca54-9a87-464b-960b-11a1a353003f",
   "metadata": {},
   "outputs": [
    {
     "name": "stdout",
     "output_type": "stream",
     "text": [
      "Fitting 3 folds for each of 96 candidates, totalling 288 fits\n"
     ]
    }
   ],
   "source": [
    "# Run Grid Search\n",
    "# grid_results_2 = grid_search.fit(x_train, y_train['y_model2'])"
   ]
  },
  {
   "cell_type": "code",
   "execution_count": 26,
   "id": "8cb86b3d-b75e-4ad5-9af9-11723ffaa7df",
   "metadata": {},
   "outputs": [
    {
     "name": "stdout",
     "output_type": "stream",
     "text": [
      "Best parameter combination: {'C': 1, 'epsilon': 0.1, 'kernel': 'linear'} with score -0.041869934032997824\n"
     ]
    }
   ],
   "source": [
    "# Extract Best Hyperparameters\n",
    "best_params_2 = grid_results_2.best_params_\n",
    "best_score_2 = grid_results_2.best_score_\n",
    "\n",
    "print(f\"Best parameter combination: {best_params_2} with score {best_score_2}\")"
   ]
  },
  {
   "cell_type": "markdown",
   "id": "ff1e2eb3-1601-4de1-ab4a-d06d25e567d9",
   "metadata": {},
   "source": [
    "##### Model 3"
   ]
  },
  {
   "cell_type": "code",
   "execution_count": 27,
   "id": "8807ba70-c9ac-4a53-ad9e-25f85f84c3b1",
   "metadata": {},
   "outputs": [
    {
     "name": "stdout",
     "output_type": "stream",
     "text": [
      "Fitting 3 folds for each of 96 candidates, totalling 288 fits\n"
     ]
    }
   ],
   "source": [
    "# Run Grid Search\n",
    "grid_results_3 = grid_search.fit(x_train, y_train['y_model3'])"
   ]
  },
  {
   "cell_type": "code",
   "execution_count": 28,
   "id": "9f2d4e1d-96c5-4774-b666-320f5100f41d",
   "metadata": {},
   "outputs": [
    {
     "name": "stdout",
     "output_type": "stream",
     "text": [
      "Best parameter combination: {'C': 1, 'epsilon': 0.1, 'kernel': 'linear'} with score -0.04502760694338035\n"
     ]
    }
   ],
   "source": [
    "# Extract Best Hyperparameters\n",
    "best_params_3 = grid_results_3.best_params_\n",
    "best_score_3 = grid_results_3.best_score_\n",
    "\n",
    "print(f\"Best parameter combination: {best_params_3} with score {best_score_3}\")"
   ]
  },
  {
   "cell_type": "markdown",
   "id": "a38b4539-7edf-46a6-b871-e7d296d64f7b",
   "metadata": {},
   "source": [
    "##### Model 4"
   ]
  },
  {
   "cell_type": "code",
   "execution_count": 29,
   "id": "16cfb342-766e-40f7-98fc-67dd374fa177",
   "metadata": {},
   "outputs": [
    {
     "name": "stdout",
     "output_type": "stream",
     "text": [
      "Fitting 3 folds for each of 96 candidates, totalling 288 fits\n"
     ]
    }
   ],
   "source": [
    "# Run Grid Search\n",
    "grid_results_4 = grid_search.fit(x_train, y_train['y_model4'])"
   ]
  },
  {
   "cell_type": "code",
   "execution_count": 30,
   "id": "ada128e9-96e2-48f5-bcb2-2244203126f6",
   "metadata": {},
   "outputs": [
    {
     "name": "stdout",
     "output_type": "stream",
     "text": [
      "Best parameter combination: {'C': 1, 'epsilon': 0.1, 'kernel': 'linear'} with score -0.048119012806047134\n"
     ]
    }
   ],
   "source": [
    "# Extract Best Hyperparameters\n",
    "best_params_4 = grid_results_4.best_params_\n",
    "best_score_4 = grid_results_4.best_score_\n",
    "\n",
    "print(f\"Best parameter combination: {best_params_4} with score {best_score_4}\")"
   ]
  },
  {
   "cell_type": "markdown",
   "id": "d3c99a06-83ec-428d-9e94-356df5d6ca60",
   "metadata": {},
   "source": [
    "##### Model 5"
   ]
  },
  {
   "cell_type": "code",
   "execution_count": 31,
   "id": "34f28f9e-9491-4984-887a-322cd254ef12",
   "metadata": {},
   "outputs": [
    {
     "name": "stdout",
     "output_type": "stream",
     "text": [
      "Fitting 3 folds for each of 96 candidates, totalling 288 fits\n"
     ]
    }
   ],
   "source": [
    "# Run Grid Search\n",
    "grid_results_5 = grid_search.fit(x_train, y_train['y_model5'])"
   ]
  },
  {
   "cell_type": "code",
   "execution_count": 32,
   "id": "b685537a-c344-4df3-8f1b-d431a0c5b971",
   "metadata": {},
   "outputs": [
    {
     "name": "stdout",
     "output_type": "stream",
     "text": [
      "Best parameter combination: {'C': 0.1, 'epsilon': 0.1, 'kernel': 'linear'} with score -0.05136023349829771\n"
     ]
    }
   ],
   "source": [
    "# Extract Best Hyperparameters\n",
    "best_params_5 = grid_results_5.best_params_\n",
    "best_score_5 = grid_results_5.best_score_\n",
    "\n",
    "print(f\"Best parameter combination: {best_params_5} with score {best_score_5}\")"
   ]
  },
  {
   "cell_type": "markdown",
   "id": "535817e3-533d-4b77-a897-3a22cf38951c",
   "metadata": {},
   "source": [
    "##### Model 6"
   ]
  },
  {
   "cell_type": "code",
   "execution_count": 33,
   "id": "b72ea789-2344-4195-a394-aba5f1eabe35",
   "metadata": {},
   "outputs": [
    {
     "name": "stdout",
     "output_type": "stream",
     "text": [
      "Fitting 3 folds for each of 96 candidates, totalling 288 fits\n"
     ]
    }
   ],
   "source": [
    "# Run Grid Search\n",
    "grid_results_6 = grid_search.fit(x_train, y_train['y_model6'])"
   ]
  },
  {
   "cell_type": "code",
   "execution_count": 34,
   "id": "6e2278f6-c4e7-4e71-a352-bbe64be10c20",
   "metadata": {},
   "outputs": [
    {
     "name": "stdout",
     "output_type": "stream",
     "text": [
      "Best parameter combination: {'C': 0.1, 'epsilon': 0.1, 'kernel': 'linear'} with score -0.054488840681791516\n"
     ]
    }
   ],
   "source": [
    "# Extract Best Hyperparameters\n",
    "best_params_6 = grid_results_6.best_params_\n",
    "best_score_6 = grid_results_6.best_score_\n",
    "\n",
    "print(f\"Best parameter combination: {best_params_6} with score {best_score_6}\")"
   ]
  },
  {
   "cell_type": "markdown",
   "id": "9de3752d-b6ca-454f-a5f0-c82f1bd2d656",
   "metadata": {},
   "source": [
    "#### Optimum Model Initiation"
   ]
  },
  {
   "cell_type": "code",
   "execution_count": 38,
   "id": "ea3aceba-f290-439d-8a20-f837bf9a435e",
   "metadata": {},
   "outputs": [],
   "source": [
    "# Fix Optimal Parameters based on Grid Search\n",
    "opt_params_1_2_3_4 = {\n",
    "    'C': 1,\n",
    "    'kernel': 'linear',\n",
    "    'epsilon': 0.1\n",
    "}\n",
    "\n",
    "opt_params_5_6 = {\n",
    "    'C': 0.1,\n",
    "    'kernel': 'linear',\n",
    "    'epsilon': 0.1\n",
    "}"
   ]
  },
  {
   "cell_type": "code",
   "execution_count": null,
   "id": "3b38741c-7a80-4ec2-9501-4a17a036cc96",
   "metadata": {},
   "outputs": [],
   "source": [
    "model_config = {\n",
    "    \"config1\": {\n",
    "        \"valid_for\": [],\n",
    "        \"hyperparams\": {\n",
    "                'C': 1,\n",
    "                'kernel': 'linear',\n",
    "                'epsilon': 0.1\n",
    "        }\n",
    "    }\n",
    "}"
   ]
  },
  {
   "cell_type": "code",
   "execution_count": 41,
   "id": "d28f4923-2f55-471e-ac3d-84734436d0cd",
   "metadata": {},
   "outputs": [
    {
     "data": {
      "text/html": [
       "<style>#sk-container-id-1 {\n",
       "  /* Definition of color scheme common for light and dark mode */\n",
       "  --sklearn-color-text: black;\n",
       "  --sklearn-color-line: gray;\n",
       "  /* Definition of color scheme for unfitted estimators */\n",
       "  --sklearn-color-unfitted-level-0: #fff5e6;\n",
       "  --sklearn-color-unfitted-level-1: #f6e4d2;\n",
       "  --sklearn-color-unfitted-level-2: #ffe0b3;\n",
       "  --sklearn-color-unfitted-level-3: chocolate;\n",
       "  /* Definition of color scheme for fitted estimators */\n",
       "  --sklearn-color-fitted-level-0: #f0f8ff;\n",
       "  --sklearn-color-fitted-level-1: #d4ebff;\n",
       "  --sklearn-color-fitted-level-2: #b3dbfd;\n",
       "  --sklearn-color-fitted-level-3: cornflowerblue;\n",
       "\n",
       "  /* Specific color for light theme */\n",
       "  --sklearn-color-text-on-default-background: var(--sg-text-color, var(--theme-code-foreground, var(--jp-content-font-color1, black)));\n",
       "  --sklearn-color-background: var(--sg-background-color, var(--theme-background, var(--jp-layout-color0, white)));\n",
       "  --sklearn-color-border-box: var(--sg-text-color, var(--theme-code-foreground, var(--jp-content-font-color1, black)));\n",
       "  --sklearn-color-icon: #696969;\n",
       "\n",
       "  @media (prefers-color-scheme: dark) {\n",
       "    /* Redefinition of color scheme for dark theme */\n",
       "    --sklearn-color-text-on-default-background: var(--sg-text-color, var(--theme-code-foreground, var(--jp-content-font-color1, white)));\n",
       "    --sklearn-color-background: var(--sg-background-color, var(--theme-background, var(--jp-layout-color0, #111)));\n",
       "    --sklearn-color-border-box: var(--sg-text-color, var(--theme-code-foreground, var(--jp-content-font-color1, white)));\n",
       "    --sklearn-color-icon: #878787;\n",
       "  }\n",
       "}\n",
       "\n",
       "#sk-container-id-1 {\n",
       "  color: var(--sklearn-color-text);\n",
       "}\n",
       "\n",
       "#sk-container-id-1 pre {\n",
       "  padding: 0;\n",
       "}\n",
       "\n",
       "#sk-container-id-1 input.sk-hidden--visually {\n",
       "  border: 0;\n",
       "  clip: rect(1px 1px 1px 1px);\n",
       "  clip: rect(1px, 1px, 1px, 1px);\n",
       "  height: 1px;\n",
       "  margin: -1px;\n",
       "  overflow: hidden;\n",
       "  padding: 0;\n",
       "  position: absolute;\n",
       "  width: 1px;\n",
       "}\n",
       "\n",
       "#sk-container-id-1 div.sk-dashed-wrapped {\n",
       "  border: 1px dashed var(--sklearn-color-line);\n",
       "  margin: 0 0.4em 0.5em 0.4em;\n",
       "  box-sizing: border-box;\n",
       "  padding-bottom: 0.4em;\n",
       "  background-color: var(--sklearn-color-background);\n",
       "}\n",
       "\n",
       "#sk-container-id-1 div.sk-container {\n",
       "  /* jupyter's `normalize.less` sets `[hidden] { display: none; }`\n",
       "     but bootstrap.min.css set `[hidden] { display: none !important; }`\n",
       "     so we also need the `!important` here to be able to override the\n",
       "     default hidden behavior on the sphinx rendered scikit-learn.org.\n",
       "     See: https://github.com/scikit-learn/scikit-learn/issues/21755 */\n",
       "  display: inline-block !important;\n",
       "  position: relative;\n",
       "}\n",
       "\n",
       "#sk-container-id-1 div.sk-text-repr-fallback {\n",
       "  display: none;\n",
       "}\n",
       "\n",
       "div.sk-parallel-item,\n",
       "div.sk-serial,\n",
       "div.sk-item {\n",
       "  /* draw centered vertical line to link estimators */\n",
       "  background-image: linear-gradient(var(--sklearn-color-text-on-default-background), var(--sklearn-color-text-on-default-background));\n",
       "  background-size: 2px 100%;\n",
       "  background-repeat: no-repeat;\n",
       "  background-position: center center;\n",
       "}\n",
       "\n",
       "/* Parallel-specific style estimator block */\n",
       "\n",
       "#sk-container-id-1 div.sk-parallel-item::after {\n",
       "  content: \"\";\n",
       "  width: 100%;\n",
       "  border-bottom: 2px solid var(--sklearn-color-text-on-default-background);\n",
       "  flex-grow: 1;\n",
       "}\n",
       "\n",
       "#sk-container-id-1 div.sk-parallel {\n",
       "  display: flex;\n",
       "  align-items: stretch;\n",
       "  justify-content: center;\n",
       "  background-color: var(--sklearn-color-background);\n",
       "  position: relative;\n",
       "}\n",
       "\n",
       "#sk-container-id-1 div.sk-parallel-item {\n",
       "  display: flex;\n",
       "  flex-direction: column;\n",
       "}\n",
       "\n",
       "#sk-container-id-1 div.sk-parallel-item:first-child::after {\n",
       "  align-self: flex-end;\n",
       "  width: 50%;\n",
       "}\n",
       "\n",
       "#sk-container-id-1 div.sk-parallel-item:last-child::after {\n",
       "  align-self: flex-start;\n",
       "  width: 50%;\n",
       "}\n",
       "\n",
       "#sk-container-id-1 div.sk-parallel-item:only-child::after {\n",
       "  width: 0;\n",
       "}\n",
       "\n",
       "/* Serial-specific style estimator block */\n",
       "\n",
       "#sk-container-id-1 div.sk-serial {\n",
       "  display: flex;\n",
       "  flex-direction: column;\n",
       "  align-items: center;\n",
       "  background-color: var(--sklearn-color-background);\n",
       "  padding-right: 1em;\n",
       "  padding-left: 1em;\n",
       "}\n",
       "\n",
       "\n",
       "/* Toggleable style: style used for estimator/Pipeline/ColumnTransformer box that is\n",
       "clickable and can be expanded/collapsed.\n",
       "- Pipeline and ColumnTransformer use this feature and define the default style\n",
       "- Estimators will overwrite some part of the style using the `sk-estimator` class\n",
       "*/\n",
       "\n",
       "/* Pipeline and ColumnTransformer style (default) */\n",
       "\n",
       "#sk-container-id-1 div.sk-toggleable {\n",
       "  /* Default theme specific background. It is overwritten whether we have a\n",
       "  specific estimator or a Pipeline/ColumnTransformer */\n",
       "  background-color: var(--sklearn-color-background);\n",
       "}\n",
       "\n",
       "/* Toggleable label */\n",
       "#sk-container-id-1 label.sk-toggleable__label {\n",
       "  cursor: pointer;\n",
       "  display: block;\n",
       "  width: 100%;\n",
       "  margin-bottom: 0;\n",
       "  padding: 0.5em;\n",
       "  box-sizing: border-box;\n",
       "  text-align: center;\n",
       "}\n",
       "\n",
       "#sk-container-id-1 label.sk-toggleable__label-arrow:before {\n",
       "  /* Arrow on the left of the label */\n",
       "  content: \"▸\";\n",
       "  float: left;\n",
       "  margin-right: 0.25em;\n",
       "  color: var(--sklearn-color-icon);\n",
       "}\n",
       "\n",
       "#sk-container-id-1 label.sk-toggleable__label-arrow:hover:before {\n",
       "  color: var(--sklearn-color-text);\n",
       "}\n",
       "\n",
       "/* Toggleable content - dropdown */\n",
       "\n",
       "#sk-container-id-1 div.sk-toggleable__content {\n",
       "  max-height: 0;\n",
       "  max-width: 0;\n",
       "  overflow: hidden;\n",
       "  text-align: left;\n",
       "  /* unfitted */\n",
       "  background-color: var(--sklearn-color-unfitted-level-0);\n",
       "}\n",
       "\n",
       "#sk-container-id-1 div.sk-toggleable__content.fitted {\n",
       "  /* fitted */\n",
       "  background-color: var(--sklearn-color-fitted-level-0);\n",
       "}\n",
       "\n",
       "#sk-container-id-1 div.sk-toggleable__content pre {\n",
       "  margin: 0.2em;\n",
       "  border-radius: 0.25em;\n",
       "  color: var(--sklearn-color-text);\n",
       "  /* unfitted */\n",
       "  background-color: var(--sklearn-color-unfitted-level-0);\n",
       "}\n",
       "\n",
       "#sk-container-id-1 div.sk-toggleable__content.fitted pre {\n",
       "  /* unfitted */\n",
       "  background-color: var(--sklearn-color-fitted-level-0);\n",
       "}\n",
       "\n",
       "#sk-container-id-1 input.sk-toggleable__control:checked~div.sk-toggleable__content {\n",
       "  /* Expand drop-down */\n",
       "  max-height: 200px;\n",
       "  max-width: 100%;\n",
       "  overflow: auto;\n",
       "}\n",
       "\n",
       "#sk-container-id-1 input.sk-toggleable__control:checked~label.sk-toggleable__label-arrow:before {\n",
       "  content: \"▾\";\n",
       "}\n",
       "\n",
       "/* Pipeline/ColumnTransformer-specific style */\n",
       "\n",
       "#sk-container-id-1 div.sk-label input.sk-toggleable__control:checked~label.sk-toggleable__label {\n",
       "  color: var(--sklearn-color-text);\n",
       "  background-color: var(--sklearn-color-unfitted-level-2);\n",
       "}\n",
       "\n",
       "#sk-container-id-1 div.sk-label.fitted input.sk-toggleable__control:checked~label.sk-toggleable__label {\n",
       "  background-color: var(--sklearn-color-fitted-level-2);\n",
       "}\n",
       "\n",
       "/* Estimator-specific style */\n",
       "\n",
       "/* Colorize estimator box */\n",
       "#sk-container-id-1 div.sk-estimator input.sk-toggleable__control:checked~label.sk-toggleable__label {\n",
       "  /* unfitted */\n",
       "  background-color: var(--sklearn-color-unfitted-level-2);\n",
       "}\n",
       "\n",
       "#sk-container-id-1 div.sk-estimator.fitted input.sk-toggleable__control:checked~label.sk-toggleable__label {\n",
       "  /* fitted */\n",
       "  background-color: var(--sklearn-color-fitted-level-2);\n",
       "}\n",
       "\n",
       "#sk-container-id-1 div.sk-label label.sk-toggleable__label,\n",
       "#sk-container-id-1 div.sk-label label {\n",
       "  /* The background is the default theme color */\n",
       "  color: var(--sklearn-color-text-on-default-background);\n",
       "}\n",
       "\n",
       "/* On hover, darken the color of the background */\n",
       "#sk-container-id-1 div.sk-label:hover label.sk-toggleable__label {\n",
       "  color: var(--sklearn-color-text);\n",
       "  background-color: var(--sklearn-color-unfitted-level-2);\n",
       "}\n",
       "\n",
       "/* Label box, darken color on hover, fitted */\n",
       "#sk-container-id-1 div.sk-label.fitted:hover label.sk-toggleable__label.fitted {\n",
       "  color: var(--sklearn-color-text);\n",
       "  background-color: var(--sklearn-color-fitted-level-2);\n",
       "}\n",
       "\n",
       "/* Estimator label */\n",
       "\n",
       "#sk-container-id-1 div.sk-label label {\n",
       "  font-family: monospace;\n",
       "  font-weight: bold;\n",
       "  display: inline-block;\n",
       "  line-height: 1.2em;\n",
       "}\n",
       "\n",
       "#sk-container-id-1 div.sk-label-container {\n",
       "  text-align: center;\n",
       "}\n",
       "\n",
       "/* Estimator-specific */\n",
       "#sk-container-id-1 div.sk-estimator {\n",
       "  font-family: monospace;\n",
       "  border: 1px dotted var(--sklearn-color-border-box);\n",
       "  border-radius: 0.25em;\n",
       "  box-sizing: border-box;\n",
       "  margin-bottom: 0.5em;\n",
       "  /* unfitted */\n",
       "  background-color: var(--sklearn-color-unfitted-level-0);\n",
       "}\n",
       "\n",
       "#sk-container-id-1 div.sk-estimator.fitted {\n",
       "  /* fitted */\n",
       "  background-color: var(--sklearn-color-fitted-level-0);\n",
       "}\n",
       "\n",
       "/* on hover */\n",
       "#sk-container-id-1 div.sk-estimator:hover {\n",
       "  /* unfitted */\n",
       "  background-color: var(--sklearn-color-unfitted-level-2);\n",
       "}\n",
       "\n",
       "#sk-container-id-1 div.sk-estimator.fitted:hover {\n",
       "  /* fitted */\n",
       "  background-color: var(--sklearn-color-fitted-level-2);\n",
       "}\n",
       "\n",
       "/* Specification for estimator info (e.g. \"i\" and \"?\") */\n",
       "\n",
       "/* Common style for \"i\" and \"?\" */\n",
       "\n",
       ".sk-estimator-doc-link,\n",
       "a:link.sk-estimator-doc-link,\n",
       "a:visited.sk-estimator-doc-link {\n",
       "  float: right;\n",
       "  font-size: smaller;\n",
       "  line-height: 1em;\n",
       "  font-family: monospace;\n",
       "  background-color: var(--sklearn-color-background);\n",
       "  border-radius: 1em;\n",
       "  height: 1em;\n",
       "  width: 1em;\n",
       "  text-decoration: none !important;\n",
       "  margin-left: 1ex;\n",
       "  /* unfitted */\n",
       "  border: var(--sklearn-color-unfitted-level-1) 1pt solid;\n",
       "  color: var(--sklearn-color-unfitted-level-1);\n",
       "}\n",
       "\n",
       ".sk-estimator-doc-link.fitted,\n",
       "a:link.sk-estimator-doc-link.fitted,\n",
       "a:visited.sk-estimator-doc-link.fitted {\n",
       "  /* fitted */\n",
       "  border: var(--sklearn-color-fitted-level-1) 1pt solid;\n",
       "  color: var(--sklearn-color-fitted-level-1);\n",
       "}\n",
       "\n",
       "/* On hover */\n",
       "div.sk-estimator:hover .sk-estimator-doc-link:hover,\n",
       ".sk-estimator-doc-link:hover,\n",
       "div.sk-label-container:hover .sk-estimator-doc-link:hover,\n",
       ".sk-estimator-doc-link:hover {\n",
       "  /* unfitted */\n",
       "  background-color: var(--sklearn-color-unfitted-level-3);\n",
       "  color: var(--sklearn-color-background);\n",
       "  text-decoration: none;\n",
       "}\n",
       "\n",
       "div.sk-estimator.fitted:hover .sk-estimator-doc-link.fitted:hover,\n",
       ".sk-estimator-doc-link.fitted:hover,\n",
       "div.sk-label-container:hover .sk-estimator-doc-link.fitted:hover,\n",
       ".sk-estimator-doc-link.fitted:hover {\n",
       "  /* fitted */\n",
       "  background-color: var(--sklearn-color-fitted-level-3);\n",
       "  color: var(--sklearn-color-background);\n",
       "  text-decoration: none;\n",
       "}\n",
       "\n",
       "/* Span, style for the box shown on hovering the info icon */\n",
       ".sk-estimator-doc-link span {\n",
       "  display: none;\n",
       "  z-index: 9999;\n",
       "  position: relative;\n",
       "  font-weight: normal;\n",
       "  right: .2ex;\n",
       "  padding: .5ex;\n",
       "  margin: .5ex;\n",
       "  width: min-content;\n",
       "  min-width: 20ex;\n",
       "  max-width: 50ex;\n",
       "  color: var(--sklearn-color-text);\n",
       "  box-shadow: 2pt 2pt 4pt #999;\n",
       "  /* unfitted */\n",
       "  background: var(--sklearn-color-unfitted-level-0);\n",
       "  border: .5pt solid var(--sklearn-color-unfitted-level-3);\n",
       "}\n",
       "\n",
       ".sk-estimator-doc-link.fitted span {\n",
       "  /* fitted */\n",
       "  background: var(--sklearn-color-fitted-level-0);\n",
       "  border: var(--sklearn-color-fitted-level-3);\n",
       "}\n",
       "\n",
       ".sk-estimator-doc-link:hover span {\n",
       "  display: block;\n",
       "}\n",
       "\n",
       "/* \"?\"-specific style due to the `<a>` HTML tag */\n",
       "\n",
       "#sk-container-id-1 a.estimator_doc_link {\n",
       "  float: right;\n",
       "  font-size: 1rem;\n",
       "  line-height: 1em;\n",
       "  font-family: monospace;\n",
       "  background-color: var(--sklearn-color-background);\n",
       "  border-radius: 1rem;\n",
       "  height: 1rem;\n",
       "  width: 1rem;\n",
       "  text-decoration: none;\n",
       "  /* unfitted */\n",
       "  color: var(--sklearn-color-unfitted-level-1);\n",
       "  border: var(--sklearn-color-unfitted-level-1) 1pt solid;\n",
       "}\n",
       "\n",
       "#sk-container-id-1 a.estimator_doc_link.fitted {\n",
       "  /* fitted */\n",
       "  border: var(--sklearn-color-fitted-level-1) 1pt solid;\n",
       "  color: var(--sklearn-color-fitted-level-1);\n",
       "}\n",
       "\n",
       "/* On hover */\n",
       "#sk-container-id-1 a.estimator_doc_link:hover {\n",
       "  /* unfitted */\n",
       "  background-color: var(--sklearn-color-unfitted-level-3);\n",
       "  color: var(--sklearn-color-background);\n",
       "  text-decoration: none;\n",
       "}\n",
       "\n",
       "#sk-container-id-1 a.estimator_doc_link.fitted:hover {\n",
       "  /* fitted */\n",
       "  background-color: var(--sklearn-color-fitted-level-3);\n",
       "}\n",
       "</style><div id=\"sk-container-id-1\" class=\"sk-top-container\"><div class=\"sk-text-repr-fallback\"><pre>SVR(C=1, kernel=&#x27;linear&#x27;)</pre><b>In a Jupyter environment, please rerun this cell to show the HTML representation or trust the notebook. <br />On GitHub, the HTML representation is unable to render, please try loading this page with nbviewer.org.</b></div><div class=\"sk-container\" hidden><div class=\"sk-item\"><div class=\"sk-estimator fitted sk-toggleable\"><input class=\"sk-toggleable__control sk-hidden--visually\" id=\"sk-estimator-id-1\" type=\"checkbox\" checked><label for=\"sk-estimator-id-1\" class=\"sk-toggleable__label fitted sk-toggleable__label-arrow fitted\">&nbsp;&nbsp;SVR<a class=\"sk-estimator-doc-link fitted\" rel=\"noreferrer\" target=\"_blank\" href=\"https://scikit-learn.org/1.4/modules/generated/sklearn.svm.SVR.html\">?<span>Documentation for SVR</span></a><span class=\"sk-estimator-doc-link fitted\">i<span>Fitted</span></span></label><div class=\"sk-toggleable__content fitted\"><pre>SVR(C=1, kernel=&#x27;linear&#x27;)</pre></div> </div></div></div></div>"
      ],
      "text/plain": [
       "SVR(C=1, kernel='linear')"
      ]
     },
     "execution_count": 41,
     "metadata": {},
     "output_type": "execute_result"
    }
   ],
   "source": [
    "sample_svr = SVR(**opt_params_1_2_3_4)\n",
    "sample_svr.fit(x_train, y_train['y_model1'])"
   ]
  },
  {
   "cell_type": "code",
   "execution_count": 54,
   "id": "3f9a3562-c4cd-4a98-9482-4a8f42639dad",
   "metadata": {},
   "outputs": [],
   "source": [
    "y_pred = sample_svr.predict(x_test)"
   ]
  },
  {
   "cell_type": "code",
   "execution_count": 55,
   "id": "ec51a5a5-7fa8-4135-bb90-3541319580e4",
   "metadata": {},
   "outputs": [],
   "source": [
    "# Rescale series\n",
    "y_pred_rescaled = inverse_transform_minmax(df_scaled=y_pred, str_model='inlet1_svr', attributes=['base_lag0']) # base_lag0 as foundation for y_model1\n",
    "y_test_rescaled = inverse_transform_minmax(df_scaled=y_test['y_model1'], str_model='inlet1_svr', attributes=['base_lag0'])"
   ]
  },
  {
   "cell_type": "code",
   "execution_count": 56,
   "id": "13139752-d438-428a-8917-6129a60cffb7",
   "metadata": {},
   "outputs": [
    {
     "data": {
      "image/png": "[encoded data removed]",
      "text/plain": [
       "<Figure size 640x480 with 1 Axes>"
      ]
     },
     "metadata": {},
     "output_type": "display_data"
    }
   ],
   "source": [
    "fig = evaluations.get_act_vs_pred_plot(y_test_rescaled, y_pred_rescaled)"
   ]
  },
  {
   "cell_type": "code",
   "execution_count": 57,
   "id": "aa1e6303-0f71-46f6-88ed-e0281f601507",
   "metadata": {},
   "outputs": [
    {
     "data": {
      "text/plain": [
       "{'mae': 0.5821296893090299,\n",
       " 'mse': 0.6367780437679472,\n",
       " 'rmse': 0.7979837365309818,\n",
       " 'mape': 0.5821296893090299,\n",
       " 'non-na%': 1.0,\n",
       " 'n_actual_obs': 2128,\n",
       " 'n_pred_nas': 0}"
      ]
     },
     "execution_count": 57,
     "metadata": {},
     "output_type": "execute_result"
    }
   ],
   "source": [
    "evaluations.get_eval_metrics(y_test_rescaled, y_pred_rescaled)"
   ]
  }
 ],
 "metadata": {
  "kernelspec": {
   "display_name": "Python 3 (ipykernel)",
   "language": "python",
   "name": "python3"
  },
  "language_info": {
   "codemirror_mode": {
    "name": "ipython",
    "version": 3
   },
   "file_extension": ".py",
   "mimetype": "text/x-python",
   "name": "python",
   "nbconvert_exporter": "python",
   "pygments_lexer": "ipython3",
   "version": "3.11.9"
  }
 },
 "nbformat": 4,
 "nbformat_minor": 5
}
